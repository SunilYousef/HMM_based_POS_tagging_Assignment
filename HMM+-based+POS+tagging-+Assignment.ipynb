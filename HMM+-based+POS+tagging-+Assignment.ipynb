{
 "cells": [
  {
   "cell_type": "markdown",
   "metadata": {},
   "source": [
    "## POS tagging using modified Viterbi"
   ]
  },
  {
   "cell_type": "markdown",
   "metadata": {},
   "source": [
    "#### Important Note:\n",
    "- Please download the test file Test_sentences.txt or similar file with same name and keep it in the same folder where this notebook is saved.\n",
    "- The Test_sentences.txt used for testing this program can be downloaded from <a href='https://cdn.upgrad.com/UpGrad/temp/9dca5f3b-53c3-47e1-86d5-5ec5dafad6f0/Test_sentences.txt'>here</a> "
   ]
  },
  {
   "cell_type": "code",
   "execution_count": 1,
   "metadata": {},
   "outputs": [
    {
     "name": "stderr",
     "output_type": "stream",
     "text": [
      "C:\\Users\\lenovo\\Anaconda3\\lib\\site-packages\\requests\\__init__.py:80: RequestsDependencyWarning: urllib3 (1.22) or chardet (2.3.0) doesn't match a supported version!\n",
      "  RequestsDependencyWarning)\n"
     ]
    }
   ],
   "source": [
    "\"\"\"\n",
    "###########################################################################################################################\n",
    "##  \n",
    "##  Program Name    : POS tagging using modified Viterbi\n",
    "##\n",
    "##  Description     : To modify the Viterbi algorithm to solve the problem of unknown words using at least two techniques.\n",
    "##\n",
    "##  Author          : Sunil Yousef\n",
    "##  \n",
    "###########################################################################################################################\n",
    "\"\"\"\n",
    "\n",
    "#Importing libraries\n",
    "import nltk, re, pprint\n",
    "import numpy as np\n",
    "import pandas as pd\n",
    "import requests\n",
    "import matplotlib.pyplot as plt\n",
    "import seaborn as sns\n",
    "import pprint, time\n",
    "import random\n",
    "from sklearn.model_selection import train_test_split\n",
    "from nltk.tokenize import word_tokenize"
   ]
  },
  {
   "cell_type": "markdown",
   "metadata": {},
   "source": [
    "## Data Preparation"
   ]
  },
  {
   "cell_type": "markdown",
   "metadata": {},
   "source": [
    "Reading the Treebank dataset of NLTK with the 'universal' tagset. \n",
    "- The Universal tagset of NLTK comprises only 12 coarse tag classes as follows: Verb, Noun, Pronouns, Adjectives, Adverbs, Adpositions, Conjunctions, Determiners, Cardinal Numbers, Particles, Other/ Foreign words, Punctuations.\n",
    "- Note that using only 12 coarse classes (compared to the 46 fine classes such as NNP, VBD etc.) will make the Viterbi algorithm faster as well."
   ]
  },
  {
   "cell_type": "code",
   "execution_count": 2,
   "metadata": {},
   "outputs": [],
   "source": [
    "# reading the Treebank tagged sentences\n",
    "nltk_data = list(nltk.corpus.treebank.tagged_sents(tagset='universal'))"
   ]
  },
  {
   "cell_type": "code",
   "execution_count": 3,
   "metadata": {},
   "outputs": [
    {
     "name": "stdout",
     "output_type": "stream",
     "text": [
      "[[('Pierre', 'NOUN'), ('Vinken', 'NOUN'), (',', '.'), ('61', 'NUM'), ('years', 'NOUN'), ('old', 'ADJ'), (',', '.'), ('will', 'VERB'), ('join', 'VERB'), ('the', 'DET'), ('board', 'NOUN'), ('as', 'ADP'), ('a', 'DET'), ('nonexecutive', 'ADJ'), ('director', 'NOUN'), ('Nov.', 'NOUN'), ('29', 'NUM'), ('.', '.')], [('Mr.', 'NOUN'), ('Vinken', 'NOUN'), ('is', 'VERB'), ('chairman', 'NOUN'), ('of', 'ADP'), ('Elsevier', 'NOUN'), ('N.V.', 'NOUN'), (',', '.'), ('the', 'DET'), ('Dutch', 'NOUN'), ('publishing', 'VERB'), ('group', 'NOUN'), ('.', '.')], [('Rudolph', 'NOUN'), ('Agnew', 'NOUN'), (',', '.'), ('55', 'NUM'), ('years', 'NOUN'), ('old', 'ADJ'), ('and', 'CONJ'), ('former', 'ADJ'), ('chairman', 'NOUN'), ('of', 'ADP'), ('Consolidated', 'NOUN'), ('Gold', 'NOUN'), ('Fields', 'NOUN'), ('PLC', 'NOUN'), (',', '.'), ('was', 'VERB'), ('named', 'VERB'), ('*-1', 'X'), ('a', 'DET'), ('nonexecutive', 'ADJ'), ('director', 'NOUN'), ('of', 'ADP'), ('this', 'DET'), ('British', 'ADJ'), ('industrial', 'ADJ'), ('conglomerate', 'NOUN'), ('.', '.')], [('A', 'DET'), ('form', 'NOUN'), ('of', 'ADP'), ('asbestos', 'NOUN'), ('once', 'ADV'), ('used', 'VERB'), ('*', 'X'), ('*', 'X'), ('to', 'PRT'), ('make', 'VERB'), ('Kent', 'NOUN'), ('cigarette', 'NOUN'), ('filters', 'NOUN'), ('has', 'VERB'), ('caused', 'VERB'), ('a', 'DET'), ('high', 'ADJ'), ('percentage', 'NOUN'), ('of', 'ADP'), ('cancer', 'NOUN'), ('deaths', 'NOUN'), ('among', 'ADP'), ('a', 'DET'), ('group', 'NOUN'), ('of', 'ADP'), ('workers', 'NOUN'), ('exposed', 'VERB'), ('*', 'X'), ('to', 'PRT'), ('it', 'PRON'), ('more', 'ADV'), ('than', 'ADP'), ('30', 'NUM'), ('years', 'NOUN'), ('ago', 'ADP'), (',', '.'), ('researchers', 'NOUN'), ('reported', 'VERB'), ('0', 'X'), ('*T*-1', 'X'), ('.', '.')], [('The', 'DET'), ('asbestos', 'NOUN'), ('fiber', 'NOUN'), (',', '.'), ('crocidolite', 'NOUN'), (',', '.'), ('is', 'VERB'), ('unusually', 'ADV'), ('resilient', 'ADJ'), ('once', 'ADP'), ('it', 'PRON'), ('enters', 'VERB'), ('the', 'DET'), ('lungs', 'NOUN'), (',', '.'), ('with', 'ADP'), ('even', 'ADV'), ('brief', 'ADJ'), ('exposures', 'NOUN'), ('to', 'PRT'), ('it', 'PRON'), ('causing', 'VERB'), ('symptoms', 'NOUN'), ('that', 'DET'), ('*T*-1', 'X'), ('show', 'VERB'), ('up', 'PRT'), ('decades', 'NOUN'), ('later', 'ADJ'), (',', '.'), ('researchers', 'NOUN'), ('said', 'VERB'), ('0', 'X'), ('*T*-2', 'X'), ('.', '.')], [('Lorillard', 'NOUN'), ('Inc.', 'NOUN'), (',', '.'), ('the', 'DET'), ('unit', 'NOUN'), ('of', 'ADP'), ('New', 'ADJ'), ('York-based', 'ADJ'), ('Loews', 'NOUN'), ('Corp.', 'NOUN'), ('that', 'DET'), ('*T*-2', 'X'), ('makes', 'VERB'), ('Kent', 'NOUN'), ('cigarettes', 'NOUN'), (',', '.'), ('stopped', 'VERB'), ('using', 'VERB'), ('crocidolite', 'NOUN'), ('in', 'ADP'), ('its', 'PRON'), ('Micronite', 'NOUN'), ('cigarette', 'NOUN'), ('filters', 'NOUN'), ('in', 'ADP'), ('1956', 'NUM'), ('.', '.')], [('Although', 'ADP'), ('preliminary', 'ADJ'), ('findings', 'NOUN'), ('were', 'VERB'), ('reported', 'VERB'), ('*-2', 'X'), ('more', 'ADV'), ('than', 'ADP'), ('a', 'DET'), ('year', 'NOUN'), ('ago', 'ADP'), (',', '.'), ('the', 'DET'), ('latest', 'ADJ'), ('results', 'NOUN'), ('appear', 'VERB'), ('in', 'ADP'), ('today', 'NOUN'), (\"'s\", 'PRT'), ('New', 'NOUN'), ('England', 'NOUN'), ('Journal', 'NOUN'), ('of', 'ADP'), ('Medicine', 'NOUN'), (',', '.'), ('a', 'DET'), ('forum', 'NOUN'), ('likely', 'ADJ'), ('*', 'X'), ('to', 'PRT'), ('bring', 'VERB'), ('new', 'ADJ'), ('attention', 'NOUN'), ('to', 'PRT'), ('the', 'DET'), ('problem', 'NOUN'), ('.', '.')], [('A', 'DET'), ('Lorillard', 'NOUN'), ('spokewoman', 'NOUN'), ('said', 'VERB'), (',', '.'), ('``', '.'), ('This', 'DET'), ('is', 'VERB'), ('an', 'DET'), ('old', 'ADJ'), ('story', 'NOUN'), ('.', '.')], [('We', 'PRON'), (\"'re\", 'VERB'), ('talking', 'VERB'), ('about', 'ADP'), ('years', 'NOUN'), ('ago', 'ADP'), ('before', 'ADP'), ('anyone', 'NOUN'), ('heard', 'VERB'), ('of', 'ADP'), ('asbestos', 'NOUN'), ('having', 'VERB'), ('any', 'DET'), ('questionable', 'ADJ'), ('properties', 'NOUN'), ('.', '.')], [('There', 'DET'), ('is', 'VERB'), ('no', 'DET'), ('asbestos', 'NOUN'), ('in', 'ADP'), ('our', 'PRON'), ('products', 'NOUN'), ('now', 'ADV'), ('.', '.'), (\"''\", '.')], [('Neither', 'DET'), ('Lorillard', 'NOUN'), ('nor', 'CONJ'), ('the', 'DET'), ('researchers', 'NOUN'), ('who', 'PRON'), ('*T*-3', 'X'), ('studied', 'VERB'), ('the', 'DET'), ('workers', 'NOUN'), ('were', 'VERB'), ('aware', 'ADJ'), ('of', 'ADP'), ('any', 'DET'), ('research', 'NOUN'), ('on', 'ADP'), ('smokers', 'NOUN'), ('of', 'ADP'), ('the', 'DET'), ('Kent', 'NOUN'), ('cigarettes', 'NOUN'), ('.', '.')], [('``', '.'), ('We', 'PRON'), ('have', 'VERB'), ('no', 'DET'), ('useful', 'ADJ'), ('information', 'NOUN'), ('on', 'ADP'), ('whether', 'ADP'), ('users', 'NOUN'), ('are', 'VERB'), ('at', 'ADP'), ('risk', 'NOUN'), (',', '.'), (\"''\", '.'), ('said', 'VERB'), ('*T*-1', 'X'), ('James', 'NOUN'), ('A.', 'NOUN'), ('Talcott', 'NOUN'), ('of', 'ADP'), ('Boston', 'NOUN'), (\"'s\", 'PRT'), ('Dana-Farber', 'NOUN'), ('Cancer', 'NOUN'), ('Institute', 'NOUN'), ('.', '.')], [('Dr.', 'NOUN'), ('Talcott', 'NOUN'), ('led', 'VERB'), ('a', 'DET'), ('team', 'NOUN'), ('of', 'ADP'), ('researchers', 'NOUN'), ('from', 'ADP'), ('the', 'DET'), ('National', 'NOUN'), ('Cancer', 'NOUN'), ('Institute', 'NOUN'), ('and', 'CONJ'), ('the', 'DET'), ('medical', 'ADJ'), ('schools', 'NOUN'), ('of', 'ADP'), ('Harvard', 'NOUN'), ('University', 'NOUN'), ('and', 'CONJ'), ('Boston', 'NOUN'), ('University', 'NOUN'), ('.', '.')], [('The', 'DET'), ('Lorillard', 'NOUN'), ('spokeswoman', 'NOUN'), ('said', 'VERB'), ('0', 'X'), ('asbestos', 'NOUN'), ('was', 'VERB'), ('used', 'VERB'), ('*-1', 'X'), ('in', 'ADP'), ('``', '.'), ('very', 'ADV'), ('modest', 'ADJ'), ('amounts', 'NOUN'), (\"''\", '.'), ('in', 'ADP'), ('*', 'X'), ('making', 'VERB'), ('paper', 'NOUN'), ('for', 'ADP'), ('the', 'DET'), ('filters', 'NOUN'), ('in', 'ADP'), ('the', 'DET'), ('early', 'ADJ'), ('1950s', 'NUM'), ('and', 'CONJ'), ('replaced', 'VERB'), ('*-1', 'X'), ('with', 'ADP'), ('a', 'DET'), ('different', 'ADJ'), ('type', 'NOUN'), ('of', 'ADP'), ('filter', 'NOUN'), ('in', 'ADP'), ('1956', 'NUM'), ('.', '.')], [('From', 'ADP'), ('1953', 'NUM'), ('to', 'PRT'), ('1955', 'NUM'), (',', '.'), ('9.8', 'NUM'), ('billion', 'NUM'), ('Kent', 'NOUN'), ('cigarettes', 'NOUN'), ('with', 'ADP'), ('the', 'DET'), ('filters', 'NOUN'), ('were', 'VERB'), ('sold', 'VERB'), ('*-3', 'X'), (',', '.'), ('the', 'DET'), ('company', 'NOUN'), ('said', 'VERB'), ('0', 'X'), ('*T*-1', 'X'), ('.', '.')], [('Among', 'ADP'), ('33', 'NUM'), ('men', 'NOUN'), ('who', 'PRON'), ('*T*-4', 'X'), ('worked', 'VERB'), ('closely', 'ADV'), ('with', 'ADP'), ('the', 'DET'), ('substance', 'NOUN'), (',', '.'), ('28', 'NUM'), ('*ICH*-1', 'X'), ('have', 'VERB'), ('died', 'VERB'), ('--', '.'), ('more', 'ADJ'), ('than', 'ADP'), ('three', 'NUM'), ('times', 'NOUN'), ('the', 'DET'), ('expected', 'VERB'), ('number', 'NOUN'), ('.', '.')], [('Four', 'NUM'), ('of', 'ADP'), ('the', 'DET'), ('five', 'NUM'), ('surviving', 'VERB'), ('workers', 'NOUN'), ('have', 'VERB'), ('asbestos-related', 'ADJ'), ('diseases', 'NOUN'), (',', '.'), ('including', 'VERB'), ('three', 'NUM'), ('with', 'ADP'), ('recently', 'ADV'), ('diagnosed', 'VERB'), ('cancer', 'NOUN'), ('.', '.')], [('The', 'DET'), ('total', 'NOUN'), ('of', 'ADP'), ('18', 'NUM'), ('deaths', 'NOUN'), ('from', 'ADP'), ('malignant', 'ADJ'), ('mesothelioma', 'NOUN'), (',', '.'), ('lung', 'NOUN'), ('cancer', 'NOUN'), ('and', 'CONJ'), ('asbestosis', 'NOUN'), ('was', 'VERB'), ('far', 'ADV'), ('higher', 'ADJ'), ('than', 'ADP'), ('*', 'X'), ('expected', 'VERB'), ('*?*', 'X'), (',', '.'), ('the', 'DET'), ('researchers', 'NOUN'), ('said', 'VERB'), ('0', 'X'), ('*T*-1', 'X'), ('.', '.')], [('``', '.'), ('The', 'DET'), ('morbidity', 'NOUN'), ('rate', 'NOUN'), ('is', 'VERB'), ('a', 'DET'), ('striking', 'ADJ'), ('finding', 'NOUN'), ('among', 'ADP'), ('those', 'DET'), ('of', 'ADP'), ('us', 'PRON'), ('who', 'PRON'), ('*T*-5', 'X'), ('study', 'VERB'), ('asbestos-related', 'ADJ'), ('diseases', 'NOUN'), (',', '.'), (\"''\", '.'), ('said', 'VERB'), ('*T*-1', 'X'), ('Dr.', 'NOUN'), ('Talcott', 'NOUN'), ('.', '.')], [('The', 'DET'), ('percentage', 'NOUN'), ('of', 'ADP'), ('lung', 'NOUN'), ('cancer', 'NOUN'), ('deaths', 'NOUN'), ('among', 'ADP'), ('the', 'DET'), ('workers', 'NOUN'), ('at', 'ADP'), ('the', 'DET'), ('West', 'NOUN'), ('Groton', 'NOUN'), (',', '.'), ('Mass.', 'NOUN'), (',', '.'), ('paper', 'NOUN'), ('factory', 'NOUN'), ('appears', 'VERB'), ('*-1', 'X'), ('to', 'PRT'), ('be', 'VERB'), ('the', 'DET'), ('highest', 'ADJ'), ('for', 'ADP'), ('any', 'DET'), ('asbestos', 'NOUN'), ('workers', 'NOUN'), ('studied', 'VERB'), ('*', 'X'), ('in', 'ADP'), ('Western', 'ADJ'), ('industrialized', 'VERB'), ('countries', 'NOUN'), (',', '.'), ('he', 'PRON'), ('said', 'VERB'), ('0', 'X'), ('*T*-2', 'X'), ('.', '.')], [('The', 'DET'), ('plant', 'NOUN'), (',', '.'), ('which', 'DET'), ('*T*-1', 'X'), ('is', 'VERB'), ('owned', 'VERB'), ('*-4', 'X'), ('by', 'ADP'), ('Hollingsworth', 'NOUN'), ('&', 'CONJ'), ('Vose', 'NOUN'), ('Co.', 'NOUN'), (',', '.'), ('was', 'VERB'), ('under', 'ADP'), ('contract', 'NOUN'), ('*ICH*-2', 'X'), ('with', 'ADP'), ('Lorillard', 'NOUN'), ('*', 'X'), ('to', 'PRT'), ('make', 'VERB'), ('the', 'DET'), ('cigarette', 'NOUN'), ('filters', 'NOUN'), ('.', '.')], [('The', 'DET'), ('finding', 'NOUN'), ('probably', 'ADV'), ('will', 'VERB'), ('support', 'VERB'), ('those', 'DET'), ('who', 'PRON'), ('*T*-6', 'X'), ('argue', 'VERB'), ('that', 'ADP'), ('the', 'DET'), ('U.S.', 'NOUN'), ('should', 'VERB'), ('regulate', 'VERB'), ('the', 'DET'), ('class', 'NOUN'), ('of', 'ADP'), ('asbestos', 'NOUN'), ('including', 'VERB'), ('crocidolite', 'NOUN'), ('more', 'ADV'), ('stringently', 'ADV'), ('than', 'ADP'), ('the', 'DET'), ('common', 'ADJ'), ('kind', 'NOUN'), ('of', 'ADP'), ('asbestos', 'NOUN'), (',', '.'), ('chrysotile', 'NOUN'), (',', '.'), ('found', 'VERB'), ('*', 'X'), ('in', 'ADP'), ('most', 'ADJ'), ('schools', 'NOUN'), ('and', 'CONJ'), ('other', 'ADJ'), ('buildings', 'NOUN'), (',', '.'), ('Dr.', 'NOUN'), ('Talcott', 'NOUN'), ('said', 'VERB'), ('0', 'X'), ('*T*-1', 'X'), ('.', '.')], [('The', 'DET'), ('U.S.', 'NOUN'), ('is', 'VERB'), ('one', 'NUM'), ('of', 'ADP'), ('the', 'DET'), ('few', 'ADJ'), ('industrialized', 'VERB'), ('nations', 'NOUN'), ('that', 'DET'), ('*T*-7', 'X'), ('does', 'VERB'), (\"n't\", 'ADV'), ('have', 'VERB'), ('a', 'DET'), ('higher', 'ADJ'), ('standard', 'NOUN'), ('of', 'ADP'), ('regulation', 'NOUN'), ('for', 'ADP'), ('the', 'DET'), ('smooth', 'ADJ'), (',', '.'), ('needle-like', 'ADJ'), ('fibers', 'NOUN'), ('such', 'ADJ'), ('as', 'ADP'), ('crocidolite', 'NOUN'), ('that', 'DET'), ('*T*-1', 'X'), ('are', 'VERB'), ('classified', 'VERB'), ('*-5', 'X'), ('as', 'ADP'), ('amphobiles', 'NOUN'), (',', '.'), ('according', 'VERB'), ('to', 'PRT'), ('Brooke', 'NOUN'), ('T.', 'NOUN'), ('Mossman', 'NOUN'), (',', '.'), ('a', 'DET'), ('professor', 'NOUN'), ('of', 'ADP'), ('pathlogy', 'NOUN'), ('at', 'ADP'), ('the', 'DET'), ('University', 'NOUN'), ('of', 'ADP'), ('Vermont', 'NOUN'), ('College', 'NOUN'), ('of', 'ADP'), ('Medicine', 'NOUN'), ('.', '.')], [('More', 'ADV'), ('common', 'ADJ'), ('chrysotile', 'NOUN'), ('fibers', 'NOUN'), ('are', 'VERB'), ('curly', 'ADJ'), ('and', 'CONJ'), ('are', 'VERB'), ('more', 'ADV'), ('easily', 'ADV'), ('rejected', 'VERB'), ('*-1', 'X'), ('by', 'ADP'), ('the', 'DET'), ('body', 'NOUN'), (',', '.'), ('Dr.', 'NOUN'), ('Mossman', 'NOUN'), ('explained', 'VERB'), ('0', 'X'), ('*T*-2', 'X'), ('.', '.')], [('In', 'ADP'), ('July', 'NOUN'), (',', '.'), ('the', 'DET'), ('Environmental', 'NOUN'), ('Protection', 'NOUN'), ('Agency', 'NOUN'), ('imposed', 'VERB'), ('a', 'DET'), ('gradual', 'ADJ'), ('ban', 'NOUN'), ('on', 'ADP'), ('virtually', 'ADV'), ('all', 'DET'), ('uses', 'NOUN'), ('of', 'ADP'), ('asbestos', 'NOUN'), ('.', '.')], [('By', 'ADP'), ('1997', 'NUM'), (',', '.'), ('almost', 'ADV'), ('all', 'DET'), ('remaining', 'VERB'), ('uses', 'NOUN'), ('of', 'ADP'), ('cancer-causing', 'ADJ'), ('asbestos', 'NOUN'), ('will', 'VERB'), ('be', 'VERB'), ('outlawed', 'VERB'), ('*-6', 'X'), ('.', '.')], [('About', 'ADP'), ('160', 'NUM'), ('workers', 'NOUN'), ('at', 'ADP'), ('a', 'DET'), ('factory', 'NOUN'), ('that', 'DET'), ('*T*-8', 'X'), ('made', 'VERB'), ('paper', 'NOUN'), ('for', 'ADP'), ('the', 'DET'), ('Kent', 'NOUN'), ('filters', 'NOUN'), ('were', 'VERB'), ('exposed', 'VERB'), ('*-7', 'X'), ('to', 'PRT'), ('asbestos', 'NOUN'), ('in', 'ADP'), ('the', 'DET'), ('1950s', 'NUM'), ('.', '.')], [('Areas', 'NOUN'), ('of', 'ADP'), ('the', 'DET'), ('factory', 'NOUN'), ('*ICH*-2', 'X'), ('were', 'VERB'), ('particularly', 'ADV'), ('dusty', 'ADJ'), ('where', 'ADV'), ('the', 'DET'), ('crocidolite', 'NOUN'), ('was', 'VERB'), ('used', 'VERB'), ('*-8', 'X'), ('*T*-1', 'X'), ('.', '.')], [('Workers', 'NOUN'), ('dumped', 'VERB'), ('large', 'ADJ'), ('burlap', 'NOUN'), ('sacks', 'NOUN'), ('of', 'ADP'), ('the', 'DET'), ('imported', 'VERB'), ('material', 'NOUN'), ('into', 'ADP'), ('a', 'DET'), ('huge', 'ADJ'), ('bin', 'NOUN'), (',', '.'), ('poured', 'VERB'), ('in', 'PRT'), ('cotton', 'NOUN'), ('and', 'CONJ'), ('acetate', 'NOUN'), ('fibers', 'NOUN'), ('and', 'CONJ'), ('mechanically', 'ADV'), ('mixed', 'VERB'), ('the', 'DET'), ('dry', 'ADJ'), ('fibers', 'NOUN'), ('in', 'ADP'), ('a', 'DET'), ('process', 'NOUN'), ('used', 'VERB'), ('*', 'X'), ('*', 'X'), ('to', 'PRT'), ('make', 'VERB'), ('filters', 'NOUN'), ('.', '.')], [('Workers', 'NOUN'), ('described', 'VERB'), ('``', '.'), ('clouds', 'NOUN'), ('of', 'ADP'), ('blue', 'ADJ'), ('dust', 'NOUN'), (\"''\", '.'), ('that', 'DET'), ('*T*-1', 'X'), ('hung', 'VERB'), ('over', 'ADP'), ('parts', 'NOUN'), ('of', 'ADP'), ('the', 'DET'), ('factory', 'NOUN'), (',', '.'), ('even', 'ADV'), ('though', 'ADP'), ('exhaust', 'NOUN'), ('fans', 'NOUN'), ('ventilated', 'VERB'), ('the', 'DET'), ('area', 'NOUN'), ('.', '.')], [('``', '.'), ('There', 'DET'), (\"'s\", 'VERB'), ('no', 'DET'), ('question', 'NOUN'), ('that', 'ADP'), ('some', 'DET'), ('of', 'ADP'), ('those', 'DET'), ('workers', 'NOUN'), ('and', 'CONJ'), ('managers', 'NOUN'), ('contracted', 'VERB'), ('asbestos-related', 'ADJ'), ('diseases', 'NOUN'), (',', '.'), (\"''\", '.'), ('said', 'VERB'), ('*T*-1', 'X'), ('Darrell', 'NOUN'), ('Phillips', 'NOUN'), (',', '.'), ('vice', 'NOUN'), ('president', 'NOUN'), ('of', 'ADP'), ('human', 'ADJ'), ('resources', 'NOUN'), ('for', 'ADP'), ('Hollingsworth', 'NOUN'), ('&', 'CONJ'), ('Vose', 'NOUN'), ('.', '.')], [('``', '.'), ('But', 'CONJ'), ('you', 'PRON'), ('have', 'VERB'), ('*-1', 'X'), ('to', 'PRT'), ('recognize', 'VERB'), ('that', 'ADP'), ('these', 'DET'), ('events', 'NOUN'), ('took', 'VERB'), ('place', 'NOUN'), ('35', 'NUM'), ('years', 'NOUN'), ('ago', 'ADP'), ('.', '.')], [('It', 'PRON'), ('has', 'VERB'), ('no', 'DET'), ('bearing', 'NOUN'), ('on', 'ADP'), ('our', 'PRON'), ('work', 'NOUN'), ('force', 'NOUN'), ('today', 'NOUN'), ('.', '.')], [('Yields', 'NOUN'), ('on', 'ADP'), ('money-market', 'ADJ'), ('mutual', 'ADJ'), ('funds', 'NOUN'), ('continued', 'VERB'), ('*-1', 'X'), ('to', 'PRT'), ('slide', 'VERB'), (',', '.'), ('amid', 'ADP'), ('signs', 'NOUN'), ('that', 'ADP'), ('portfolio', 'NOUN'), ('managers', 'NOUN'), ('expect', 'VERB'), ('further', 'ADJ'), ('declines', 'NOUN'), ('in', 'ADP'), ('interest', 'NOUN'), ('rates', 'NOUN'), ('.', '.')], [('The', 'DET'), ('average', 'ADJ'), ('seven-day', 'ADJ'), ('compound', 'NOUN'), ('yield', 'NOUN'), ('of', 'ADP'), ('the', 'DET'), ('400', 'NUM'), ('taxable', 'ADJ'), ('funds', 'NOUN'), ('tracked', 'VERB'), ('*', 'X'), ('by', 'ADP'), ('IBC', 'NOUN'), (\"'s\", 'PRT'), ('Money', 'NOUN'), ('Fund', 'NOUN'), ('Report', 'NOUN'), ('eased', 'VERB'), ('a', 'DET'), ('fraction', 'NOUN'), ('of', 'ADP'), ('a', 'DET'), ('percentage', 'NOUN'), ('point', 'NOUN'), ('to', 'PRT'), ('8.45', 'NUM'), ('%', 'NOUN'), ('from', 'ADP'), ('8.47', 'NUM'), ('%', 'NOUN'), ('for', 'ADP'), ('the', 'DET'), ('week', 'NOUN'), ('ended', 'VERB'), ('Tuesday', 'NOUN'), ('.', '.')], [('Compound', 'NOUN'), ('yields', 'NOUN'), ('assume', 'VERB'), ('reinvestment', 'NOUN'), ('of', 'ADP'), ('dividends', 'NOUN'), ('and', 'CONJ'), ('that', 'ADP'), ('the', 'DET'), ('current', 'ADJ'), ('yield', 'NOUN'), ('continues', 'VERB'), ('for', 'ADP'), ('a', 'DET'), ('year', 'NOUN'), ('.', '.')], [('Average', 'ADJ'), ('maturity', 'NOUN'), ('of', 'ADP'), ('the', 'DET'), ('funds', 'NOUN'), (\"'\", 'PRT'), ('investments', 'NOUN'), ('lengthened', 'VERB'), ('by', 'ADP'), ('a', 'DET'), ('day', 'NOUN'), ('to', 'PRT'), ('41', 'NUM'), ('days', 'NOUN'), (',', '.'), ('the', 'DET'), ('longest', 'ADJ'), ('since', 'ADP'), ('early', 'ADJ'), ('August', 'NOUN'), (',', '.'), ('according', 'VERB'), ('to', 'PRT'), ('Donoghue', 'NOUN'), (\"'s\", 'PRT'), ('.', '.')], [('Longer', 'ADJ'), ('maturities', 'NOUN'), ('are', 'VERB'), ('thought', 'VERB'), ('*-1', 'X'), ('to', 'PRT'), ('indicate', 'VERB'), ('declining', 'VERB'), ('interest', 'NOUN'), ('rates', 'NOUN'), ('because', 'ADP'), ('they', 'PRON'), ('permit', 'VERB'), ('portfolio', 'NOUN'), ('managers', 'NOUN'), ('to', 'PRT'), ('retain', 'VERB'), ('relatively', 'ADV'), ('higher', 'ADJ'), ('rates', 'NOUN'), ('for', 'ADP'), ('a', 'DET'), ('longer', 'ADJ'), ('period', 'NOUN'), ('.', '.')], [('Shorter', 'ADJ'), ('maturities', 'NOUN'), ('are', 'VERB'), ('considered', 'VERB'), ('*-9', 'X'), ('a', 'DET'), ('sign', 'NOUN'), ('of', 'ADP'), ('rising', 'VERB'), ('rates', 'NOUN'), ('because', 'ADP'), ('portfolio', 'NOUN'), ('managers', 'NOUN'), ('can', 'VERB'), ('capture', 'VERB'), ('higher', 'ADJ'), ('rates', 'NOUN'), ('sooner', 'ADV'), ('.', '.')], [('The', 'DET'), ('average', 'ADJ'), ('maturity', 'NOUN'), ('for', 'ADP'), ('funds', 'NOUN'), ('open', 'ADJ'), ('only', 'ADV'), ('to', 'PRT'), ('institutions', 'NOUN'), (',', '.'), ('considered', 'VERB'), ('by', 'ADP'), ('some', 'DET'), ('*', 'X'), ('to', 'PRT'), ('be', 'VERB'), ('a', 'DET'), ('stronger', 'ADJ'), ('indicator', 'NOUN'), ('because', 'ADP'), ('those', 'DET'), ('managers', 'NOUN'), ('watch', 'VERB'), ('the', 'DET'), ('market', 'NOUN'), ('closely', 'ADV'), (',', '.'), ('reached', 'VERB'), ('a', 'DET'), ('high', 'ADJ'), ('point', 'NOUN'), ('for', 'ADP'), ('the', 'DET'), ('year', 'NOUN'), ('--', '.'), ('33', 'NUM'), ('days', 'NOUN'), ('.', '.')]]\n"
     ]
    }
   ],
   "source": [
    "# first few tagged sentences\n",
    "print(nltk_data[:40])"
   ]
  },
  {
   "cell_type": "markdown",
   "metadata": {},
   "source": [
    "The tagged sentences are in the form of a list of tuples, where the first element of the tuple is a word and the second element is the POS tag of the word."
   ]
  },
  {
   "cell_type": "code",
   "execution_count": 4,
   "metadata": {},
   "outputs": [
    {
     "name": "stdout",
     "output_type": "stream",
     "text": [
      "3718\n",
      "196\n"
     ]
    },
    {
     "name": "stdout",
     "output_type": "stream",
     "text": [
      "[[('Bank', 'NOUN'), ('of', 'ADP'), ('New', 'NOUN'), ('England', 'NOUN'), (\"'s\", 'PRT'), ('shares', 'NOUN'), ('are', 'VERB'), ('traded', 'VERB'), ('*-1', 'X'), ('on', 'ADP'), ('the', 'DET'), ('New', 'NOUN'), ('York', 'NOUN'), ('Stock', 'NOUN'), ('Exchange', 'NOUN'), ('.', '.')], [('$', '.'), ('130', 'NUM'), ('million', 'NUM'), ('*U*', 'X'), ('of', 'ADP'), ('general', 'ADJ'), ('obligation', 'NOUN'), ('distributable', 'ADJ'), ('state', 'NOUN'), ('aid', 'NOUN'), ('bonds', 'NOUN'), ('due', 'ADJ'), ('1991-2000', 'NUM'), ('and', 'CONJ'), ('2009', 'NUM'), (',', '.'), ('tentatively', 'ADV'), ('priced', 'VERB'), ('*', 'X'), ('by', 'ADP'), ('a', 'DET'), ('Chemical', 'NOUN'), ('Securities', 'NOUN'), ('Inc.', 'NOUN'), ('group', 'NOUN'), ('*', 'X'), ('to', 'PRT'), ('yield', 'VERB'), ('from', 'ADP'), ('6.20', 'NUM'), ('%', 'NOUN'), ('in', 'ADP'), ('1991', 'NUM'), ('to', 'PRT'), ('7.272', 'NUM'), ('%', 'NOUN'), ('in', 'ADP'), ('2009', 'NUM'), ('.', '.')], [('``', '.'), ('They', 'PRON'), ('were', 'VERB'), ('a', 'DET'), ('self-perpetuating', 'ADJ'), ('club', 'NOUN'), ('that', 'DET'), ('*T*-229', 'X'), ('treated', 'VERB'), ('the', 'DET'), ('tower', 'NOUN'), ('as', 'ADP'), ('sort', 'NOUN'), ('of', 'ADP'), ('a', 'DET'), ('separate', 'ADJ'), ('premises', 'NOUN'), (',', '.'), (\"''\", '.'), ('the', 'DET'), ('Vicar', 'NOUN'), ('Hummerstone', 'NOUN'), ('says', 'VERB'), ('*T*-1', 'X'), ('.', '.')], [('Valley', 'NOUN'), ('Federal', 'NOUN'), ('Savings', 'NOUN'), ('&', 'CONJ'), ('Loan', 'NOUN'), ('Association', 'NOUN'), ('took', 'VERB'), ('an', 'DET'), ('$', '.'), ('89.9', 'NUM'), ('million', 'NUM'), ('*U*', 'X'), ('charge', 'NOUN'), ('as', 'ADP'), ('it', 'PRON'), ('reported', 'VERB'), ('a', 'DET'), ('third-quarter', 'NOUN'), ('loss', 'NOUN'), ('of', 'ADP'), ('$', '.'), ('70.7', 'NUM'), ('million', 'NUM'), ('*U*', 'X'), (',', '.'), ('or', 'CONJ'), ('$', '.'), ('12.09', 'NUM'), ('*U*', 'X'), ('a', 'DET'), ('share', 'NOUN'), ('.', '.')], [('``', '.'), ('The', 'DET'), ('Herald', 'NOUN'), ('was', 'VERB'), ('a', 'DET'), ('survivor', 'NOUN'), ('from', 'ADP'), ('a', 'DET'), ('bygone', 'ADJ'), ('age', 'NOUN'), (',', '.'), (\"''\", '.'), ('said', 'VERB'), ('*T*-1', 'X'), ('J.', 'NOUN'), ('Kendrick', 'NOUN'), ('Noble', 'NOUN'), (',', '.'), ('a', 'DET'), ('media', 'NOUN'), ('analyst', 'NOUN'), ('with', 'ADP'), ('PaineWebber', 'NOUN'), ('Inc', 'NOUN'), ('.', '.')], [('The', 'DET'), ('Midwest', 'NOUN'), ('Financial', 'NOUN'), ('subsidiary', 'NOUN'), ('banks', 'NOUN'), ('will', 'VERB'), ('continue', 'VERB'), ('*-1', 'X'), ('to', 'PRT'), ('operate', 'VERB'), ('under', 'ADP'), ('their', 'PRON'), ('current', 'ADJ'), ('names', 'NOUN'), ('until', 'ADP'), ('early', 'ADJ'), ('1990', 'NUM'), (',', '.'), ('when', 'ADV'), ('each', 'DET'), ('will', 'VERB'), ('adopt', 'VERB'), ('the', 'DET'), ('First', 'NOUN'), ('of', 'ADP'), ('America', 'NOUN'), ('name', 'NOUN'), ('*T*-2', 'X'), ('.', '.')], [('But', 'CONJ'), ('many', 'ADJ'), ('banks', 'NOUN'), ('are', 'VERB'), ('turning', 'VERB'), ('away', 'ADV'), ('from', 'ADP'), ('strict', 'ADJ'), ('price', 'NOUN'), ('competition', 'NOUN'), ('.', '.')], [('And', 'CONJ'), ('I', 'PRON'), ('apparently', 'ADV'), ('had', 'VERB'), ('no', 'DET'), ('right', 'NOUN'), ('*', 'X'), ('to', 'PRT'), ('print', 'VERB'), ('hither', 'ADV'), ('what', 'PRON'), ('the', 'DET'), ('Voice', 'NOUN'), ('was', 'VERB'), ('booming', 'VERB'), ('*T*-2', 'X'), ('to', 'PRT'), ('yon', 'ADV'), ('.', '.')], [('However', 'ADV'), (',', '.'), ('none', 'NOUN'), ('of', 'ADP'), ('the', 'DET'), ('big', 'ADJ'), ('three', 'NUM'), ('weeklies', 'NOUN'), ('recorded', 'VERB'), ('circulation', 'NOUN'), ('gains', 'NOUN'), ('recently', 'ADV'), ('.', '.')], [('Both', 'DET'), ('indicators', 'NOUN'), ('were', 'VERB'), ('viewed', 'VERB'), ('*-1', 'X'), ('as', 'ADP'), ('signs', 'NOUN'), ('that', 'ADP'), ('the', 'DET'), ('nation', 'NOUN'), (\"'s\", 'PRT'), ('industrial', 'ADJ'), ('sector', 'NOUN'), ('is', 'VERB'), ('growing', 'VERB'), ('very', 'ADV'), ('slowly', 'ADV'), (',', '.'), ('if', 'ADP'), ('at', 'ADP'), ('all', 'DET'), ('.', '.')], [('A', 'DET'), ('second', 'ADJ'), ('ship', 'NOUN'), ('is', 'VERB'), ('now', 'ADV'), ('expected', 'VERB'), ('*-2', 'X'), ('to', 'PRT'), ('be', 'VERB'), ('delivered', 'VERB'), ('*-1', 'X'), ('late', 'ADJ'), ('next', 'ADJ'), ('year', 'NOUN'), ('or', 'CONJ'), ('early', 'ADV'), ('in', 'ADP'), ('1991', 'NUM'), ('.', '.')], [('In', 'ADP'), ('October', 'NOUN'), ('1988', 'NUM'), (',', '.'), ('21.1', 'NUM'), ('%', 'NOUN'), ('said', 'VERB'), ('0', 'X'), ('business', 'NOUN'), ('conditions', 'NOUN'), ('would', 'VERB'), ('improve', 'VERB'), ('.', '.')], [('The', 'DET'), ('announcement', 'NOUN'), ('follows', 'VERB'), ('a', 'DET'), ('sharper', 'ADJ'), ('$', '.'), ('2.2', 'NUM'), ('billion', 'NUM'), ('*U*', 'X'), ('decline', 'NOUN'), ('in', 'ADP'), ('the', 'DET'), ('country', 'NOUN'), (\"'s\", 'PRT'), ('foreign', 'ADJ'), ('reserves', 'NOUN'), ('in', 'ADP'), ('September', 'NOUN'), ('to', 'PRT'), ('$', '.'), ('86.12', 'NUM'), ('billion', 'NUM'), ('*U*', 'X'), ('.', '.')], [('Michael', 'NOUN'), ('Henderson', 'NOUN'), (',', '.'), ('51-year-old', 'ADJ'), ('group', 'NOUN'), ('chief', 'NOUN'), ('executive', 'NOUN'), ('of', 'ADP'), ('this', 'DET'), ('U.K.', 'NOUN'), ('metals', 'NOUN'), ('and', 'CONJ'), ('industrial', 'ADJ'), ('materials', 'NOUN'), ('maker', 'NOUN'), (',', '.'), ('will', 'VERB'), ('become', 'VERB'), ('chairman', 'NOUN'), ('in', 'ADP'), ('May', 'NOUN'), (',', '.'), ('*-1', 'X'), ('succeeding', 'VERB'), ('Ian', 'NOUN'), ('Butler', 'NOUN'), (',', '.'), ('64', 'NUM'), (',', '.'), ('who', 'PRON'), ('*T*-161', 'X'), ('is', 'VERB'), ('retiring', 'VERB'), ('.', '.')], [('Partly', 'ADV'), ('because', 'ADP'), ('of', 'ADP'), ('worries', 'NOUN'), ('about', 'ADP'), ('potential', 'ADJ'), ('abuse', 'NOUN'), (',', '.'), ('however', 'ADV'), (',', '.'), ('he', 'PRON'), ('says', 'VERB'), ('0', 'X'), ('the', 'DET'), ('state', 'NOUN'), ('will', 'VERB'), ('begin', 'VERB'), ('*-1', 'X'), ('keeping', 'VERB'), ('closer', 'ADJ'), ('track', 'NOUN'), ('of', 'ADP'), ('achievement-test', 'NOUN'), ('preparation', 'NOUN'), ('booklets', 'NOUN'), ('next', 'ADJ'), ('spring', 'NOUN'), ('.', '.')], [('He', 'PRON'), ('succeeds', 'VERB'), ('Terrence', 'NOUN'), ('D.', 'NOUN'), ('Daniels', 'NOUN'), (',', '.'), ('formerly', 'ADV'), ('a', 'DET'), ('W.R.', 'NOUN'), ('Grace', 'NOUN'), ('vice', 'NOUN'), ('chairman', 'NOUN'), (',', '.'), ('who', 'PRON'), ('*T*-11', 'X'), ('resigned', 'VERB'), ('.', '.')], [('Scientists', 'NOUN'), ('had', 'VERB'), ('obtained', 'VERB'), ('even', 'ADV'), ('higher', 'ADJ'), ('current-carrying', 'ADJ'), ('capacity', 'NOUN'), ('in', 'ADP'), ('thin', 'ADJ'), ('films', 'NOUN'), ('of', 'ADP'), ('the', 'DET'), ('new', 'ADJ'), ('superconductors', 'NOUN'), (',', '.'), ('but', 'CONJ'), ('have', 'VERB'), ('had', 'VERB'), ('problems', 'NOUN'), ('*-2', 'X'), ('increasing', 'VERB'), ('the', 'DET'), ('amount', 'NOUN'), ('of', 'ADP'), ('current', 'NOUN'), ('that', 'ADP'), ('bulk', 'NOUN'), ('crystals', 'NOUN'), ('could', 'VERB'), ('carry', 'VERB'), ('*T*-1', 'X'), ('.', '.')], [('USX', 'NOUN'), ('was', 'VERB'), ('cited', 'VERB'), ('*-1', 'X'), ('by', 'ADP'), ('OSHA', 'NOUN'), ('for', 'ADP'), ('several', 'ADJ'), ('health', 'NOUN'), ('and', 'CONJ'), ('safety', 'NOUN'), ('violations', 'NOUN'), ('at', 'ADP'), ('two', 'NUM'), ('Pennsylvania', 'NOUN'), ('plants', 'NOUN'), ('and', 'CONJ'), ('may', 'VERB'), ('face', 'VERB'), ('a', 'DET'), ('record', 'NOUN'), ('fine', 'NOUN'), ('of', 'ADP'), ('$', '.'), ('7.3', 'NUM'), ('million', 'NUM'), ('*U*', 'X'), ('.', '.')], [('Stock-index', 'NOUN'), ('futures', 'NOUN'), ('--', '.'), ('Contracts', 'NOUN'), ('*', 'X'), ('to', 'PRT'), ('buy', 'VERB'), ('or', 'CONJ'), ('sell', 'VERB'), ('the', 'DET'), ('cash', 'NOUN'), ('value', 'NOUN'), ('of', 'ADP'), ('a', 'DET'), ('stock', 'NOUN'), ('index', 'NOUN'), ('by', 'ADP'), ('a', 'DET'), ('certain', 'ADJ'), ('date', 'NOUN'), ('.', '.')], [('The', 'DET'), ('idea', 'NOUN'), (',', '.'), ('of', 'ADP'), ('course', 'NOUN'), (':', '.'), ('*', 'X'), ('to', 'PRT'), ('prove', 'VERB'), ('to', 'PRT'), ('125', 'NUM'), ('corporate', 'ADJ'), ('decision', 'NOUN'), ('makers', 'NOUN'), ('that', 'ADP'), ('the', 'DET'), ('buckle', 'NOUN'), ('on', 'ADP'), ('the', 'DET'), ('Rust', 'NOUN'), ('Belt', 'NOUN'), ('is', 'VERB'), (\"n't\", 'ADV'), ('so', 'ADV'), ('rusty', 'ADJ'), ('after', 'ADP'), ('all', 'DET'), (',', '.'), ('that', 'ADP'), ('it', 'PRON'), (\"'s\", 'VERB'), ('a', 'DET'), ('good', 'ADJ'), ('place', 'NOUN'), ('0', 'X'), ('for', 'ADP'), ('a', 'DET'), ('company', 'NOUN'), ('to', 'PRT'), ('expand', 'VERB'), ('*T*-1', 'X'), ('.', '.')], [('Backe', 'NOUN'), ('Group', 'NOUN'), ('Inc.', 'NOUN'), ('agreed', 'VERB'), ('*-1', 'X'), ('to', 'PRT'), ('acquire', 'VERB'), ('Atlantic', 'NOUN'), ('Publications', 'NOUN'), ('Inc.', 'NOUN'), (',', '.'), ('which', 'DET'), ('*T*-141', 'X'), ('has', 'VERB'), ('30', 'NUM'), ('community', 'NOUN'), ('papers', 'NOUN'), ('and', 'CONJ'), ('annual', 'ADJ'), ('sales', 'NOUN'), ('of', 'ADP'), ('$', '.'), ('7', 'NUM'), ('million', 'NUM'), ('*U*', 'X'), ('.', '.')], [('The', 'DET'), ('one', 'NUM'), ('character', 'NOUN'), ('at', 'ADP'), ('least', 'ADJ'), ('somewhat', 'ADV'), ('interesting', 'ADJ'), ('was', 'VERB'), ('Irving', 'NOUN'), ('Louis', 'NOUN'), ('Lobsenz', 'NOUN'), (',', '.'), ('a', 'DET'), ('pediatrician', 'NOUN'), ('who', 'PRON'), ('*T*-1', 'X'), ('changed', 'VERB'), ('his', 'PRON'), ('name', 'NOUN'), ('to', 'PRT'), ('Rusty', 'NOUN'), ('Kent', 'NOUN'), ('London', 'NOUN'), ('and', 'CONJ'), ('became', 'VERB'), ('a', 'DET'), ('master', 'NOUN'), ('gambler', 'NOUN'), ('and', 'CONJ'), ('author', 'NOUN'), ('of', 'ADP'), ('a', 'DET'), ('book', 'NOUN'), ('on', 'ADP'), ('blackjack', 'NOUN'), ('.', '.')], [('The', 'DET'), ('worst', 'ADJ'), ('crop', 'NOUN'), ('damage', 'NOUN'), ('occurred', 'VERB'), ('in', 'ADP'), ('the', 'DET'), ('Midwestern', 'NOUN'), ('Corn', 'NOUN'), ('Belt', 'NOUN'), ('and', 'CONJ'), ('the', 'DET'), ('northern', 'ADJ'), ('Great', 'NOUN'), ('Plains', 'NOUN'), ('.', '.')], [('Mr.', 'NOUN'), ('Taccetta', 'NOUN'), ('says', 'VERB'), ('0', 'X'), ('he', 'PRON'), ('had', 'VERB'), ('just', 'ADV'), ('recouped', 'VERB'), ('the', 'DET'), ('$', '.'), ('5,000', 'NUM'), ('*U*', 'X'), ('0', 'X'), ('he', 'PRON'), ('lost', 'VERB'), ('*T*-1', 'X'), ('in', 'ADP'), ('the', 'DET'), ('1987', 'NUM'), ('crash', 'NOUN'), ('when', 'ADV'), ('he', 'PRON'), ('lost', 'VERB'), ('more', 'ADJ'), ('money', 'NOUN'), ('last', 'ADJ'), ('Oct.', 'NOUN'), ('13', 'NUM'), ('*T*-2', 'X'), ('.', '.')], [('Most', 'ADJ'), ('of', 'ADP'), ('the', 'DET'), ('picture', 'NOUN'), ('is', 'VERB'), ('taken', 'VERB'), ('up', 'PRT'), ('with', 'ADP'), ('endless', 'ADJ'), ('scenes', 'NOUN'), ('of', 'ADP'), ('many', 'ADJ'), ('people', 'NOUN'), ('either', 'CONJ'), ('fighting', 'VERB'), ('or', 'CONJ'), ('eating', 'VERB'), ('and', 'CONJ'), ('drinking', 'VERB'), ('*-1', 'X'), ('to', 'PRT'), ('celebrate', 'VERB'), ('victory', 'NOUN'), ('.', '.')], [('Institutions', 'NOUN'), ('mostly', 'ADV'), ('remained', 'VERB'), ('on', 'ADP'), ('the', 'DET'), ('sidelines', 'NOUN'), ('because', 'ADP'), ('of', 'ADP'), ('uncertainty', 'NOUN'), ('regarding', 'VERB'), ('interest', 'NOUN'), ('rates', 'NOUN'), ('and', 'CONJ'), ('the', 'DET'), ('dollar', 'NOUN'), ('.', '.')], [('In', 'ADP'), ('San', 'NOUN'), ('Francisco', 'NOUN'), (',', '.'), ('its', 'PRON'), ('backers', 'NOUN'), ('concede', 'VERB'), ('0', 'X'), ('the', 'DET'), ('ballpark', 'NOUN'), ('is', 'VERB'), ('at', 'ADP'), ('best', 'ADJ'), ('running', 'VERB'), ('even', 'ADV'), ('in', 'ADP'), ('the', 'DET'), ('polls', 'NOUN'), ('.', '.')], [('*-1', 'X'), ('The', 'DET'), ('son', 'NOUN'), ('of', 'ADP'), ('a', 'DET'), ('physicist', 'NOUN'), (',', '.'), ('Mr.', 'NOUN'), ('Hahn', 'NOUN'), ('skipped', 'VERB'), ('first', 'ADJ'), ('grade', 'NOUN'), ('because', 'ADP'), ('his', 'PRON'), ('reading', 'NOUN'), ('ability', 'NOUN'), ('was', 'VERB'), ('so', 'ADV'), ('far', 'ADV'), ('above', 'ADP'), ('his', 'PRON'), ('classmates', 'NOUN'), ('.', '.')], [('Some', 'DET'), ('of', 'ADP'), ('his', 'PRON'), ('observations', 'NOUN'), ('about', 'ADP'), ('Japanese', 'ADJ'), ('management', 'NOUN'), ('style', 'NOUN'), ('are', 'VERB'), ('on', 'ADP'), ('the', 'DET'), ('mark', 'NOUN'), ('.', '.')], [('The', 'DET'), ('Bougainville', 'NOUN'), ('copper', 'NOUN'), ('mine', 'NOUN'), ('has', 'VERB'), ('been', 'VERB'), ('inoperative', 'ADJ'), ('since', 'ADP'), ('May', 'NOUN'), ('15', 'NUM'), ('because', 'ADP'), ('of', 'ADP'), ('attacks', 'NOUN'), ('by', 'ADP'), ('native', 'ADJ'), ('landowners', 'NOUN'), ('who', 'PRON'), ('*T*-1', 'X'), ('want', 'VERB'), ('Bougainville', 'NOUN'), ('to', 'PRT'), ('secede', 'VERB'), ('from', 'ADP'), ('Papua-New', 'NOUN'), ('Guinea', 'NOUN'), ('.', '.')], [('Nonetheless', 'ADV'), (',', '.'), ('plenty', 'ADJ'), ('of', 'ADP'), ('U.S.', 'NOUN'), ('analysts', 'NOUN'), ('and', 'CONJ'), ('money', 'NOUN'), ('managers', 'NOUN'), ('are', 'VERB'), ('aghast', 'ADJ'), ('at', 'ADP'), ('the', 'DET'), ('lofty', 'ADJ'), ('trading', 'NOUN'), ('levels', 'NOUN'), ('of', 'ADP'), ('some', 'DET'), ('country', 'NOUN'), ('funds', 'NOUN'), ('.', '.')], [('The', 'DET'), ('new', 'ADJ'), ('Wall', 'NOUN'), ('Street', 'NOUN'), ('of', 'ADP'), ('computers', 'NOUN'), ('and', 'CONJ'), ('automated', 'VERB'), ('trading', 'NOUN'), ('threatens', 'VERB'), ('*-1', 'X'), ('to', 'PRT'), ('make', 'VERB'), ('dinosaurs', 'NOUN'), ('of', 'ADP'), ('the', 'DET'), ('49', 'NUM'), ('Big', 'NOUN'), ('Board', 'NOUN'), ('stock-specialist', 'ADJ'), ('firms', 'NOUN'), ('.', '.')], [('The', 'DET'), ('government', 'NOUN'), ('includes', 'VERB'), ('money', 'NOUN'), ('spent', 'VERB'), ('*', 'X'), ('on', 'ADP'), ('residential', 'ADJ'), ('renovation', 'NOUN'), (';', '.'), ('Dodge', 'NOUN'), ('does', 'VERB'), (\"n't\", 'ADV'), ('*?*', 'X'), ('.', '.')], [('Last', 'ADJ'), ('year', 'NOUN'), (',', '.'), ('government', 'NOUN'), ('payments', 'NOUN'), ('to', 'PRT'), ('farmers', 'NOUN'), ('slipped', 'VERB'), ('to', 'PRT'), ('less', 'ADJ'), ('than', 'ADP'), ('$', '.'), ('14.5', 'NUM'), ('billion', 'NUM'), ('*U*', 'X'), ('from', 'ADP'), ('a', 'DET'), ('record', 'NOUN'), ('$', '.'), ('16.7', 'NUM'), ('billion', 'NUM'), ('*U*', 'X'), ('in', 'ADP'), ('1987', 'NUM'), ('.', '.')], [('Heritage', 'NOUN'), ('owns', 'VERB'), ('and', 'CONJ'), ('operates', 'VERB'), ('television', 'NOUN'), ('and', 'CONJ'), ('radio', 'NOUN'), ('stations', 'NOUN'), ('and', 'CONJ'), ('in-store', 'ADJ'), ('advertising', 'NOUN'), ('and', 'CONJ'), ('promotion', 'NOUN'), ('programs', 'NOUN'), ('.', '.')], [('Japan', 'NOUN'), (\"'s\", 'PRT'), ('domestic', 'ADJ'), ('sales', 'NOUN'), ('of', 'ADP'), ('cars', 'NOUN'), (',', '.'), ('trucks', 'NOUN'), ('and', 'CONJ'), ('buses', 'NOUN'), ('in', 'ADP'), ('October', 'NOUN'), ('rose', 'VERB'), ('18', 'NUM'), ('%', 'NOUN'), ('from', 'ADP'), ('a', 'DET'), ('year', 'NOUN'), ('earlier', 'ADJ'), ('to', 'PRT'), ('500,004', 'NUM'), ('units', 'NOUN'), (',', '.'), ('a', 'DET'), ('record', 'NOUN'), ('for', 'ADP'), ('the', 'DET'), ('month', 'NOUN'), (',', '.'), ('the', 'DET'), ('Japan', 'NOUN'), ('Automobile', 'NOUN'), ('Dealers', 'NOUN'), (\"'\", 'PRT'), ('Association', 'NOUN'), ('said', 'VERB'), ('0', 'X'), ('*T*-1', 'X'), ('.', '.')], [('U.S.', 'NOUN'), ('chip', 'NOUN'), ('makers', 'NOUN'), ('are', 'VERB'), ('facing', 'VERB'), ('continued', 'VERB'), ('slack', 'ADJ'), ('demand', 'NOUN'), ('following', 'VERB'), ('a', 'DET'), ('traditionally', 'ADV'), ('slow', 'ADJ'), ('summer', 'NOUN'), ('.', '.')], [('She', 'PRON'), ('was', 'VERB'), ('an', 'DET'), ('unstinting', 'ADJ'), ('teacher', 'NOUN'), ('who', 'PRON'), ('*T*-80', 'X'), ('won', 'VERB'), ('laurels', 'NOUN'), ('and', 'CONJ'), ('inspired', 'VERB'), ('students', 'NOUN'), (',', '.'), ('but', 'CONJ'), ('she', 'PRON'), ('will', 'VERB'), ('probably', 'ADV'), ('never', 'ADV'), ('teach', 'VERB'), ('again', 'ADV'), ('.', '.')], [('The', 'DET'), ('aerospace', 'NOUN'), (',', '.'), ('automotive', 'ADJ'), ('supply', 'NOUN'), (',', '.'), ('electronics', 'NOUN'), ('and', 'CONJ'), ('printing-press', 'NOUN'), ('concern', 'NOUN'), ('also', 'ADV'), ('indicated', 'VERB'), ('that', 'ADP'), ('the', 'DET'), ('first', 'ADJ'), ('half', 'DET'), ('of', 'ADP'), ('fiscal', 'ADJ'), ('1990', 'NUM'), ('could', 'VERB'), ('be', 'VERB'), ('rough', 'ADJ'), ('.', '.')], [('W.R.', 'NOUN'), ('Grace', 'NOUN'), ('holds', 'VERB'), ('three', 'NUM'), ('of', 'ADP'), ('Grace', 'NOUN'), ('Energy', 'NOUN'), (\"'s\", 'PRT'), ('seven', 'NUM'), ('board', 'NOUN'), ('seats', 'NOUN'), ('.', '.')]]\n"
     ]
    }
   ],
   "source": [
    "# Splitting into train and test\n",
    "random.seed(1234)\n",
    "train_set, test_set = train_test_split(nltk_data, test_size=0.05, random_state=42)\n",
    "\n",
    "print(len(train_set))\n",
    "print(len(test_set))\n",
    "print(train_set[:40])"
   ]
  },
  {
   "cell_type": "markdown",
   "metadata": {},
   "source": [
    "Getting list of tagged words"
   ]
  },
  {
   "cell_type": "code",
   "execution_count": 5,
   "metadata": {},
   "outputs": [
    {
     "data": {
      "text/plain": [
       "95589"
      ]
     },
     "execution_count": 5,
     "metadata": {},
     "output_type": "execute_result"
    }
   ],
   "source": [
    "# Getting list of tagged words\n",
    "train_tagged_words = [tup for sent in train_set for tup in sent]\n",
    "len(train_tagged_words)"
   ]
  },
  {
   "cell_type": "markdown",
   "metadata": {},
   "source": [
    "Get the tokens from train tagged words"
   ]
  },
  {
   "cell_type": "code",
   "execution_count": 6,
   "metadata": {},
   "outputs": [
    {
     "data": {
      "text/plain": [
       "['Bank', 'of', 'New', 'England', \"'s\", 'shares', 'are', 'traded', '*-1', 'on']"
      ]
     },
     "execution_count": 6,
     "metadata": {},
     "output_type": "execute_result"
    }
   ],
   "source": [
    "# tokens \n",
    "tokens = [pair[0] for pair in train_tagged_words]\n",
    "tokens[:10]"
   ]
  },
  {
   "cell_type": "markdown",
   "metadata": {},
   "source": [
    "Create a vocabulary"
   ]
  },
  {
   "cell_type": "code",
   "execution_count": 7,
   "metadata": {},
   "outputs": [
    {
     "name": "stdout",
     "output_type": "stream",
     "text": [
      "12109\n"
     ]
    }
   ],
   "source": [
    "# vocabulary\n",
    "V = set(tokens)\n",
    "print(len(V))"
   ]
  },
  {
   "cell_type": "markdown",
   "metadata": {},
   "source": [
    "Verify that the number of tags is 12"
   ]
  },
  {
   "cell_type": "code",
   "execution_count": 8,
   "metadata": {},
   "outputs": [
    {
     "data": {
      "text/plain": [
       "12"
      ]
     },
     "execution_count": 8,
     "metadata": {},
     "output_type": "execute_result"
    }
   ],
   "source": [
    "# number of tags\n",
    "T = set([pair[1] for pair in train_tagged_words])\n",
    "len(T)"
   ]
  },
  {
   "cell_type": "markdown",
   "metadata": {},
   "source": [
    "Check the 12 tags"
   ]
  },
  {
   "cell_type": "code",
   "execution_count": 9,
   "metadata": {},
   "outputs": [
    {
     "name": "stdout",
     "output_type": "stream",
     "text": [
      "{'PRT', 'ADV', 'ADP', 'NOUN', 'NUM', 'DET', 'ADJ', 'CONJ', 'X', 'VERB', 'PRON', '.'}\n"
     ]
    }
   ],
   "source": [
    "print(T)"
   ]
  },
  {
   "cell_type": "markdown",
   "metadata": {},
   "source": [
    "## Build the vanilla Viterbi based POS tagger"
   ]
  },
  {
   "cell_type": "markdown",
   "metadata": {},
   "source": [
    "#### UDF for computing Emission Probabilities"
   ]
  },
  {
   "cell_type": "code",
   "execution_count": 10,
   "metadata": {},
   "outputs": [],
   "source": [
    "# compute word given tag: Emission Probability\n",
    "def word_given_tag(word, tag, train_bag = train_tagged_words):\n",
    "    tag_list = [pair for pair in train_bag if pair[1]==tag]\n",
    "    count_tag = len(tag_list)\n",
    "    w_given_tag_list = [pair[0] for pair in tag_list if pair[0]==word]\n",
    "    count_w_given_tag = len(w_given_tag_list)\n",
    "    \n",
    "    return (count_w_given_tag, count_tag)"
   ]
  },
  {
   "cell_type": "markdown",
   "metadata": {},
   "source": [
    "Testing Emission Probabilities udf"
   ]
  },
  {
   "cell_type": "code",
   "execution_count": 11,
   "metadata": {},
   "outputs": [
    {
     "name": "stdout",
     "output_type": "stream",
     "text": [
      "\n",
      " large\n",
      "(27, 6077)\n",
      "(0, 12885)\n",
      "(0, 27423)\n",
      "\n",
      " will\n",
      "(1, 27423)\n",
      "(268, 12885)\n",
      "\n",
      " book\n",
      "(7, 27423)\n",
      "(1, 12885)\n"
     ]
    }
   ],
   "source": [
    "# testing Emission Probabilities udf\n",
    "# large\n",
    "print(\"\\n\", \"large\")\n",
    "print(word_given_tag('large', 'ADJ'))\n",
    "print(word_given_tag('large', 'VERB'))\n",
    "print(word_given_tag('large', 'NOUN'))\n",
    "\n",
    "# will\n",
    "print(\"\\n\", \"will\")\n",
    "print(word_given_tag('will', 'NOUN'))\n",
    "print(word_given_tag('will', 'VERB'))\n",
    "\n",
    "# book\n",
    "print(\"\\n\", \"book\")\n",
    "print(word_given_tag('book', 'NOUN'))\n",
    "print(word_given_tag('book', 'VERB'))"
   ]
  },
  {
   "cell_type": "markdown",
   "metadata": {},
   "source": [
    "#### UDF for computing Transition Probabilities"
   ]
  },
  {
   "cell_type": "markdown",
   "metadata": {},
   "source": [
    "- compute tag given tag: tag2(t2) given tag1 (t1), i.e. Transition Probability"
   ]
  },
  {
   "cell_type": "code",
   "execution_count": 12,
   "metadata": {},
   "outputs": [],
   "source": [
    "# compute tag given tag: tag2(t2) given tag1 (t1), i.e. Transition Probability\n",
    "def t2_given_t1(t2, t1, train_bag = train_tagged_words):\n",
    "    tags = [pair[1] for pair in train_bag]\n",
    "    count_t1 = len([t for t in tags if t==t1])\n",
    "    count_t2_t1 = 0\n",
    "    for index in range(len(tags)-1):\n",
    "        if tags[index]==t1 and tags[index+1] == t2:\n",
    "            count_t2_t1 += 1\n",
    "    return (count_t2_t1, count_t1)"
   ]
  },
  {
   "cell_type": "markdown",
   "metadata": {},
   "source": [
    "Testing Transition Probabilities udf"
   ]
  },
  {
   "cell_type": "code",
   "execution_count": 13,
   "metadata": {},
   "outputs": [
    {
     "name": "stdout",
     "output_type": "stream",
     "text": [
      "(4234, 6077)\n",
      "(4234, 6077)\n",
      "(5302, 8284)\n",
      "(1429, 12885)\n",
      "(6559, 27423)\n",
      "(21, 2618)\n",
      "(4058, 27423)\n",
      "(1929, 11118)\n",
      "(984, 11118)\n",
      "(2481, 11118)\n",
      "(727, 11118)\n"
     ]
    }
   ],
   "source": [
    "# Testing Transition Probabilities udf\n",
    "print(t2_given_t1(t2='NOUN', t1='ADJ'))\n",
    "print(t2_given_t1('NOUN', 'ADJ'))\n",
    "print(t2_given_t1('NOUN', 'DET'))\n",
    "print(t2_given_t1('NOUN', 'VERB'))\n",
    "print(t2_given_t1('.', 'NOUN'))\n",
    "print(t2_given_t1('PRON', 'PRON'))\n",
    "print(t2_given_t1('VERB', 'NOUN'))\n",
    "\n",
    "#Please note P(tag|start) is same as P(tag|'.')\n",
    "print(t2_given_t1('DET', '.'))\n",
    "print(t2_given_t1('VERB', '.'))\n",
    "print(t2_given_t1('NOUN', '.'))\n",
    "print(t2_given_t1('PRON', '.'))"
   ]
  },
  {
   "cell_type": "markdown",
   "metadata": {},
   "source": [
    "#### Transition matrix of tags\n",
    "Now Compute the transition probabilities matrix and finally use the emission and the transition probabilities to write the Viterbi algorithm for tagging a given sequence of words."
   ]
  },
  {
   "cell_type": "code",
   "execution_count": 14,
   "metadata": {},
   "outputs": [
    {
     "data": {
      "text/plain": [
       "array([[1.63452106e-03, 1.01340311e-02, 2.15756781e-02, 2.42562935e-01,\n",
       "        5.85158542e-02, 1.00359596e-01, 8.63027126e-02, 2.28832942e-03,\n",
       "        1.34030730e-02, 4.02745992e-01, 1.89604443e-02, 4.15168367e-02],\n",
       "       [1.36212623e-02, 8.10631216e-02, 1.19601332e-01, 3.08970101e-02,\n",
       "        3.05647831e-02, 6.71096370e-02, 1.30232558e-01, 6.31229253e-03,\n",
       "        2.35880390e-02, 3.44518274e-01, 1.56146176e-02, 1.36877075e-01],\n",
       "       [1.49812736e-03, 1.31621184e-02, 1.72284637e-02, 3.21776360e-01,\n",
       "        6.29213452e-02, 3.26377749e-01, 1.05296947e-01, 8.56072758e-04,\n",
       "        3.40288915e-02, 8.23970046e-03, 6.91278726e-02, 3.94863561e-02],\n",
       "       [4.38318215e-02, 1.68836378e-02, 1.76275387e-01, 2.64631867e-01,\n",
       "        9.62695573e-03, 1.33099956e-02, 1.22889541e-02, 4.19356003e-02,\n",
       "        2.91361269e-02, 1.47977978e-01, 4.92287474e-03, 2.39178792e-01],\n",
       "       [2.79512331e-02, 2.97353556e-03, 3.47903669e-02, 3.55337501e-01,\n",
       "        1.84061855e-01, 3.27088917e-03, 3.41956578e-02, 1.33809103e-02,\n",
       "        2.06660718e-01, 1.75438598e-02, 1.48676778e-03, 1.18346713e-01],\n",
       "       [2.41429268e-04, 1.23128919e-02, 9.05359723e-03, 6.40028954e-01,\n",
       "        2.19700634e-02, 5.31144394e-03, 2.04973444e-01, 4.82858537e-04,\n",
       "        4.55094166e-02, 3.83872539e-02, 3.74215352e-03, 1.79864801e-02],\n",
       "       [1.08606219e-02, 4.60753683e-03, 7.89863393e-02, 6.96725368e-01,\n",
       "        2.04048045e-02, 5.10120112e-03, 6.66447282e-02, 1.69491526e-02,\n",
       "        2.13921349e-02, 1.23416157e-02, 6.58219506e-04, 6.53282851e-02],\n",
       "       [4.69263270e-03, 5.58423288e-02, 5.44345379e-02, 3.49131852e-01,\n",
       "        4.22336943e-02, 1.21539183e-01, 1.16846554e-01, 4.69263265e-04,\n",
       "        7.97747541e-03, 1.53918341e-01, 5.86579069e-02, 3.42562161e-02],\n",
       "       [1.85787126e-01, 2.51752716e-02, 1.42925426e-01, 6.13448061e-02,\n",
       "        2.70873168e-03, 5.51306568e-02, 1.65710635e-02, 1.03569152e-02,\n",
       "        7.64818341e-02, 2.03632891e-01, 5.60866781e-02, 1.63798600e-01],\n",
       "       [3.11214589e-02, 8.25766400e-02, 9.04928222e-02, 1.10904150e-01,\n",
       "        2.28172299e-02, 1.33100510e-01, 6.46488145e-02, 5.58789307e-03,\n",
       "        2.18005434e-01, 1.69188976e-01, 3.62436958e-02, 3.53123769e-02],\n",
       "       [1.22230714e-02, 3.39954160e-02, 2.29182579e-02, 2.11229950e-01,\n",
       "        7.25744851e-03, 9.54927411e-03, 7.48663098e-02, 4.96562244e-03,\n",
       "        9.28189456e-02, 4.80901450e-01, 8.02139007e-03, 4.12528664e-02],\n",
       "       [2.33855005e-03, 5.20777106e-02, 9.11135077e-02, 2.23151639e-01,\n",
       "        8.05000886e-02, 1.73502430e-01, 4.49721180e-02, 5.79240881e-02,\n",
       "        2.66234931e-02, 8.85051265e-02, 6.53894618e-02, 9.38118398e-02]],\n",
       "      dtype=float32)"
      ]
     },
     "execution_count": 14,
     "metadata": {},
     "output_type": "execute_result"
    }
   ],
   "source": [
    "# creating t x t transition matrix of tags\n",
    "# each column is t2, each row is t1\n",
    "# thus M(i, j) represents P(tj given ti)\n",
    "\n",
    "tags_matrix = np.zeros((len(T), len(T)), dtype='float32')\n",
    "for i, t1 in enumerate(list(T)):\n",
    "    for j, t2 in enumerate(list(T)): \n",
    "        tags_matrix[i, j] = t2_given_t1(t2, t1)[0]/t2_given_t1(t2, t1)[1]\n",
    "\n",
    "tags_matrix"
   ]
  },
  {
   "cell_type": "code",
   "execution_count": 15,
   "metadata": {
    "scrolled": false
   },
   "outputs": [
    {
     "data": {
      "text/html": [
       "<div>\n",
       "<style scoped>\n",
       "    .dataframe tbody tr th:only-of-type {\n",
       "        vertical-align: middle;\n",
       "    }\n",
       "\n",
       "    .dataframe tbody tr th {\n",
       "        vertical-align: top;\n",
       "    }\n",
       "\n",
       "    .dataframe thead th {\n",
       "        text-align: right;\n",
       "    }\n",
       "</style>\n",
       "<table border=\"1\" class=\"dataframe\">\n",
       "  <thead>\n",
       "    <tr style=\"text-align: right;\">\n",
       "      <th></th>\n",
       "      <th>PRT</th>\n",
       "      <th>ADV</th>\n",
       "      <th>ADP</th>\n",
       "      <th>NOUN</th>\n",
       "      <th>NUM</th>\n",
       "      <th>DET</th>\n",
       "      <th>ADJ</th>\n",
       "      <th>CONJ</th>\n",
       "      <th>X</th>\n",
       "      <th>VERB</th>\n",
       "      <th>PRON</th>\n",
       "      <th>.</th>\n",
       "    </tr>\n",
       "  </thead>\n",
       "  <tbody>\n",
       "    <tr>\n",
       "      <th>PRT</th>\n",
       "      <td>0.001635</td>\n",
       "      <td>0.010134</td>\n",
       "      <td>0.021576</td>\n",
       "      <td>0.242563</td>\n",
       "      <td>0.058516</td>\n",
       "      <td>0.100360</td>\n",
       "      <td>0.086303</td>\n",
       "      <td>0.002288</td>\n",
       "      <td>0.013403</td>\n",
       "      <td>0.402746</td>\n",
       "      <td>0.018960</td>\n",
       "      <td>0.041517</td>\n",
       "    </tr>\n",
       "    <tr>\n",
       "      <th>ADV</th>\n",
       "      <td>0.013621</td>\n",
       "      <td>0.081063</td>\n",
       "      <td>0.119601</td>\n",
       "      <td>0.030897</td>\n",
       "      <td>0.030565</td>\n",
       "      <td>0.067110</td>\n",
       "      <td>0.130233</td>\n",
       "      <td>0.006312</td>\n",
       "      <td>0.023588</td>\n",
       "      <td>0.344518</td>\n",
       "      <td>0.015615</td>\n",
       "      <td>0.136877</td>\n",
       "    </tr>\n",
       "    <tr>\n",
       "      <th>ADP</th>\n",
       "      <td>0.001498</td>\n",
       "      <td>0.013162</td>\n",
       "      <td>0.017228</td>\n",
       "      <td>0.321776</td>\n",
       "      <td>0.062921</td>\n",
       "      <td>0.326378</td>\n",
       "      <td>0.105297</td>\n",
       "      <td>0.000856</td>\n",
       "      <td>0.034029</td>\n",
       "      <td>0.008240</td>\n",
       "      <td>0.069128</td>\n",
       "      <td>0.039486</td>\n",
       "    </tr>\n",
       "    <tr>\n",
       "      <th>NOUN</th>\n",
       "      <td>0.043832</td>\n",
       "      <td>0.016884</td>\n",
       "      <td>0.176275</td>\n",
       "      <td>0.264632</td>\n",
       "      <td>0.009627</td>\n",
       "      <td>0.013310</td>\n",
       "      <td>0.012289</td>\n",
       "      <td>0.041936</td>\n",
       "      <td>0.029136</td>\n",
       "      <td>0.147978</td>\n",
       "      <td>0.004923</td>\n",
       "      <td>0.239179</td>\n",
       "    </tr>\n",
       "    <tr>\n",
       "      <th>NUM</th>\n",
       "      <td>0.027951</td>\n",
       "      <td>0.002974</td>\n",
       "      <td>0.034790</td>\n",
       "      <td>0.355338</td>\n",
       "      <td>0.184062</td>\n",
       "      <td>0.003271</td>\n",
       "      <td>0.034196</td>\n",
       "      <td>0.013381</td>\n",
       "      <td>0.206661</td>\n",
       "      <td>0.017544</td>\n",
       "      <td>0.001487</td>\n",
       "      <td>0.118347</td>\n",
       "    </tr>\n",
       "    <tr>\n",
       "      <th>DET</th>\n",
       "      <td>0.000241</td>\n",
       "      <td>0.012313</td>\n",
       "      <td>0.009054</td>\n",
       "      <td>0.640029</td>\n",
       "      <td>0.021970</td>\n",
       "      <td>0.005311</td>\n",
       "      <td>0.204973</td>\n",
       "      <td>0.000483</td>\n",
       "      <td>0.045509</td>\n",
       "      <td>0.038387</td>\n",
       "      <td>0.003742</td>\n",
       "      <td>0.017986</td>\n",
       "    </tr>\n",
       "    <tr>\n",
       "      <th>ADJ</th>\n",
       "      <td>0.010861</td>\n",
       "      <td>0.004608</td>\n",
       "      <td>0.078986</td>\n",
       "      <td>0.696725</td>\n",
       "      <td>0.020405</td>\n",
       "      <td>0.005101</td>\n",
       "      <td>0.066645</td>\n",
       "      <td>0.016949</td>\n",
       "      <td>0.021392</td>\n",
       "      <td>0.012342</td>\n",
       "      <td>0.000658</td>\n",
       "      <td>0.065328</td>\n",
       "    </tr>\n",
       "    <tr>\n",
       "      <th>CONJ</th>\n",
       "      <td>0.004693</td>\n",
       "      <td>0.055842</td>\n",
       "      <td>0.054435</td>\n",
       "      <td>0.349132</td>\n",
       "      <td>0.042234</td>\n",
       "      <td>0.121539</td>\n",
       "      <td>0.116847</td>\n",
       "      <td>0.000469</td>\n",
       "      <td>0.007977</td>\n",
       "      <td>0.153918</td>\n",
       "      <td>0.058658</td>\n",
       "      <td>0.034256</td>\n",
       "    </tr>\n",
       "    <tr>\n",
       "      <th>X</th>\n",
       "      <td>0.185787</td>\n",
       "      <td>0.025175</td>\n",
       "      <td>0.142925</td>\n",
       "      <td>0.061345</td>\n",
       "      <td>0.002709</td>\n",
       "      <td>0.055131</td>\n",
       "      <td>0.016571</td>\n",
       "      <td>0.010357</td>\n",
       "      <td>0.076482</td>\n",
       "      <td>0.203633</td>\n",
       "      <td>0.056087</td>\n",
       "      <td>0.163799</td>\n",
       "    </tr>\n",
       "    <tr>\n",
       "      <th>VERB</th>\n",
       "      <td>0.031121</td>\n",
       "      <td>0.082577</td>\n",
       "      <td>0.090493</td>\n",
       "      <td>0.110904</td>\n",
       "      <td>0.022817</td>\n",
       "      <td>0.133101</td>\n",
       "      <td>0.064649</td>\n",
       "      <td>0.005588</td>\n",
       "      <td>0.218005</td>\n",
       "      <td>0.169189</td>\n",
       "      <td>0.036244</td>\n",
       "      <td>0.035312</td>\n",
       "    </tr>\n",
       "    <tr>\n",
       "      <th>PRON</th>\n",
       "      <td>0.012223</td>\n",
       "      <td>0.033995</td>\n",
       "      <td>0.022918</td>\n",
       "      <td>0.211230</td>\n",
       "      <td>0.007257</td>\n",
       "      <td>0.009549</td>\n",
       "      <td>0.074866</td>\n",
       "      <td>0.004966</td>\n",
       "      <td>0.092819</td>\n",
       "      <td>0.480901</td>\n",
       "      <td>0.008021</td>\n",
       "      <td>0.041253</td>\n",
       "    </tr>\n",
       "    <tr>\n",
       "      <th>.</th>\n",
       "      <td>0.002339</td>\n",
       "      <td>0.052078</td>\n",
       "      <td>0.091114</td>\n",
       "      <td>0.223152</td>\n",
       "      <td>0.080500</td>\n",
       "      <td>0.173502</td>\n",
       "      <td>0.044972</td>\n",
       "      <td>0.057924</td>\n",
       "      <td>0.026623</td>\n",
       "      <td>0.088505</td>\n",
       "      <td>0.065389</td>\n",
       "      <td>0.093812</td>\n",
       "    </tr>\n",
       "  </tbody>\n",
       "</table>\n",
       "</div>"
      ],
      "text/plain": [
       "           PRT       ADV       ADP      NOUN       NUM       DET       ADJ  \\\n",
       "PRT   0.001635  0.010134  0.021576  0.242563  0.058516  0.100360  0.086303   \n",
       "ADV   0.013621  0.081063  0.119601  0.030897  0.030565  0.067110  0.130233   \n",
       "ADP   0.001498  0.013162  0.017228  0.321776  0.062921  0.326378  0.105297   \n",
       "NOUN  0.043832  0.016884  0.176275  0.264632  0.009627  0.013310  0.012289   \n",
       "NUM   0.027951  0.002974  0.034790  0.355338  0.184062  0.003271  0.034196   \n",
       "DET   0.000241  0.012313  0.009054  0.640029  0.021970  0.005311  0.204973   \n",
       "ADJ   0.010861  0.004608  0.078986  0.696725  0.020405  0.005101  0.066645   \n",
       "CONJ  0.004693  0.055842  0.054435  0.349132  0.042234  0.121539  0.116847   \n",
       "X     0.185787  0.025175  0.142925  0.061345  0.002709  0.055131  0.016571   \n",
       "VERB  0.031121  0.082577  0.090493  0.110904  0.022817  0.133101  0.064649   \n",
       "PRON  0.012223  0.033995  0.022918  0.211230  0.007257  0.009549  0.074866   \n",
       ".     0.002339  0.052078  0.091114  0.223152  0.080500  0.173502  0.044972   \n",
       "\n",
       "          CONJ         X      VERB      PRON         .  \n",
       "PRT   0.002288  0.013403  0.402746  0.018960  0.041517  \n",
       "ADV   0.006312  0.023588  0.344518  0.015615  0.136877  \n",
       "ADP   0.000856  0.034029  0.008240  0.069128  0.039486  \n",
       "NOUN  0.041936  0.029136  0.147978  0.004923  0.239179  \n",
       "NUM   0.013381  0.206661  0.017544  0.001487  0.118347  \n",
       "DET   0.000483  0.045509  0.038387  0.003742  0.017986  \n",
       "ADJ   0.016949  0.021392  0.012342  0.000658  0.065328  \n",
       "CONJ  0.000469  0.007977  0.153918  0.058658  0.034256  \n",
       "X     0.010357  0.076482  0.203633  0.056087  0.163799  \n",
       "VERB  0.005588  0.218005  0.169189  0.036244  0.035312  \n",
       "PRON  0.004966  0.092819  0.480901  0.008021  0.041253  \n",
       ".     0.057924  0.026623  0.088505  0.065389  0.093812  "
      ]
     },
     "execution_count": 15,
     "metadata": {},
     "output_type": "execute_result"
    }
   ],
   "source": [
    "# convert the matrix to a df for better readability\n",
    "tags_df = pd.DataFrame(tags_matrix, columns = list(T), index=list(T))\n",
    "tags_df"
   ]
  },
  {
   "cell_type": "markdown",
   "metadata": {},
   "source": [
    "Check the probability of each tags."
   ]
  },
  {
   "cell_type": "code",
   "execution_count": 16,
   "metadata": {},
   "outputs": [
    {
     "data": {
      "text/plain": [
       "PRT     0.002339\n",
       "ADV     0.052078\n",
       "ADP     0.091114\n",
       "NOUN    0.223152\n",
       "NUM     0.080500\n",
       "DET     0.173502\n",
       "ADJ     0.044972\n",
       "CONJ    0.057924\n",
       "X       0.026623\n",
       "VERB    0.088505\n",
       "PRON    0.065389\n",
       ".       0.093812\n",
       "Name: ., dtype: float32"
      ]
     },
     "execution_count": 16,
     "metadata": {},
     "output_type": "execute_result"
    }
   ],
   "source": [
    "tags_df.loc['.', :]"
   ]
  },
  {
   "cell_type": "code",
   "execution_count": 17,
   "metadata": {},
   "outputs": [
    {
     "name": "stdout",
     "output_type": "stream",
     "text": [
      "PRT is the first tag on the current tag list\n"
     ]
    }
   ],
   "source": [
    "first_tag = tags_df.loc['.', :].index[0]\n",
    "print(f'{first_tag} is the first tag on the current tag list')"
   ]
  },
  {
   "cell_type": "markdown",
   "metadata": {},
   "source": [
    "#### Heatmap of tags matrix"
   ]
  },
  {
   "cell_type": "code",
   "execution_count": 18,
   "metadata": {},
   "outputs": [
    {
     "data": {
      "image/png": "[encoded data removed]",
      "text/plain": [
       "<Figure size 720x360 with 2 Axes>"
      ]
     },
     "metadata": {},
     "output_type": "display_data"
    }
   ],
   "source": [
    "# plot heatmap of tags matrix\n",
    "# T(i, j) means P(tag j given tag i)\n",
    "plt.figure(figsize=(10, 5))\n",
    "sns.heatmap(tags_df)\n",
    "plt.show()"
   ]
  },
  {
   "cell_type": "markdown",
   "metadata": {},
   "source": [
    "#### Frequent tags"
   ]
  },
  {
   "cell_type": "code",
   "execution_count": 19,
   "metadata": {},
   "outputs": [
    {
     "data": {
      "image/png": "[encoded data removed]",
      "text/plain": [
       "<Figure size 720x360 with 2 Axes>"
      ]
     },
     "metadata": {},
     "output_type": "display_data"
    }
   ],
   "source": [
    "# plot frequent tags\n",
    "# filter the df to get P(t2, t1) > 0.5\n",
    "tags_frequent = tags_df[tags_df>0.5]\n",
    "plt.figure(figsize=(10, 5))\n",
    "sns.heatmap(tags_frequent)\n",
    "plt.show()"
   ]
  },
  {
   "cell_type": "code",
   "execution_count": 20,
   "metadata": {},
   "outputs": [
    {
     "data": {
      "text/plain": [
       "95589"
      ]
     },
     "execution_count": 20,
     "metadata": {},
     "output_type": "execute_result"
    }
   ],
   "source": [
    "len(train_tagged_words)"
   ]
  },
  {
   "cell_type": "markdown",
   "metadata": {},
   "source": [
    "#### UDF - Viterbi Algorithm"
   ]
  },
  {
   "cell_type": "markdown",
   "metadata": {},
   "source": [
    "Let's now use the computed probabilities P(w, tag) and P(t2, t1) to assign tags to each word in the document. \n",
    "\n",
    "We'll run through each word w and compute P(tag/w)=P(w/tag).P(tag) for each tag in the tag set, and then assign the tag having the max P(tag/w).\n",
    "\n",
    "We'll store the assigned tags in a list of tuples, similar to the list 'train_tagged_words'. Each tuple will be a (token, assigned_tag). As we progress further in the list, each tag to be assigned will use the tag of the previous token.\n",
    "\n",
    "Note: P(tag|start) = P(tag|'.')"
   ]
  },
  {
   "cell_type": "markdown",
   "metadata": {},
   "source": [
    "###### The Viterbi algorithm works as follows:\n",
    "\n",
    "For each word, we compute the P(tag|word) for each tag in the tag set and then assign the tag having the max P(tag/word).\n",
    "\n",
    "P(tag|word) = (emission probability of the word-tag pair) * (transition probability from the previous tag).\n",
    "\n",
    "As we move along each word, we keep on storing the assigned tags in a list. As we progress further down the sequence, each word uses the tag of the previous token to compute the transition probabilities."
   ]
  },
  {
   "cell_type": "code",
   "execution_count": 21,
   "metadata": {},
   "outputs": [],
   "source": [
    "# Viterbi Heuristic\n",
    "def Viterbi(words, train_bag = train_tagged_words):\n",
    "    state = []\n",
    "    T = list(set([pair[1] for pair in train_bag]))\n",
    "    \n",
    "    for key, word in enumerate(words):\n",
    "        #initialise list of probability column for a given observation\n",
    "        p = [] \n",
    "        for tag in T:\n",
    "            # Calculate Transition probability for each tag. \n",
    "            # For the first word of a sentence, compute P(tag|'.') \n",
    "            # and for the rest compute P(tag|previous_tag)\n",
    "            if key == 0:\n",
    "                transition_p = tags_df.loc['.', tag] #tag for the first word is calculated taking '.' as the previous tag\n",
    "            else:\n",
    "                transition_p = tags_df.loc[state[-1], tag]\n",
    "                \n",
    "            # compute emission and state probabilities\n",
    "            emission_p = word_given_tag(words[key], tag)[0]/word_given_tag(words[key], tag)[1]\n",
    "            state_probability = emission_p * transition_p    \n",
    "            p.append(state_probability)\n",
    "            \n",
    "        pmax = max(p)\n",
    "        # getting state for which probability is maximum\n",
    "        state_max = T[p.index(pmax)] \n",
    "        state.append(state_max)\n",
    "    return list(zip(words, state))"
   ]
  },
  {
   "cell_type": "markdown",
   "metadata": {},
   "source": [
    "#### Evaluating on Test Set"
   ]
  },
  {
   "cell_type": "markdown",
   "metadata": {},
   "source": [
    "- Running on entire test dataset would take more than 3-4hrs. \n",
    "- Let's test our Viterbi algorithm on a few sample sentences of test dataset"
   ]
  },
  {
   "cell_type": "code",
   "execution_count": 22,
   "metadata": {
    "scrolled": true
   },
   "outputs": [
    {
     "data": {
      "text/plain": [
       "[113, 30, 2, 24, 150, 9, 172, 178, 22, 26]"
      ]
     },
     "execution_count": 22,
     "metadata": {},
     "output_type": "execute_result"
    }
   ],
   "source": [
    "random.seed(1234)\n",
    "\n",
    "# choose some random sents\n",
    "rndom = [random.randint(1, len(test_set)) for x in range(10)]\n",
    "rndom"
   ]
  },
  {
   "cell_type": "code",
   "execution_count": 23,
   "metadata": {},
   "outputs": [
    {
     "data": {
      "text/plain": [
       "[[('Shearson', 'NOUN'),\n",
       "  ('``', '.'),\n",
       "  ('really', 'ADV'),\n",
       "  ('only', 'ADV'),\n",
       "  ('has', 'VERB'),\n",
       "  ('$', '.'),\n",
       "  ('300', 'NUM'),\n",
       "  ('million', 'NUM'),\n",
       "  ('*U*', 'X'),\n",
       "  ('of', 'ADP'),\n",
       "  ('capital', 'NOUN'),\n",
       "  (',', '.'),\n",
       "  (\"''\", '.'),\n",
       "  ('says', 'VERB'),\n",
       "  ('*T*-1', 'X'),\n",
       "  ('Mr.', 'NOUN'),\n",
       "  ('Bowman', 'NOUN'),\n",
       "  ('of', 'ADP'),\n",
       "  ('S&P', 'NOUN'),\n",
       "  ('.', '.')],\n",
       " [('ShareData', 'NOUN'),\n",
       "  ('develops', 'VERB'),\n",
       "  ('and', 'CONJ'),\n",
       "  ('markets', 'VERB'),\n",
       "  ('low-cost', 'ADJ'),\n",
       "  ('software', 'NOUN'),\n",
       "  (',', '.'),\n",
       "  ('peripheral', 'ADJ'),\n",
       "  ('equipment', 'NOUN'),\n",
       "  ('and', 'CONJ'),\n",
       "  ('accessories', 'NOUN'),\n",
       "  ('for', 'ADP'),\n",
       "  ('computers', 'NOUN'),\n",
       "  ('.', '.')],\n",
       " [('Moscow', 'NOUN'),\n",
       "  ('has', 'VERB'),\n",
       "  ('settled', 'VERB'),\n",
       "  ('pre-1917', 'ADJ'),\n",
       "  ('debts', 'NOUN'),\n",
       "  ('with', 'ADP'),\n",
       "  ('other', 'ADJ'),\n",
       "  ('countries', 'NOUN'),\n",
       "  ('in', 'ADP'),\n",
       "  ('recent', 'ADJ'),\n",
       "  ('years', 'NOUN'),\n",
       "  ('at', 'ADP'),\n",
       "  ('less', 'ADJ'),\n",
       "  ('than', 'ADP'),\n",
       "  ('face', 'NOUN'),\n",
       "  ('value', 'NOUN'),\n",
       "  ('.', '.')],\n",
       " [('When', 'ADV'),\n",
       "  ('test', 'NOUN'),\n",
       "  ('booklets', 'NOUN'),\n",
       "  ('were', 'VERB'),\n",
       "  ('passed', 'VERB'),\n",
       "  ('*-1', 'X'),\n",
       "  ('out', 'ADV'),\n",
       "  ('48', 'NUM'),\n",
       "  ('hours', 'NOUN'),\n",
       "  ('ahead', 'ADV'),\n",
       "  ('of', 'ADP'),\n",
       "  ('time', 'NOUN'),\n",
       "  ('*T*-2', 'X'),\n",
       "  (',', '.'),\n",
       "  ('she', 'PRON'),\n",
       "  ('says', 'VERB'),\n",
       "  ('0', 'X'),\n",
       "  ('she', 'PRON'),\n",
       "  ('copied', 'VERB'),\n",
       "  ('questions', 'NOUN'),\n",
       "  ('in', 'ADP'),\n",
       "  ('the', 'DET'),\n",
       "  ('social', 'ADJ'),\n",
       "  ('studies', 'NOUN'),\n",
       "  ('section', 'NOUN'),\n",
       "  ('and', 'CONJ'),\n",
       "  ('gave', 'VERB'),\n",
       "  ('the', 'DET'),\n",
       "  ('answers', 'NOUN'),\n",
       "  ('to', 'PRT'),\n",
       "  ('students', 'NOUN'),\n",
       "  ('.', '.')],\n",
       " [('The', 'DET'),\n",
       "  ('Life', 'NOUN'),\n",
       "  ('Insurance', 'NOUN'),\n",
       "  ('Co.', 'NOUN'),\n",
       "  ('of', 'ADP'),\n",
       "  ('Georgia', 'NOUN'),\n",
       "  ('has', 'VERB'),\n",
       "  ('officially', 'ADV'),\n",
       "  ('opened', 'VERB'),\n",
       "  ('an', 'DET'),\n",
       "  ('office', 'NOUN'),\n",
       "  ('in', 'ADP'),\n",
       "  ('Taipei', 'NOUN'),\n",
       "  ('.', '.')],\n",
       " [('Big', 'NOUN'),\n",
       "  ('Board', 'NOUN'),\n",
       "  ('volume', 'NOUN'),\n",
       "  ('totaled', 'VERB'),\n",
       "  ('154.2', 'NUM'),\n",
       "  ('million', 'NUM'),\n",
       "  ('shares', 'NOUN'),\n",
       "  ('.', '.')],\n",
       " [('All', 'DET'),\n",
       "  ('of', 'ADP'),\n",
       "  ('this', 'DET'),\n",
       "  ('must', 'VERB'),\n",
       "  ('have', 'VERB'),\n",
       "  ('been', 'VERB'),\n",
       "  ('enormously', 'ADV'),\n",
       "  ('frustrating', 'VERB'),\n",
       "  ('to', 'PRT'),\n",
       "  ('Mr.', 'NOUN'),\n",
       "  ('Katzenstein', 'NOUN'),\n",
       "  (',', '.'),\n",
       "  ('who', 'PRON'),\n",
       "  ('*T*-59', 'X'),\n",
       "  ('went', 'VERB'),\n",
       "  ('to', 'PRT'),\n",
       "  ('Sony', 'NOUN'),\n",
       "  ('with', 'ADP'),\n",
       "  ('degrees', 'NOUN'),\n",
       "  ('in', 'ADP'),\n",
       "  ('business', 'NOUN'),\n",
       "  ('and', 'CONJ'),\n",
       "  ('computer', 'NOUN'),\n",
       "  ('science', 'NOUN'),\n",
       "  ('and', 'CONJ'),\n",
       "  ('was', 'VERB'),\n",
       "  ('raring', 'ADJ'),\n",
       "  ('*-1', 'X'),\n",
       "  ('to', 'PRT'),\n",
       "  ('invent', 'VERB'),\n",
       "  ('another', 'DET'),\n",
       "  ('Walkman', 'NOUN'),\n",
       "  ('.', '.')],\n",
       " [('USX', 'NOUN'),\n",
       "  ('announced', 'VERB'),\n",
       "  ('in', 'ADP'),\n",
       "  ('October', 'NOUN'),\n",
       "  ('that', 'ADP'),\n",
       "  ('it', 'PRON'),\n",
       "  ('was', 'VERB'),\n",
       "  ('soliciting', 'VERB'),\n",
       "  ('bids', 'NOUN'),\n",
       "  ('*', 'X'),\n",
       "  ('to', 'PRT'),\n",
       "  ('sell', 'VERB'),\n",
       "  ('TXO', 'NOUN'),\n",
       "  (\"'s\", 'PRT'),\n",
       "  ('oil', 'NOUN'),\n",
       "  ('and', 'CONJ'),\n",
       "  ('gas', 'NOUN'),\n",
       "  ('reserves', 'NOUN'),\n",
       "  ('.', '.')],\n",
       " [('That', 'DET'),\n",
       "  ('followed', 'VERB'),\n",
       "  ('four', 'NUM'),\n",
       "  ('straight', 'ADJ'),\n",
       "  ('months', 'NOUN'),\n",
       "  ('in', 'ADP'),\n",
       "  ('which', 'DET'),\n",
       "  ('the', 'DET'),\n",
       "  ('number', 'NOUN'),\n",
       "  ('of', 'ADP'),\n",
       "  ('increases', 'NOUN'),\n",
       "  ('trailed', 'VERB'),\n",
       "  ('the', 'DET'),\n",
       "  ('year-earlier', 'ADJ'),\n",
       "  ('pace', 'NOUN'),\n",
       "  ('*T*-1', 'X'),\n",
       "  ('.', '.')],\n",
       " [('Imports', 'NOUN'),\n",
       "  ('of', 'ADP'),\n",
       "  ('manmade-fiber', 'ADJ'),\n",
       "  ('sweaters', 'NOUN'),\n",
       "  ('in', 'ADP'),\n",
       "  ('1988', 'NUM'),\n",
       "  ('totaled', 'VERB'),\n",
       "  ('about', 'ADP'),\n",
       "  ('$', '.'),\n",
       "  ('405', 'NUM'),\n",
       "  ('million', 'NUM'),\n",
       "  ('*U*', 'X'),\n",
       "  ('from', 'ADP'),\n",
       "  ('Taiwan', 'NOUN'),\n",
       "  (',', '.'),\n",
       "  ('$', '.'),\n",
       "  ('400', 'NUM'),\n",
       "  ('million', 'NUM'),\n",
       "  ('*U*', 'X'),\n",
       "  ('from', 'ADP'),\n",
       "  ('South', 'NOUN'),\n",
       "  ('Korea', 'NOUN'),\n",
       "  ('and', 'CONJ'),\n",
       "  ('$', '.'),\n",
       "  ('125', 'NUM'),\n",
       "  ('million', 'NUM'),\n",
       "  ('*U*', 'X'),\n",
       "  ('from', 'ADP'),\n",
       "  ('Hong', 'NOUN'),\n",
       "  ('Kong', 'NOUN'),\n",
       "  (',', '.'),\n",
       "  ('according', 'VERB'),\n",
       "  ('to', 'PRT'),\n",
       "  ('the', 'DET'),\n",
       "  ('ITC', 'NOUN'),\n",
       "  ('.', '.')]]"
      ]
     },
     "execution_count": 23,
     "metadata": {},
     "output_type": "execute_result"
    }
   ],
   "source": [
    "# list of sents\n",
    "test_run = [test_set[i] for i in rndom]\n",
    "test_run"
   ]
  },
  {
   "cell_type": "code",
   "execution_count": 24,
   "metadata": {
    "scrolled": true
   },
   "outputs": [
    {
     "data": {
      "text/plain": [
       "[('Shearson', 'NOUN'),\n",
       " ('``', '.'),\n",
       " ('really', 'ADV'),\n",
       " ('only', 'ADV'),\n",
       " ('has', 'VERB'),\n",
       " ('$', '.'),\n",
       " ('300', 'NUM'),\n",
       " ('million', 'NUM'),\n",
       " ('*U*', 'X'),\n",
       " ('of', 'ADP'),\n",
       " ('capital', 'NOUN'),\n",
       " (',', '.'),\n",
       " (\"''\", '.'),\n",
       " ('says', 'VERB'),\n",
       " ('*T*-1', 'X'),\n",
       " ('Mr.', 'NOUN'),\n",
       " ('Bowman', 'NOUN'),\n",
       " ('of', 'ADP'),\n",
       " ('S&P', 'NOUN'),\n",
       " ('.', '.'),\n",
       " ('ShareData', 'NOUN'),\n",
       " ('develops', 'VERB'),\n",
       " ('and', 'CONJ'),\n",
       " ('markets', 'VERB'),\n",
       " ('low-cost', 'ADJ'),\n",
       " ('software', 'NOUN'),\n",
       " (',', '.'),\n",
       " ('peripheral', 'ADJ'),\n",
       " ('equipment', 'NOUN'),\n",
       " ('and', 'CONJ'),\n",
       " ('accessories', 'NOUN'),\n",
       " ('for', 'ADP'),\n",
       " ('computers', 'NOUN'),\n",
       " ('.', '.'),\n",
       " ('Moscow', 'NOUN'),\n",
       " ('has', 'VERB'),\n",
       " ('settled', 'VERB'),\n",
       " ('pre-1917', 'ADJ'),\n",
       " ('debts', 'NOUN'),\n",
       " ('with', 'ADP'),\n",
       " ('other', 'ADJ'),\n",
       " ('countries', 'NOUN'),\n",
       " ('in', 'ADP'),\n",
       " ('recent', 'ADJ'),\n",
       " ('years', 'NOUN'),\n",
       " ('at', 'ADP'),\n",
       " ('less', 'ADJ'),\n",
       " ('than', 'ADP'),\n",
       " ('face', 'NOUN'),\n",
       " ('value', 'NOUN'),\n",
       " ('.', '.'),\n",
       " ('When', 'ADV'),\n",
       " ('test', 'NOUN'),\n",
       " ('booklets', 'NOUN'),\n",
       " ('were', 'VERB'),\n",
       " ('passed', 'VERB'),\n",
       " ('*-1', 'X'),\n",
       " ('out', 'ADV'),\n",
       " ('48', 'NUM'),\n",
       " ('hours', 'NOUN'),\n",
       " ('ahead', 'ADV'),\n",
       " ('of', 'ADP'),\n",
       " ('time', 'NOUN'),\n",
       " ('*T*-2', 'X'),\n",
       " (',', '.'),\n",
       " ('she', 'PRON'),\n",
       " ('says', 'VERB'),\n",
       " ('0', 'X'),\n",
       " ('she', 'PRON'),\n",
       " ('copied', 'VERB'),\n",
       " ('questions', 'NOUN'),\n",
       " ('in', 'ADP'),\n",
       " ('the', 'DET'),\n",
       " ('social', 'ADJ'),\n",
       " ('studies', 'NOUN'),\n",
       " ('section', 'NOUN'),\n",
       " ('and', 'CONJ'),\n",
       " ('gave', 'VERB'),\n",
       " ('the', 'DET'),\n",
       " ('answers', 'NOUN'),\n",
       " ('to', 'PRT'),\n",
       " ('students', 'NOUN'),\n",
       " ('.', '.'),\n",
       " ('The', 'DET'),\n",
       " ('Life', 'NOUN'),\n",
       " ('Insurance', 'NOUN'),\n",
       " ('Co.', 'NOUN'),\n",
       " ('of', 'ADP'),\n",
       " ('Georgia', 'NOUN'),\n",
       " ('has', 'VERB'),\n",
       " ('officially', 'ADV'),\n",
       " ('opened', 'VERB'),\n",
       " ('an', 'DET'),\n",
       " ('office', 'NOUN'),\n",
       " ('in', 'ADP'),\n",
       " ('Taipei', 'NOUN'),\n",
       " ('.', '.'),\n",
       " ('Big', 'NOUN'),\n",
       " ('Board', 'NOUN'),\n",
       " ('volume', 'NOUN'),\n",
       " ('totaled', 'VERB'),\n",
       " ('154.2', 'NUM'),\n",
       " ('million', 'NUM'),\n",
       " ('shares', 'NOUN'),\n",
       " ('.', '.'),\n",
       " ('All', 'DET'),\n",
       " ('of', 'ADP'),\n",
       " ('this', 'DET'),\n",
       " ('must', 'VERB'),\n",
       " ('have', 'VERB'),\n",
       " ('been', 'VERB'),\n",
       " ('enormously', 'ADV'),\n",
       " ('frustrating', 'VERB'),\n",
       " ('to', 'PRT'),\n",
       " ('Mr.', 'NOUN'),\n",
       " ('Katzenstein', 'NOUN'),\n",
       " (',', '.'),\n",
       " ('who', 'PRON'),\n",
       " ('*T*-59', 'X'),\n",
       " ('went', 'VERB'),\n",
       " ('to', 'PRT'),\n",
       " ('Sony', 'NOUN'),\n",
       " ('with', 'ADP'),\n",
       " ('degrees', 'NOUN'),\n",
       " ('in', 'ADP'),\n",
       " ('business', 'NOUN'),\n",
       " ('and', 'CONJ'),\n",
       " ('computer', 'NOUN'),\n",
       " ('science', 'NOUN'),\n",
       " ('and', 'CONJ'),\n",
       " ('was', 'VERB'),\n",
       " ('raring', 'ADJ'),\n",
       " ('*-1', 'X'),\n",
       " ('to', 'PRT'),\n",
       " ('invent', 'VERB'),\n",
       " ('another', 'DET'),\n",
       " ('Walkman', 'NOUN'),\n",
       " ('.', '.'),\n",
       " ('USX', 'NOUN'),\n",
       " ('announced', 'VERB'),\n",
       " ('in', 'ADP'),\n",
       " ('October', 'NOUN'),\n",
       " ('that', 'ADP'),\n",
       " ('it', 'PRON'),\n",
       " ('was', 'VERB'),\n",
       " ('soliciting', 'VERB'),\n",
       " ('bids', 'NOUN'),\n",
       " ('*', 'X'),\n",
       " ('to', 'PRT'),\n",
       " ('sell', 'VERB'),\n",
       " ('TXO', 'NOUN'),\n",
       " (\"'s\", 'PRT'),\n",
       " ('oil', 'NOUN'),\n",
       " ('and', 'CONJ'),\n",
       " ('gas', 'NOUN'),\n",
       " ('reserves', 'NOUN'),\n",
       " ('.', '.'),\n",
       " ('That', 'DET'),\n",
       " ('followed', 'VERB'),\n",
       " ('four', 'NUM'),\n",
       " ('straight', 'ADJ'),\n",
       " ('months', 'NOUN'),\n",
       " ('in', 'ADP'),\n",
       " ('which', 'DET'),\n",
       " ('the', 'DET'),\n",
       " ('number', 'NOUN'),\n",
       " ('of', 'ADP'),\n",
       " ('increases', 'NOUN'),\n",
       " ('trailed', 'VERB'),\n",
       " ('the', 'DET'),\n",
       " ('year-earlier', 'ADJ'),\n",
       " ('pace', 'NOUN'),\n",
       " ('*T*-1', 'X'),\n",
       " ('.', '.'),\n",
       " ('Imports', 'NOUN'),\n",
       " ('of', 'ADP'),\n",
       " ('manmade-fiber', 'ADJ'),\n",
       " ('sweaters', 'NOUN'),\n",
       " ('in', 'ADP'),\n",
       " ('1988', 'NUM'),\n",
       " ('totaled', 'VERB'),\n",
       " ('about', 'ADP'),\n",
       " ('$', '.'),\n",
       " ('405', 'NUM'),\n",
       " ('million', 'NUM'),\n",
       " ('*U*', 'X'),\n",
       " ('from', 'ADP'),\n",
       " ('Taiwan', 'NOUN'),\n",
       " (',', '.'),\n",
       " ('$', '.'),\n",
       " ('400', 'NUM'),\n",
       " ('million', 'NUM'),\n",
       " ('*U*', 'X'),\n",
       " ('from', 'ADP'),\n",
       " ('South', 'NOUN'),\n",
       " ('Korea', 'NOUN'),\n",
       " ('and', 'CONJ'),\n",
       " ('$', '.'),\n",
       " ('125', 'NUM'),\n",
       " ('million', 'NUM'),\n",
       " ('*U*', 'X'),\n",
       " ('from', 'ADP'),\n",
       " ('Hong', 'NOUN'),\n",
       " ('Kong', 'NOUN'),\n",
       " (',', '.'),\n",
       " ('according', 'VERB'),\n",
       " ('to', 'PRT'),\n",
       " ('the', 'DET'),\n",
       " ('ITC', 'NOUN'),\n",
       " ('.', '.')]"
      ]
     },
     "execution_count": 24,
     "metadata": {},
     "output_type": "execute_result"
    }
   ],
   "source": [
    "# list of tagged words\n",
    "test_run_base = [tup for sent in test_run for tup in sent]\n",
    "test_run_base"
   ]
  },
  {
   "cell_type": "code",
   "execution_count": 25,
   "metadata": {
    "scrolled": true
   },
   "outputs": [
    {
     "data": {
      "text/plain": [
       "['Shearson',\n",
       " '``',\n",
       " 'really',\n",
       " 'only',\n",
       " 'has',\n",
       " '$',\n",
       " '300',\n",
       " 'million',\n",
       " '*U*',\n",
       " 'of',\n",
       " 'capital',\n",
       " ',',\n",
       " \"''\",\n",
       " 'says',\n",
       " '*T*-1',\n",
       " 'Mr.',\n",
       " 'Bowman',\n",
       " 'of',\n",
       " 'S&P',\n",
       " '.',\n",
       " 'ShareData',\n",
       " 'develops',\n",
       " 'and',\n",
       " 'markets',\n",
       " 'low-cost',\n",
       " 'software',\n",
       " ',',\n",
       " 'peripheral',\n",
       " 'equipment',\n",
       " 'and',\n",
       " 'accessories',\n",
       " 'for',\n",
       " 'computers',\n",
       " '.',\n",
       " 'Moscow',\n",
       " 'has',\n",
       " 'settled',\n",
       " 'pre-1917',\n",
       " 'debts',\n",
       " 'with',\n",
       " 'other',\n",
       " 'countries',\n",
       " 'in',\n",
       " 'recent',\n",
       " 'years',\n",
       " 'at',\n",
       " 'less',\n",
       " 'than',\n",
       " 'face',\n",
       " 'value',\n",
       " '.',\n",
       " 'When',\n",
       " 'test',\n",
       " 'booklets',\n",
       " 'were',\n",
       " 'passed',\n",
       " '*-1',\n",
       " 'out',\n",
       " '48',\n",
       " 'hours',\n",
       " 'ahead',\n",
       " 'of',\n",
       " 'time',\n",
       " '*T*-2',\n",
       " ',',\n",
       " 'she',\n",
       " 'says',\n",
       " '0',\n",
       " 'she',\n",
       " 'copied',\n",
       " 'questions',\n",
       " 'in',\n",
       " 'the',\n",
       " 'social',\n",
       " 'studies',\n",
       " 'section',\n",
       " 'and',\n",
       " 'gave',\n",
       " 'the',\n",
       " 'answers',\n",
       " 'to',\n",
       " 'students',\n",
       " '.',\n",
       " 'The',\n",
       " 'Life',\n",
       " 'Insurance',\n",
       " 'Co.',\n",
       " 'of',\n",
       " 'Georgia',\n",
       " 'has',\n",
       " 'officially',\n",
       " 'opened',\n",
       " 'an',\n",
       " 'office',\n",
       " 'in',\n",
       " 'Taipei',\n",
       " '.',\n",
       " 'Big',\n",
       " 'Board',\n",
       " 'volume',\n",
       " 'totaled',\n",
       " '154.2',\n",
       " 'million',\n",
       " 'shares',\n",
       " '.',\n",
       " 'All',\n",
       " 'of',\n",
       " 'this',\n",
       " 'must',\n",
       " 'have',\n",
       " 'been',\n",
       " 'enormously',\n",
       " 'frustrating',\n",
       " 'to',\n",
       " 'Mr.',\n",
       " 'Katzenstein',\n",
       " ',',\n",
       " 'who',\n",
       " '*T*-59',\n",
       " 'went',\n",
       " 'to',\n",
       " 'Sony',\n",
       " 'with',\n",
       " 'degrees',\n",
       " 'in',\n",
       " 'business',\n",
       " 'and',\n",
       " 'computer',\n",
       " 'science',\n",
       " 'and',\n",
       " 'was',\n",
       " 'raring',\n",
       " '*-1',\n",
       " 'to',\n",
       " 'invent',\n",
       " 'another',\n",
       " 'Walkman',\n",
       " '.',\n",
       " 'USX',\n",
       " 'announced',\n",
       " 'in',\n",
       " 'October',\n",
       " 'that',\n",
       " 'it',\n",
       " 'was',\n",
       " 'soliciting',\n",
       " 'bids',\n",
       " '*',\n",
       " 'to',\n",
       " 'sell',\n",
       " 'TXO',\n",
       " \"'s\",\n",
       " 'oil',\n",
       " 'and',\n",
       " 'gas',\n",
       " 'reserves',\n",
       " '.',\n",
       " 'That',\n",
       " 'followed',\n",
       " 'four',\n",
       " 'straight',\n",
       " 'months',\n",
       " 'in',\n",
       " 'which',\n",
       " 'the',\n",
       " 'number',\n",
       " 'of',\n",
       " 'increases',\n",
       " 'trailed',\n",
       " 'the',\n",
       " 'year-earlier',\n",
       " 'pace',\n",
       " '*T*-1',\n",
       " '.',\n",
       " 'Imports',\n",
       " 'of',\n",
       " 'manmade-fiber',\n",
       " 'sweaters',\n",
       " 'in',\n",
       " '1988',\n",
       " 'totaled',\n",
       " 'about',\n",
       " '$',\n",
       " '405',\n",
       " 'million',\n",
       " '*U*',\n",
       " 'from',\n",
       " 'Taiwan',\n",
       " ',',\n",
       " '$',\n",
       " '400',\n",
       " 'million',\n",
       " '*U*',\n",
       " 'from',\n",
       " 'South',\n",
       " 'Korea',\n",
       " 'and',\n",
       " '$',\n",
       " '125',\n",
       " 'million',\n",
       " '*U*',\n",
       " 'from',\n",
       " 'Hong',\n",
       " 'Kong',\n",
       " ',',\n",
       " 'according',\n",
       " 'to',\n",
       " 'the',\n",
       " 'ITC',\n",
       " '.']"
      ]
     },
     "execution_count": 25,
     "metadata": {},
     "output_type": "execute_result"
    }
   ],
   "source": [
    "# list of untagged words\n",
    "test_tagged_words = [tup[0] for sent in test_run for tup in sent]\n",
    "test_tagged_words"
   ]
  },
  {
   "cell_type": "markdown",
   "metadata": {},
   "source": [
    "Tag the test sentences"
   ]
  },
  {
   "cell_type": "code",
   "execution_count": 26,
   "metadata": {
    "scrolled": true
   },
   "outputs": [
    {
     "name": "stdout",
     "output_type": "stream",
     "text": [
      "Time taken in seconds:  57.55651521682739\n",
      "[('Shearson', 'NOUN'), ('``', '.'), ('really', 'ADV'), ('only', 'ADV'), ('has', 'VERB'), ('$', '.'), ('300', 'NUM'), ('million', 'NUM'), ('*U*', 'X'), ('of', 'ADP'), ('capital', 'NOUN'), (',', '.'), (\"''\", '.'), ('says', 'VERB'), ('*T*-1', 'X'), ('Mr.', 'NOUN'), ('Bowman', 'NOUN'), ('of', 'ADP'), ('S&P', 'NOUN'), ('.', '.'), ('ShareData', 'NOUN'), ('develops', 'PRT'), ('and', 'CONJ'), ('markets', 'NOUN'), ('low-cost', 'PRT'), ('software', 'NOUN'), (',', '.'), ('peripheral', 'ADJ'), ('equipment', 'NOUN'), ('and', 'CONJ'), ('accessories', 'NOUN'), ('for', 'ADP'), ('computers', 'NOUN'), ('.', '.'), ('Moscow', 'NOUN'), ('has', 'VERB'), ('settled', 'VERB'), ('pre-1917', 'PRT'), ('debts', 'NOUN'), ('with', 'ADP'), ('other', 'ADJ'), ('countries', 'NOUN'), ('in', 'ADP'), ('recent', 'ADJ'), ('years', 'NOUN'), ('at', 'ADP'), ('less', 'ADJ'), ('than', 'ADP'), ('face', 'NOUN'), ('value', 'NOUN'), ('.', '.'), ('When', 'ADV'), ('test', 'VERB'), ('booklets', 'NOUN'), ('were', 'VERB'), ('passed', 'VERB'), ('*-1', 'X'), ('out', 'PRT'), ('48', 'NUM'), ('hours', 'NOUN'), ('ahead', 'ADV'), ('of', 'ADP'), ('time', 'NOUN'), ('*T*-2', 'X'), (',', '.'), ('she', 'PRON'), ('says', 'VERB'), ('0', 'X'), ('she', 'PRON'), ('copied', 'PRT'), ('questions', 'NOUN'), ('in', 'ADP'), ('the', 'DET'), ('social', 'ADJ'), ('studies', 'NOUN'), ('section', 'NOUN'), ('and', 'CONJ'), ('gave', 'VERB'), ('the', 'DET'), ('answers', 'NOUN'), ('to', 'PRT'), ('students', 'NOUN'), ('.', '.'), ('The', 'DET'), ('Life', 'NOUN'), ('Insurance', 'NOUN'), ('Co.', 'NOUN'), ('of', 'ADP'), ('Georgia', 'NOUN'), ('has', 'VERB'), ('officially', 'ADV'), ('opened', 'VERB'), ('an', 'DET'), ('office', 'NOUN'), ('in', 'ADP'), ('Taipei', 'NOUN'), ('.', '.'), ('Big', 'NOUN'), ('Board', 'NOUN'), ('volume', 'NOUN'), ('totaled', 'VERB'), ('154.2', 'PRT'), ('million', 'NUM'), ('shares', 'NOUN'), ('.', '.'), ('All', 'DET'), ('of', 'ADP'), ('this', 'DET'), ('must', 'VERB'), ('have', 'VERB'), ('been', 'VERB'), ('enormously', 'PRT'), ('frustrating', 'PRT'), ('to', 'PRT'), ('Mr.', 'NOUN'), ('Katzenstein', 'NOUN'), (',', '.'), ('who', 'PRON'), ('*T*-59', 'X'), ('went', 'VERB'), ('to', 'PRT'), ('Sony', 'NOUN'), ('with', 'ADP'), ('degrees', 'NOUN'), ('in', 'ADP'), ('business', 'NOUN'), ('and', 'CONJ'), ('computer', 'NOUN'), ('science', 'PRT'), ('and', 'CONJ'), ('was', 'VERB'), ('raring', 'PRT'), ('*-1', 'X'), ('to', 'PRT'), ('invent', 'PRT'), ('another', 'DET'), ('Walkman', 'PRT'), ('.', '.'), ('USX', 'NOUN'), ('announced', 'VERB'), ('in', 'ADP'), ('October', 'NOUN'), ('that', 'ADP'), ('it', 'PRON'), ('was', 'VERB'), ('soliciting', 'PRT'), ('bids', 'NOUN'), ('*', 'X'), ('to', 'PRT'), ('sell', 'VERB'), ('TXO', 'PRT'), (\"'s\", 'VERB'), ('oil', 'NOUN'), ('and', 'CONJ'), ('gas', 'NOUN'), ('reserves', 'NOUN'), ('.', '.'), ('That', 'DET'), ('followed', 'VERB'), ('four', 'NUM'), ('straight', 'ADJ'), ('months', 'NOUN'), ('in', 'ADP'), ('which', 'DET'), ('the', 'DET'), ('number', 'NOUN'), ('of', 'ADP'), ('increases', 'NOUN'), ('trailed', 'VERB'), ('the', 'DET'), ('year-earlier', 'ADJ'), ('pace', 'NOUN'), ('*T*-1', 'X'), ('.', '.'), ('Imports', 'NOUN'), ('of', 'ADP'), ('manmade-fiber', 'PRT'), ('sweaters', 'NOUN'), ('in', 'ADP'), ('1988', 'NUM'), ('totaled', 'VERB'), ('about', 'ADP'), ('$', '.'), ('405', 'PRT'), ('million', 'NUM'), ('*U*', 'X'), ('from', 'ADP'), ('Taiwan', 'NOUN'), (',', '.'), ('$', '.'), ('400', 'NUM'), ('million', 'NUM'), ('*U*', 'X'), ('from', 'ADP'), ('South', 'NOUN'), ('Korea', 'NOUN'), ('and', 'CONJ'), ('$', '.'), ('125', 'NUM'), ('million', 'NUM'), ('*U*', 'X'), ('from', 'ADP'), ('Hong', 'NOUN'), ('Kong', 'NOUN'), (',', '.'), ('according', 'VERB'), ('to', 'PRT'), ('the', 'DET'), ('ITC', 'NOUN'), ('.', '.')]\n"
     ]
    }
   ],
   "source": [
    "# tagging the test sentences\n",
    "start = time.time()\n",
    "tagged_seq = Viterbi(test_tagged_words)\n",
    "end = time.time()\n",
    "difference = end-start\n",
    "\n",
    "print(\"Time taken in seconds: \", difference)\n",
    "\n",
    "print(tagged_seq)"
   ]
  },
  {
   "cell_type": "markdown",
   "metadata": {},
   "source": [
    "#### Evaluate the accuracy of the Viterbi algorithm on the test dataset. \n",
    "Predicting the tags of the entire test-set takes about 3-4 hours. So, we'll compute the tagging accuracy on a few randomly chosen sentences."
   ]
  },
  {
   "cell_type": "code",
   "execution_count": 27,
   "metadata": {
    "scrolled": true
   },
   "outputs": [
    {
     "name": "stdout",
     "output_type": "stream",
     "text": [
      "Accuracy is ~91%\n"
     ]
    }
   ],
   "source": [
    "# accuracy\n",
    "check = [i for i, j in zip(tagged_seq, test_run_base) if i == j] \n",
    "accuracy = len(check)/len(tagged_seq)\n",
    "print(f'Accuracy is ~{round(accuracy*100)}%')"
   ]
  },
  {
   "cell_type": "markdown",
   "metadata": {},
   "source": [
    "#### Check the incorrectly tagged cases"
   ]
  },
  {
   "cell_type": "code",
   "execution_count": 28,
   "metadata": {
    "scrolled": true
   },
   "outputs": [
    {
     "data": {
      "text/plain": [
       "[[('ShareData', 'NOUN'), (('develops', 'PRT'), ('develops', 'VERB'))],\n",
       " [('and', 'CONJ'), (('markets', 'NOUN'), ('markets', 'VERB'))],\n",
       " [('markets', 'VERB'), (('low-cost', 'PRT'), ('low-cost', 'ADJ'))],\n",
       " [('settled', 'VERB'), (('pre-1917', 'PRT'), ('pre-1917', 'ADJ'))],\n",
       " [('When', 'ADV'), (('test', 'VERB'), ('test', 'NOUN'))],\n",
       " [('*-1', 'X'), (('out', 'PRT'), ('out', 'ADV'))],\n",
       " [('she', 'PRON'), (('copied', 'PRT'), ('copied', 'VERB'))],\n",
       " [('totaled', 'VERB'), (('154.2', 'PRT'), ('154.2', 'NUM'))],\n",
       " [('been', 'VERB'), (('enormously', 'PRT'), ('enormously', 'ADV'))],\n",
       " [('enormously', 'ADV'), (('frustrating', 'PRT'), ('frustrating', 'VERB'))],\n",
       " [('computer', 'NOUN'), (('science', 'PRT'), ('science', 'NOUN'))],\n",
       " [('was', 'VERB'), (('raring', 'PRT'), ('raring', 'ADJ'))],\n",
       " [('to', 'PRT'), (('invent', 'PRT'), ('invent', 'VERB'))],\n",
       " [('another', 'DET'), (('Walkman', 'PRT'), ('Walkman', 'NOUN'))],\n",
       " [('was', 'VERB'), (('soliciting', 'PRT'), ('soliciting', 'VERB'))],\n",
       " [('sell', 'VERB'), (('TXO', 'PRT'), ('TXO', 'NOUN'))],\n",
       " [('TXO', 'NOUN'), ((\"'s\", 'VERB'), (\"'s\", 'PRT'))],\n",
       " [('of', 'ADP'), (('manmade-fiber', 'PRT'), ('manmade-fiber', 'ADJ'))],\n",
       " [('$', '.'), (('405', 'PRT'), ('405', 'NUM'))]]"
      ]
     },
     "execution_count": 28,
     "metadata": {},
     "output_type": "execute_result"
    }
   ],
   "source": [
    "incorrect_tagged_cases = [[test_run_base[i-1],j] for i, j in enumerate(zip(tagged_seq, test_run_base)) if j[0]!=j[1]]\n",
    "incorrect_tagged_cases"
   ]
  },
  {
   "cell_type": "markdown",
   "metadata": {},
   "source": [
    "#### Testing with a different sentence"
   ]
  },
  {
   "cell_type": "code",
   "execution_count": 29,
   "metadata": {
    "scrolled": true
   },
   "outputs": [
    {
     "name": "stdout",
     "output_type": "stream",
     "text": [
      "Time Taken in seconds =  7.67426609992981\n",
      "[('Twitter', 'PRT'), ('is', 'VERB'), ('the', 'DET'), ('best', 'ADJ'), ('networking', 'NOUN'), ('social', 'ADJ'), ('site', 'PRT'), ('.', '.'), ('Man', 'NOUN'), ('is', 'VERB'), ('a', 'DET'), ('social', 'ADJ'), ('animal', 'PRT'), ('.', '.'), ('Data', 'NOUN'), ('science', 'PRT'), ('is', 'VERB'), ('an', 'DET'), ('emerging', 'VERB'), ('field', 'NOUN'), ('.', '.'), ('Data', 'NOUN'), ('science', 'PRT'), ('jobs', 'NOUN'), ('are', 'VERB'), ('high', 'ADJ'), ('in', 'ADP'), ('demand', 'NOUN'), ('.', '.')]\n"
     ]
    }
   ],
   "source": [
    "## Testing\n",
    "sentence_test = 'Twitter is the best networking social site. Man is a social animal. Data science is an emerging field. Data science jobs are high in demand.'\n",
    "words = word_tokenize(sentence_test)\n",
    "\n",
    "start = time.time()\n",
    "tagged_seq_test1 = Viterbi(words)\n",
    "end = time.time()\n",
    "difference = end-start\n",
    "\n",
    "print('Time Taken in seconds = ', difference)\n",
    "print(tagged_seq_test1)"
   ]
  },
  {
   "cell_type": "markdown",
   "metadata": {},
   "source": [
    "The Viterbi algorithm gave us approximately 87% accuracy. The 13% loss of accuracy, to a large part, can be attributed to the fact that when the algorithm hits an unknown word (i.e. not present in the training set), it naively assigns the first tag in the list of tags that we have created. "
   ]
  },
  {
   "cell_type": "code",
   "execution_count": 30,
   "metadata": {
    "scrolled": true
   },
   "outputs": [
    {
     "name": "stdout",
     "output_type": "stream",
     "text": [
      "In this case, the first tag happens to be PRT, so it assigns PRT to all unknown words.\n"
     ]
    }
   ],
   "source": [
    "print(f'In this case, the first tag happens to be {first_tag}, so it assigns {first_tag} to all unknown words.')"
   ]
  },
  {
   "cell_type": "markdown",
   "metadata": {},
   "source": [
    "#### Load the Test Sentences file"
   ]
  },
  {
   "cell_type": "code",
   "execution_count": 31,
   "metadata": {},
   "outputs": [
    {
     "data": {
      "text/html": [
       "<div>\n",
       "<style scoped>\n",
       "    .dataframe tbody tr th:only-of-type {\n",
       "        vertical-align: middle;\n",
       "    }\n",
       "\n",
       "    .dataframe tbody tr th {\n",
       "        vertical-align: top;\n",
       "    }\n",
       "\n",
       "    .dataframe thead th {\n",
       "        text-align: right;\n",
       "    }\n",
       "</style>\n",
       "<table border=\"1\" class=\"dataframe\">\n",
       "  <thead>\n",
       "    <tr style=\"text-align: right;\">\n",
       "      <th></th>\n",
       "      <th>0</th>\n",
       "    </tr>\n",
       "  </thead>\n",
       "  <tbody>\n",
       "    <tr>\n",
       "      <th>0</th>\n",
       "      <td>Android is a mobile operating system developed by Google.</td>\n",
       "    </tr>\n",
       "    <tr>\n",
       "      <th>1</th>\n",
       "      <td>Android has been the best-selling OS worldwide on smartphones since 2011 and on tablets since 2013.</td>\n",
       "    </tr>\n",
       "    <tr>\n",
       "      <th>2</th>\n",
       "      <td>Google and Twitter made a deal in 2015 that gave Google access to Twitter's firehose.</td>\n",
       "    </tr>\n",
       "    <tr>\n",
       "      <th>3</th>\n",
       "      <td>Twitter is an online news and social networking service on which users post and interact with messages known as tweets.</td>\n",
       "    </tr>\n",
       "    <tr>\n",
       "      <th>4</th>\n",
       "      <td>Before entering politics, Donald Trump was a domineering businessman and a television personality.</td>\n",
       "    </tr>\n",
       "    <tr>\n",
       "      <th>5</th>\n",
       "      <td>The 2018 FIFA World Cup is the 21st FIFA World Cup, an international football tournament contested once every four years.</td>\n",
       "    </tr>\n",
       "    <tr>\n",
       "      <th>6</th>\n",
       "      <td>This is the first World Cup to be held in Eastern Europe and the 11th time that it has been held in Europe.</td>\n",
       "    </tr>\n",
       "    <tr>\n",
       "      <th>7</th>\n",
       "      <td>Show me the cheapest round trips from Dallas to Atlanta</td>\n",
       "    </tr>\n",
       "    <tr>\n",
       "      <th>8</th>\n",
       "      <td>I would like to see flights from Denver to Philadelphia.</td>\n",
       "    </tr>\n",
       "    <tr>\n",
       "      <th>9</th>\n",
       "      <td>Show me the price of the flights leaving Atlanta at about 3 in the afternoon and arriving in San Francisco.</td>\n",
       "    </tr>\n",
       "    <tr>\n",
       "      <th>10</th>\n",
       "      <td>NASA invited social media users to experience the launch of ICESAT-2 Satellite.</td>\n",
       "    </tr>\n",
       "  </tbody>\n",
       "</table>\n",
       "</div>"
      ],
      "text/plain": [
       "                                                                                                                            0\n",
       "0                                                                   Android is a mobile operating system developed by Google.\n",
       "1                         Android has been the best-selling OS worldwide on smartphones since 2011 and on tablets since 2013.\n",
       "2                                       Google and Twitter made a deal in 2015 that gave Google access to Twitter's firehose.\n",
       "3     Twitter is an online news and social networking service on which users post and interact with messages known as tweets.\n",
       "4                          Before entering politics, Donald Trump was a domineering businessman and a television personality.\n",
       "5   The 2018 FIFA World Cup is the 21st FIFA World Cup, an international football tournament contested once every four years.\n",
       "6                 This is the first World Cup to be held in Eastern Europe and the 11th time that it has been held in Europe.\n",
       "7                                                                     Show me the cheapest round trips from Dallas to Atlanta\n",
       "8                                                                    I would like to see flights from Denver to Philadelphia.\n",
       "9                 Show me the price of the flights leaving Atlanta at about 3 in the afternoon and arriving in San Francisco.\n",
       "10                                            NASA invited social media users to experience the launch of ICESAT-2 Satellite."
      ]
     },
     "execution_count": 31,
     "metadata": {},
     "output_type": "execute_result"
    }
   ],
   "source": [
    "test_sentences = pd.read_csv('Test_sentences.txt', sep=\"\\n\", header=None)\n",
    "pd.set_option('display.max_colwidth', max(5, len(max(test_sentences[0], key=len)) + 10))\n",
    "test_sentences"
   ]
  },
  {
   "cell_type": "markdown",
   "metadata": {},
   "source": [
    "###### Test the loaded sentences"
   ]
  },
  {
   "cell_type": "code",
   "execution_count": 32,
   "metadata": {
    "scrolled": true
   },
   "outputs": [
    {
     "name": "stdout",
     "output_type": "stream",
     "text": [
      "Android is a mobile operating system developed by Google.\n",
      "[('Android', 'PRT'), ('is', 'VERB'), ('a', 'DET'), ('mobile', 'ADJ'), ('operating', 'NOUN'), ('system', 'NOUN'), ('developed', 'VERB'), ('by', 'ADP'), ('Google', 'PRT'), ('.', '.')]\n",
      "Time Taken in seconds =  2.6553468704223633 \n",
      "\n",
      "Android has been the best-selling OS worldwide on smartphones since 2011 and on tablets since 2013.\n",
      "[('Android', 'PRT'), ('has', 'VERB'), ('been', 'VERB'), ('the', 'DET'), ('best-selling', 'ADJ'), ('OS', 'PRT'), ('worldwide', 'PRT'), ('on', 'ADP'), ('smartphones', 'PRT'), ('since', 'ADP'), ('2011', 'PRT'), ('and', 'CONJ'), ('on', 'ADP'), ('tablets', 'NOUN'), ('since', 'ADP'), ('2013', 'PRT'), ('.', '.')]\n",
      "Time Taken in seconds =  5.025899648666382 \n",
      "\n",
      "Google and Twitter made a deal in 2015 that gave Google access to Twitter's firehose.\n",
      "[('Google', 'PRT'), ('and', 'CONJ'), ('Twitter', 'PRT'), ('made', 'VERB'), ('a', 'DET'), ('deal', 'NOUN'), ('in', 'ADP'), ('2015', 'PRT'), ('that', 'DET'), ('gave', 'VERB'), ('Google', 'PRT'), ('access', 'NOUN'), ('to', 'PRT'), ('Twitter', 'PRT'), (\"'s\", 'VERB'), ('firehose', 'PRT'), ('.', '.')]\n",
      "Time Taken in seconds =  5.028900146484375 \n",
      "\n",
      "Twitter is an online news and social networking service on which users post and interact with messages known as tweets.\n",
      "[('Twitter', 'PRT'), ('is', 'VERB'), ('an', 'DET'), ('online', 'PRT'), ('news', 'NOUN'), ('and', 'CONJ'), ('social', 'ADJ'), ('networking', 'NOUN'), ('service', 'NOUN'), ('on', 'ADP'), ('which', 'DET'), ('users', 'NOUN'), ('post', 'NOUN'), ('and', 'CONJ'), ('interact', 'PRT'), ('with', 'ADP'), ('messages', 'PRT'), ('known', 'VERB'), ('as', 'ADP'), ('tweets', 'PRT'), ('.', '.')]\n",
      "Time Taken in seconds =  6.303112268447876 \n",
      "\n",
      "Before entering politics, Donald Trump was a domineering businessman and a television personality.\n",
      "[('Before', 'ADP'), ('entering', 'VERB'), ('politics', 'NOUN'), (',', '.'), ('Donald', 'NOUN'), ('Trump', 'NOUN'), ('was', 'VERB'), ('a', 'DET'), ('domineering', 'PRT'), ('businessman', 'NOUN'), ('and', 'CONJ'), ('a', 'DET'), ('television', 'NOUN'), ('personality', 'PRT'), ('.', '.')]\n",
      "Time Taken in seconds =  4.706098318099976 \n",
      "\n",
      "The 2018 FIFA World Cup is the 21st FIFA World Cup, an international football tournament contested once every four years.\n",
      "[('The', 'DET'), ('2018', 'PRT'), ('FIFA', 'PRT'), ('World', 'NOUN'), ('Cup', 'PRT'), ('is', 'VERB'), ('the', 'DET'), ('21st', 'PRT'), ('FIFA', 'PRT'), ('World', 'NOUN'), ('Cup', 'PRT'), (',', '.'), ('an', 'DET'), ('international', 'ADJ'), ('football', 'NOUN'), ('tournament', 'PRT'), ('contested', 'PRT'), ('once', 'ADV'), ('every', 'DET'), ('four', 'NUM'), ('years', 'NOUN'), ('.', '.')]\n",
      "Time Taken in seconds =  6.2711358070373535 \n",
      "\n",
      "This is the first World Cup to be held in Eastern Europe and the 11th time that it has been held in Europe.\n",
      "[('This', 'DET'), ('is', 'VERB'), ('the', 'DET'), ('first', 'ADJ'), ('World', 'NOUN'), ('Cup', 'PRT'), ('to', 'PRT'), ('be', 'VERB'), ('held', 'VERB'), ('in', 'ADP'), ('Eastern', 'NOUN'), ('Europe', 'NOUN'), ('and', 'CONJ'), ('the', 'DET'), ('11th', 'ADJ'), ('time', 'NOUN'), ('that', 'ADP'), ('it', 'PRON'), ('has', 'VERB'), ('been', 'VERB'), ('held', 'VERB'), ('in', 'ADP'), ('Europe', 'NOUN'), ('.', '.')]\n",
      "Time Taken in seconds =  7.097622632980347 \n",
      "\n",
      "Show me the cheapest round trips from Dallas to Atlanta\n",
      "[('Show', 'NOUN'), ('me', 'PRON'), ('the', 'DET'), ('cheapest', 'ADJ'), ('round', 'NOUN'), ('trips', 'PRT'), ('from', 'ADP'), ('Dallas', 'NOUN'), ('to', 'PRT'), ('Atlanta', 'NOUN')]\n",
      "Time Taken in seconds =  2.5324394702911377 \n",
      "\n",
      "I would like to see flights from Denver to Philadelphia.\n",
      "[('I', 'PRON'), ('would', 'VERB'), ('like', 'ADP'), ('to', 'PRT'), ('see', 'VERB'), ('flights', 'NOUN'), ('from', 'ADP'), ('Denver', 'NOUN'), ('to', 'PRT'), ('Philadelphia', 'NOUN'), ('.', '.')]\n",
      "Time Taken in seconds =  2.7133259773254395 \n",
      "\n",
      "Show me the price of the flights leaving Atlanta at about 3 in the afternoon and arriving in San Francisco.\n",
      "[('Show', 'NOUN'), ('me', 'PRON'), ('the', 'DET'), ('price', 'NOUN'), ('of', 'ADP'), ('the', 'DET'), ('flights', 'NOUN'), ('leaving', 'VERB'), ('Atlanta', 'NOUN'), ('at', 'ADP'), ('about', 'ADP'), ('3', 'NUM'), ('in', 'ADP'), ('the', 'DET'), ('afternoon', 'NOUN'), ('and', 'CONJ'), ('arriving', 'PRT'), ('in', 'ADP'), ('San', 'NOUN'), ('Francisco', 'NOUN'), ('.', '.')]\n",
      "Time Taken in seconds =  5.104852199554443 \n",
      "\n",
      "NASA invited social media users to experience the launch of ICESAT-2 Satellite.\n",
      "[('NASA', 'PRT'), ('invited', 'PRT'), ('social', 'ADJ'), ('media', 'NOUN'), ('users', 'NOUN'), ('to', 'PRT'), ('experience', 'NOUN'), ('the', 'DET'), ('launch', 'NOUN'), ('of', 'ADP'), ('ICESAT-2', 'PRT'), ('Satellite', 'PRT'), ('.', '.')]\n",
      "Time Taken in seconds =  3.2979657649993896 \n",
      "\n"
     ]
    }
   ],
   "source": [
    "## Testing\n",
    "for sentence_test in test_sentences[0]:\n",
    "    print(sentence_test)\n",
    "    words = word_tokenize(sentence_test)\n",
    "    start = time.time()\n",
    "    tagged_seq_tests = Viterbi(words)\n",
    "    end = time.time()\n",
    "    difference = end-start\n",
    "    print(tagged_seq_tests)\n",
    "    print('Time Taken in seconds = ', difference, '\\n')"
   ]
  },
  {
   "cell_type": "markdown",
   "metadata": {},
   "source": [
    "### Listing down some unknown words which are incorrectly tagged by the original Viterbi POS tagger.\n",
    "\n",
    "- '2011', '2013', '2015', '2018', '21st', '11th' \n",
    "- 'Google', 'OS', 'worldwide', 'Android', 'Twitter', 'online', 'smartphones'\n",
    "- ',',  'interact', 'domineering', 'personality'\n",
    "- 'World', 'Cup', 'tournament', 'Eastern', 'Europe', 'FIFA', 'World', 'Cup'\n",
    "- 'contested', 'arriving', 'invited',  \n",
    "- 'San', 'Francisco', arriving', 'messages'\n",
    "- 'NASA', 'ICESAT-2', 'Satellite'"
   ]
  },
  {
   "cell_type": "markdown",
   "metadata": {},
   "source": [
    "The vanilla Viterbi algorithm is not effectively tagging most of the words, as we have seen above.\n",
    "\n",
    "Lets do an EDA to undetstand the relations ships in training data. Then we can try lexicon, rule-based or probabilistic approaches to improve the Viterbi algorithm."
   ]
  },
  {
   "cell_type": "markdown",
   "metadata": {},
   "source": [
    "### Exploratory Analysis of training data"
   ]
  },
  {
   "cell_type": "markdown",
   "metadata": {},
   "source": [
    "Let's now conduct some basic exploratory analysis to understand the tagged corpus. To start with, let's ask some simple questions:\n",
    "1. How many unique tags are there in the corpus? \n",
    "2. Which is the most frequent tag in the corpus?"
   ]
  },
  {
   "cell_type": "code",
   "execution_count": 33,
   "metadata": {},
   "outputs": [
    {
     "data": {
      "text/plain": [
       "12"
      ]
     },
     "execution_count": 33,
     "metadata": {},
     "output_type": "execute_result"
    }
   ],
   "source": [
    "# Find the number of unique POS tags in the corpus\n",
    "tags = [pair[1] for pair in train_tagged_words]\n",
    "unique_tags = set(tags)\n",
    "len(unique_tags)"
   ]
  },
  {
   "cell_type": "code",
   "execution_count": 34,
   "metadata": {},
   "outputs": [
    {
     "data": {
      "text/plain": [
       "Counter({'NOUN': 27423,\n",
       "         'ADP': 9345,\n",
       "         'PRT': 3059,\n",
       "         'VERB': 12885,\n",
       "         'X': 6276,\n",
       "         'DET': 8284,\n",
       "         '.': 11118,\n",
       "         'NUM': 3363,\n",
       "         'ADJ': 6077,\n",
       "         'CONJ': 2131,\n",
       "         'ADV': 3010,\n",
       "         'PRON': 2618})"
      ]
     },
     "execution_count": 34,
     "metadata": {},
     "output_type": "execute_result"
    }
   ],
   "source": [
    "# Which is the most frequent tag in the corpus\n",
    "from collections import Counter\n",
    "tag_counts = Counter(tags)\n",
    "tag_counts"
   ]
  },
  {
   "cell_type": "code",
   "execution_count": 35,
   "metadata": {},
   "outputs": [
    {
     "data": {
      "text/plain": [
       "[('NOUN', 27423), ('VERB', 12885), ('.', 11118), ('ADP', 9345), ('DET', 8284)]"
      ]
     },
     "execution_count": 35,
     "metadata": {},
     "output_type": "execute_result"
    }
   ],
   "source": [
    "# the most common tags can be seen using the most_common() method of Counter\n",
    "tag_counts.most_common(5)"
   ]
  },
  {
   "cell_type": "markdown",
   "metadata": {},
   "source": [
    "What fraction of words with the tag 'VERB' end with the letters 'ed'"
   ]
  },
  {
   "cell_type": "code",
   "execution_count": 36,
   "metadata": {
    "scrolled": false
   },
   "outputs": [
    {
     "name": "stdout",
     "output_type": "stream",
     "text": [
      "0.2060535506402794\n"
     ]
    },
    {
     "data": {
      "text/plain": [
       "[('traded', 'VERB'),\n",
       " ('priced', 'VERB'),\n",
       " ('treated', 'VERB'),\n",
       " ('reported', 'VERB'),\n",
       " ('recorded', 'VERB'),\n",
       " ('viewed', 'VERB'),\n",
       " ('expected', 'VERB'),\n",
       " ('delivered', 'VERB'),\n",
       " ('resigned', 'VERB'),\n",
       " ('obtained', 'VERB'),\n",
       " ('cited', 'VERB'),\n",
       " ('agreed', 'VERB'),\n",
       " ('changed', 'VERB'),\n",
       " ('occurred', 'VERB'),\n",
       " ('recouped', 'VERB'),\n",
       " ('remained', 'VERB'),\n",
       " ('skipped', 'VERB'),\n",
       " ('automated', 'VERB'),\n",
       " ('slipped', 'VERB'),\n",
       " ('continued', 'VERB')]"
      ]
     },
     "execution_count": 36,
     "metadata": {},
     "output_type": "execute_result"
    }
   ],
   "source": [
    "# how many words with the tag 'VERB' end with 'ed'\n",
    "past_tense_verbs = [pair for pair in train_tagged_words if pair[1]=='VERB']\n",
    "ed_verbs = [pair for pair in past_tense_verbs if pair[0].endswith('ed')]\n",
    "print(len(ed_verbs) / len(past_tense_verbs))\n",
    "ed_verbs[:20]"
   ]
  },
  {
   "cell_type": "markdown",
   "metadata": {},
   "source": [
    "How many words with the tag 'VERB' end with 'ing'"
   ]
  },
  {
   "cell_type": "code",
   "execution_count": 37,
   "metadata": {},
   "outputs": [
    {
     "name": "stdout",
     "output_type": "stream",
     "text": [
      "0.10710128055878929\n"
     ]
    },
    {
     "data": {
      "text/plain": [
       "[('turning', 'VERB'),\n",
       " ('booming', 'VERB'),\n",
       " ('growing', 'VERB'),\n",
       " ('succeeding', 'VERB'),\n",
       " ('retiring', 'VERB'),\n",
       " ('keeping', 'VERB'),\n",
       " ('increasing', 'VERB'),\n",
       " ('fighting', 'VERB'),\n",
       " ('eating', 'VERB'),\n",
       " ('drinking', 'VERB'),\n",
       " ('regarding', 'VERB'),\n",
       " ('running', 'VERB'),\n",
       " ('facing', 'VERB'),\n",
       " ('following', 'VERB'),\n",
       " ('initialing', 'VERB'),\n",
       " ('amending', 'VERB'),\n",
       " ('introducing', 'VERB'),\n",
       " ('starting', 'VERB'),\n",
       " ('prosecuting', 'VERB'),\n",
       " ('being', 'VERB')]"
      ]
     },
     "execution_count": 37,
     "metadata": {},
     "output_type": "execute_result"
    }
   ],
   "source": [
    "# How many words with the tag 'VERB' end with 'ing'\n",
    "participle_verbs = [pair for pair in train_tagged_words if pair[1]=='VERB']\n",
    "ing_verbs = [pair for pair in participle_verbs if pair[0].endswith('ing')]\n",
    "print(len(ing_verbs) / len(participle_verbs))\n",
    "ing_verbs[:20]"
   ]
  },
  {
   "cell_type": "markdown",
   "metadata": {},
   "source": [
    "How many words starts with digit and end with 'th'"
   ]
  },
  {
   "cell_type": "code",
   "execution_count": 38,
   "metadata": {},
   "outputs": [
    {
     "name": "stdout",
     "output_type": "stream",
     "text": [
      "0.0013865779256794233\n"
     ]
    },
    {
     "data": {
      "text/plain": [
       "[('10th', 'ADJ'),\n",
       " ('11th', 'ADJ'),\n",
       " ('84-month', 'ADJ'),\n",
       " ('1\\\\/10th', 'NOUN'),\n",
       " ('21-month', 'ADJ')]"
      ]
     },
     "execution_count": 38,
     "metadata": {},
     "output_type": "execute_result"
    }
   ],
   "source": [
    "# How many words starts with digit and end with 'th'\n",
    "digit_words = [pair for pair in train_tagged_words if pair[0].startswith(('0', '1', '2', '3', '4', '5', '6', '7', '8', '9'))]\n",
    "th_words = [pair for pair in digit_words if pair[0].endswith('th')]\n",
    "print(len(th_words) / len(digit_words))\n",
    "th_words[:20]"
   ]
  },
  {
   "cell_type": "markdown",
   "metadata": {},
   "source": [
    "How many words starts with digit and end with 'st'"
   ]
  },
  {
   "cell_type": "code",
   "execution_count": 39,
   "metadata": {},
   "outputs": [
    {
     "name": "stdout",
     "output_type": "stream",
     "text": [
      "0.00027731558513588466\n"
     ]
    },
    {
     "data": {
      "text/plain": [
       "[('1st', 'NUM')]"
      ]
     },
     "execution_count": 39,
     "metadata": {},
     "output_type": "execute_result"
    }
   ],
   "source": [
    "# How many words starts with digit and end with 'st'\n",
    "st_words = [pair for pair in digit_words if pair[0].endswith('st')]\n",
    "print(len(st_words) / len(digit_words))\n",
    "st_words[:20]"
   ]
  },
  {
   "cell_type": "markdown",
   "metadata": {},
   "source": [
    "what fraction of adjectives ADJ are followed by a noun NOUN"
   ]
  },
  {
   "cell_type": "code",
   "execution_count": 40,
   "metadata": {},
   "outputs": [
    {
     "name": "stdout",
     "output_type": "stream",
     "text": [
      "6077\n",
      "4234\n",
      "0.696725357906862\n"
     ]
    }
   ],
   "source": [
    "# what fraction of adjectives ADJ are followed by a noun NOUN\n",
    "# create a list of all tags (without the words)\n",
    "tags = [pair[1] for pair in train_tagged_words]\n",
    "\n",
    "# create a list of ADJ tags\n",
    "ADJ_tags = [t for t in tags if t == 'ADJ']\n",
    "\n",
    "# create a list of (ADJ, NOUN) tags\n",
    "ADJ_nn_tags = [(t, tags[index+1]) for index, t in enumerate(tags) \n",
    "              if t=='ADJ' and tags[index+1]=='NOUN']\n",
    "\n",
    "print(len(ADJ_tags))\n",
    "print(len(ADJ_nn_tags))\n",
    "print(len(ADJ_nn_tags) / len(ADJ_tags))"
   ]
  },
  {
   "cell_type": "markdown",
   "metadata": {},
   "source": [
    "What fraction of determiners DET are followed by a noun NOUN"
   ]
  },
  {
   "cell_type": "code",
   "execution_count": 41,
   "metadata": {},
   "outputs": [
    {
     "name": "stdout",
     "output_type": "stream",
     "text": [
      "8284\n",
      "5302\n",
      "0.6400289715113472\n"
     ]
    }
   ],
   "source": [
    "# What fraction of determiners DET are followed by a noun NOUN\n",
    "DET_tags = [t for t in tags if t == 'DET']\n",
    "DET_nn_tags = [(t, tags[index+1]) for index, t in enumerate(tags) \n",
    "              if t=='DET' and tags[index+1]=='NOUN']\n",
    "\n",
    "print(len(DET_tags))\n",
    "print(len(DET_nn_tags))\n",
    "print(len(DET_nn_tags) / len(DET_tags))"
   ]
  },
  {
   "cell_type": "markdown",
   "metadata": {},
   "source": [
    "Which tag is most commonly assigned to the word 'World' "
   ]
  },
  {
   "cell_type": "code",
   "execution_count": 42,
   "metadata": {},
   "outputs": [
    {
     "data": {
      "text/plain": [
       "Counter({('world', 'NOUN'): 22, ('World', 'NOUN'): 15})"
      ]
     },
     "execution_count": 42,
     "metadata": {},
     "output_type": "execute_result"
    }
   ],
   "source": [
    "# Which tag is most commonly assigned to the word 'World' \n",
    "world = Counter([pair for pair in train_tagged_words if pair[0].lower() == 'world'])\n",
    "world"
   ]
  },
  {
   "cell_type": "markdown",
   "metadata": {},
   "source": [
    "Which tag is most commonly assigned to the word 'cup'"
   ]
  },
  {
   "cell_type": "code",
   "execution_count": 43,
   "metadata": {},
   "outputs": [
    {
     "data": {
      "text/plain": [
       "Counter()"
      ]
     },
     "execution_count": 43,
     "metadata": {},
     "output_type": "execute_result"
    }
   ],
   "source": [
    "# Which tag is most commonly assigned to the word 'cup'\n",
    "cup = Counter([pair for pair in train_tagged_words if pair[0].lower() == 'cup'])\n",
    "cup"
   ]
  },
  {
   "cell_type": "markdown",
   "metadata": {},
   "source": [
    "word 'cup' is not precent in the training data hence the result is null."
   ]
  },
  {
   "cell_type": "markdown",
   "metadata": {},
   "source": [
    "## Solve the problem of unknown words"
   ]
  },
  {
   "cell_type": "markdown",
   "metadata": {},
   "source": [
    "First let's analyse Why does the Viterbi algorithm choose a random tag on encountering an unknown word? "
   ]
  },
  {
   "cell_type": "markdown",
   "metadata": {},
   "source": [
    "Lets rewrite the vanilla algorithm with debug messages to find the issue."
   ]
  },
  {
   "cell_type": "code",
   "execution_count": 44,
   "metadata": {},
   "outputs": [],
   "source": [
    "# Viterbi Heuristic with debug messages for analysis\n",
    "def ViterbiDebug(words, train_bag = train_tagged_words):\n",
    "    state = []\n",
    "    T = list(set([pair[1] for pair in train_bag]))\n",
    "    for key, word in enumerate(words):\n",
    "        #initialise list of probability column for a given observation\n",
    "        p = [] \n",
    "        for tag in T:\n",
    "            if key == 0:\n",
    "                transition_p = tags_df.loc['.', tag]\n",
    "            else:\n",
    "                transition_p = tags_df.loc[state[-1], tag]\n",
    "            \n",
    "            # compute emission and state probabilities\n",
    "            emission_p = word_given_tag(words[key], tag)[0]/word_given_tag(words[key], tag)[1]\n",
    "            state_probability = emission_p * transition_p \n",
    "            print('key = ', key, 'word =', word, 'tag = ', tag, 'transition_p = ', transition_p,\n",
    "                  'emission_p = ', emission_p, 'state_probability = ', state_probability)\n",
    "            p.append(state_probability)\n",
    "            \n",
    "        pmax = max(p)\n",
    "        # getting state for which probability is maximum\n",
    "        state_max = T[p.index(pmax)] \n",
    "        state.append(state_max)\n",
    "        print('pmax = ', pmax, 'state_max = ', state_max)\n",
    "    return list(zip(words, state))"
   ]
  },
  {
   "cell_type": "markdown",
   "metadata": {},
   "source": [
    "Lets test our debug enabled algo with sentence which has words 'google, twitter and 2015' which was found to be unknown in previous test cases."
   ]
  },
  {
   "cell_type": "code",
   "execution_count": 45,
   "metadata": {},
   "outputs": [
    {
     "name": "stdout",
     "output_type": "stream",
     "text": [
      "Google and Twitter made a deal in 2015.\n",
      "key =  0 word = Google tag =  PRT transition_p =  0.00233855 emission_p =  0.0 state_probability =  0.0\n",
      "key =  0 word = Google tag =  ADV transition_p =  0.05207771 emission_p =  0.0 state_probability =  0.0\n",
      "key =  0 word = Google tag =  ADP transition_p =  0.09111351 emission_p =  0.0 state_probability =  0.0\n",
      "key =  0 word = Google tag =  NOUN transition_p =  0.22315164 emission_p =  0.0 state_probability =  0.0\n",
      "key =  0 word = Google tag =  NUM transition_p =  0.08050009 emission_p =  0.0 state_probability =  0.0\n",
      "key =  0 word = Google tag =  DET transition_p =  0.17350243 emission_p =  0.0 state_probability =  0.0\n",
      "key =  0 word = Google tag =  ADJ transition_p =  0.044972118 emission_p =  0.0 state_probability =  0.0\n",
      "key =  0 word = Google tag =  CONJ transition_p =  0.057924088 emission_p =  0.0 state_probability =  0.0\n",
      "key =  0 word = Google tag =  X transition_p =  0.026623493 emission_p =  0.0 state_probability =  0.0\n",
      "key =  0 word = Google tag =  VERB transition_p =  0.08850513 emission_p =  0.0 state_probability =  0.0\n",
      "key =  0 word = Google tag =  PRON transition_p =  0.06538946 emission_p =  0.0 state_probability =  0.0\n",
      "key =  0 word = Google tag =  . transition_p =  0.09381184 emission_p =  0.0 state_probability =  0.0\n",
      "pmax =  0.0 state_max =  PRT\n",
      "key =  1 word = and tag =  PRT transition_p =  0.0016345211 emission_p =  0.0 state_probability =  0.0\n",
      "key =  1 word = and tag =  ADV transition_p =  0.010134031 emission_p =  0.0 state_probability =  0.0\n",
      "key =  1 word = and tag =  ADP transition_p =  0.021575678 emission_p =  0.00010700909577314071 state_probability =  2.3087938084456933e-06\n",
      "key =  1 word = and tag =  NOUN transition_p =  0.24256293 emission_p =  7.293148087371914e-05 state_probability =  1.7690474036850743e-05\n",
      "key =  1 word = and tag =  NUM transition_p =  0.058515854 emission_p =  0.0 state_probability =  0.0\n",
      "key =  1 word = and tag =  DET transition_p =  0.1003596 emission_p =  0.0 state_probability =  0.0\n",
      "key =  1 word = and tag =  ADJ transition_p =  0.08630271 emission_p =  0.0004936646371564917 state_probability =  4.260459728140531e-05\n",
      "key =  1 word = and tag =  CONJ transition_p =  0.0022883294 emission_p =  0.661191928671985 state_probability =  0.0015130249393561085\n",
      "key =  1 word = and tag =  X transition_p =  0.013403073 emission_p =  0.0 state_probability =  0.0\n",
      "key =  1 word = and tag =  VERB transition_p =  0.402746 emission_p =  0.0 state_probability =  0.0\n",
      "key =  1 word = and tag =  PRON transition_p =  0.018960444 emission_p =  0.0 state_probability =  0.0\n",
      "key =  1 word = and tag =  . transition_p =  0.041516837 emission_p =  0.0 state_probability =  0.0\n",
      "pmax =  0.0015130249393561085 state_max =  CONJ\n",
      "key =  2 word = Twitter tag =  PRT transition_p =  0.0046926327 emission_p =  0.0 state_probability =  0.0\n",
      "key =  2 word = Twitter tag =  ADV transition_p =  0.05584233 emission_p =  0.0 state_probability =  0.0\n",
      "key =  2 word = Twitter tag =  ADP transition_p =  0.054434538 emission_p =  0.0 state_probability =  0.0\n",
      "key =  2 word = Twitter tag =  NOUN transition_p =  0.34913185 emission_p =  0.0 state_probability =  0.0\n",
      "key =  2 word = Twitter tag =  NUM transition_p =  0.042233694 emission_p =  0.0 state_probability =  0.0\n",
      "key =  2 word = Twitter tag =  DET transition_p =  0.12153918 emission_p =  0.0 state_probability =  0.0\n",
      "key =  2 word = Twitter tag =  ADJ transition_p =  0.116846554 emission_p =  0.0 state_probability =  0.0\n",
      "key =  2 word = Twitter tag =  CONJ transition_p =  0.00046926326 emission_p =  0.0 state_probability =  0.0\n",
      "key =  2 word = Twitter tag =  X transition_p =  0.007977475 emission_p =  0.0 state_probability =  0.0\n",
      "key =  2 word = Twitter tag =  VERB transition_p =  0.15391834 emission_p =  0.0 state_probability =  0.0\n",
      "key =  2 word = Twitter tag =  PRON transition_p =  0.058657907 emission_p =  0.0 state_probability =  0.0\n",
      "key =  2 word = Twitter tag =  . transition_p =  0.034256216 emission_p =  0.0 state_probability =  0.0\n",
      "pmax =  0.0 state_max =  PRT\n",
      "key =  3 word = made tag =  PRT transition_p =  0.0016345211 emission_p =  0.0 state_probability =  0.0\n",
      "key =  3 word = made tag =  ADV transition_p =  0.010134031 emission_p =  0.0 state_probability =  0.0\n",
      "key =  3 word = made tag =  ADP transition_p =  0.021575678 emission_p =  0.0 state_probability =  0.0\n",
      "key =  3 word = made tag =  NOUN transition_p =  0.24256293 emission_p =  0.0 state_probability =  0.0\n",
      "key =  3 word = made tag =  NUM transition_p =  0.058515854 emission_p =  0.0 state_probability =  0.0\n",
      "key =  3 word = made tag =  DET transition_p =  0.1003596 emission_p =  0.0 state_probability =  0.0\n",
      "key =  3 word = made tag =  ADJ transition_p =  0.08630271 emission_p =  0.0 state_probability =  0.0\n",
      "key =  3 word = made tag =  CONJ transition_p =  0.0022883294 emission_p =  0.0 state_probability =  0.0\n",
      "key =  3 word = made tag =  X transition_p =  0.013403073 emission_p =  0.0 state_probability =  0.0\n",
      "key =  3 word = made tag =  VERB transition_p =  0.402746 emission_p =  0.003958090803259604 state_probability =  0.0015941052067682266\n",
      "key =  3 word = made tag =  PRON transition_p =  0.018960444 emission_p =  0.0 state_probability =  0.0\n",
      "key =  3 word = made tag =  . transition_p =  0.041516837 emission_p =  0.0 state_probability =  0.0\n",
      "pmax =  0.0015941052067682266 state_max =  VERB\n",
      "key =  4 word = a tag =  PRT transition_p =  0.031121459 emission_p =  0.0 state_probability =  0.0\n",
      "key =  4 word = a tag =  ADV transition_p =  0.08257664 emission_p =  0.0 state_probability =  0.0\n",
      "key =  4 word = a tag =  ADP transition_p =  0.09049282 emission_p =  0.00010700909577314071 state_probability =  9.683555080777123e-06\n",
      "key =  4 word = a tag =  NOUN transition_p =  0.11090415 emission_p =  0.0 state_probability =  0.0\n",
      "key =  4 word = a tag =  NUM transition_p =  0.02281723 emission_p =  0.0 state_probability =  0.0\n",
      "key =  4 word = a tag =  DET transition_p =  0.13310051 emission_p =  0.2141477547078706 state_probability =  0.028503175290640514\n",
      "key =  4 word = a tag =  ADJ transition_p =  0.064648814 emission_p =  0.0003291097581043278 state_probability =  2.127655570162192e-05\n",
      "key =  4 word = a tag =  CONJ transition_p =  0.005587893 emission_p =  0.0 state_probability =  0.0\n",
      "key =  4 word = a tag =  X transition_p =  0.21800543 emission_p =  0.00015933715742511153 state_probability =  3.47363661055811e-05\n",
      "key =  4 word = a tag =  VERB transition_p =  0.16918898 emission_p =  0.0 state_probability =  0.0\n",
      "key =  4 word = a tag =  PRON transition_p =  0.036243696 emission_p =  0.0 state_probability =  0.0\n",
      "key =  4 word = a tag =  . transition_p =  0.035312377 emission_p =  0.0 state_probability =  0.0\n",
      "pmax =  0.028503175290640514 state_max =  DET\n",
      "key =  5 word = deal tag =  PRT transition_p =  0.00024142927 emission_p =  0.0 state_probability =  0.0\n",
      "key =  5 word = deal tag =  ADV transition_p =  0.012312892 emission_p =  0.0 state_probability =  0.0\n",
      "key =  5 word = deal tag =  ADP transition_p =  0.009053597 emission_p =  0.0 state_probability =  0.0\n",
      "key =  5 word = deal tag =  NOUN transition_p =  0.64002895 emission_p =  0.0005834518469897531 state_probability =  0.00037342607507697686\n",
      "key =  5 word = deal tag =  NUM transition_p =  0.021970063 emission_p =  0.0 state_probability =  0.0\n",
      "key =  5 word = deal tag =  DET transition_p =  0.005311444 emission_p =  0.0 state_probability =  0.0\n",
      "key =  5 word = deal tag =  ADJ transition_p =  0.20497344 emission_p =  0.0 state_probability =  0.0\n",
      "key =  5 word = deal tag =  CONJ transition_p =  0.00048285854 emission_p =  0.0 state_probability =  0.0\n",
      "key =  5 word = deal tag =  X transition_p =  0.045509417 emission_p =  0.0 state_probability =  0.0\n",
      "key =  5 word = deal tag =  VERB transition_p =  0.038387254 emission_p =  0.00015521924718665114 state_probability =  5.958440648894186e-06\n",
      "key =  5 word = deal tag =  PRON transition_p =  0.0037421535 emission_p =  0.0 state_probability =  0.0\n",
      "key =  5 word = deal tag =  . transition_p =  0.01798648 emission_p =  0.0 state_probability =  0.0\n",
      "pmax =  0.00037342607507697686 state_max =  NOUN\n",
      "key =  6 word = in tag =  PRT transition_p =  0.04383182 emission_p =  0.004576659038901602 state_probability =  0.0002006033022016355\n",
      "key =  6 word = in tag =  ADV transition_p =  0.016883638 emission_p =  0.000664451827242525 state_probability =  1.1218363957547667e-05\n",
      "key =  6 word = in tag =  ADP transition_p =  0.17627539 emission_p =  0.15719636169074372 state_probability =  0.027709849555904435\n",
      "key =  6 word = in tag =  NOUN transition_p =  0.26463187 emission_p =  3.646574043685957e-05 state_probability =  9.649996988249004e-06\n"
     ]
    },
    {
     "name": "stdout",
     "output_type": "stream",
     "text": [
      "key =  6 word = in tag =  NUM transition_p =  0.009626956 emission_p =  0.0 state_probability =  0.0\n",
      "key =  6 word = in tag =  DET transition_p =  0.013309996 emission_p =  0.0 state_probability =  0.0\n",
      "key =  6 word = in tag =  ADJ transition_p =  0.012288954 emission_p =  0.0 state_probability =  0.0\n",
      "key =  6 word = in tag =  CONJ transition_p =  0.0419356 emission_p =  0.0 state_probability =  0.0\n",
      "key =  6 word = in tag =  X transition_p =  0.029136127 emission_p =  0.0 state_probability =  0.0\n",
      "key =  6 word = in tag =  VERB transition_p =  0.14797798 emission_p =  0.0 state_probability =  0.0\n",
      "key =  6 word = in tag =  PRON transition_p =  0.0049228747 emission_p =  0.0 state_probability =  0.0\n",
      "key =  6 word = in tag =  . transition_p =  0.23917879 emission_p =  0.0 state_probability =  0.0\n",
      "pmax =  0.027709849555904435 state_max =  ADP\n",
      "key =  7 word = 2015 tag =  PRT transition_p =  0.0014981274 emission_p =  0.0 state_probability =  0.0\n",
      "key =  7 word = 2015 tag =  ADV transition_p =  0.013162118 emission_p =  0.0 state_probability =  0.0\n",
      "key =  7 word = 2015 tag =  ADP transition_p =  0.017228464 emission_p =  0.0 state_probability =  0.0\n",
      "key =  7 word = 2015 tag =  NOUN transition_p =  0.32177636 emission_p =  0.0 state_probability =  0.0\n",
      "key =  7 word = 2015 tag =  NUM transition_p =  0.062921345 emission_p =  0.0 state_probability =  0.0\n",
      "key =  7 word = 2015 tag =  DET transition_p =  0.32637775 emission_p =  0.0 state_probability =  0.0\n",
      "key =  7 word = 2015 tag =  ADJ transition_p =  0.10529695 emission_p =  0.0 state_probability =  0.0\n",
      "key =  7 word = 2015 tag =  CONJ transition_p =  0.00085607276 emission_p =  0.0 state_probability =  0.0\n",
      "key =  7 word = 2015 tag =  X transition_p =  0.03402889 emission_p =  0.0 state_probability =  0.0\n",
      "key =  7 word = 2015 tag =  VERB transition_p =  0.0082397 emission_p =  0.0 state_probability =  0.0\n",
      "key =  7 word = 2015 tag =  PRON transition_p =  0.06912787 emission_p =  0.0 state_probability =  0.0\n",
      "key =  7 word = 2015 tag =  . transition_p =  0.039486356 emission_p =  0.0 state_probability =  0.0\n",
      "pmax =  0.0 state_max =  PRT\n",
      "key =  8 word = . tag =  PRT transition_p =  0.0016345211 emission_p =  0.0 state_probability =  0.0\n",
      "key =  8 word = . tag =  ADV transition_p =  0.010134031 emission_p =  0.0 state_probability =  0.0\n",
      "key =  8 word = . tag =  ADP transition_p =  0.021575678 emission_p =  0.0 state_probability =  0.0\n",
      "key =  8 word = . tag =  NOUN transition_p =  0.24256293 emission_p =  0.0 state_probability =  0.0\n",
      "key =  8 word = . tag =  NUM transition_p =  0.058515854 emission_p =  0.0 state_probability =  0.0\n",
      "key =  8 word = . tag =  DET transition_p =  0.1003596 emission_p =  0.0 state_probability =  0.0\n",
      "key =  8 word = . tag =  ADJ transition_p =  0.08630271 emission_p =  0.0 state_probability =  0.0\n",
      "key =  8 word = . tag =  CONJ transition_p =  0.0022883294 emission_p =  0.0 state_probability =  0.0\n",
      "key =  8 word = . tag =  X transition_p =  0.013403073 emission_p =  0.0 state_probability =  0.0\n",
      "key =  8 word = . tag =  VERB transition_p =  0.402746 emission_p =  0.0 state_probability =  0.0\n",
      "key =  8 word = . tag =  PRON transition_p =  0.018960444 emission_p =  0.0 state_probability =  0.0\n",
      "key =  8 word = . tag =  . transition_p =  0.041516837 emission_p =  0.327217125382263 state_probability =  0.013585019970614612\n",
      "pmax =  0.013585019970614612 state_max =  .\n",
      "[('Google', 'PRT'), ('and', 'CONJ'), ('Twitter', 'PRT'), ('made', 'VERB'), ('a', 'DET'), ('deal', 'NOUN'), ('in', 'ADP'), ('2015', 'PRT'), ('.', '.')]\n"
     ]
    }
   ],
   "source": [
    "sentence_test = 'Google and Twitter made a deal in 2015.'\n",
    "print(sentence_test)\n",
    "words = word_tokenize(sentence_test)\n",
    "tagged_seq_debug = ViterbiDebug(words)\n",
    "difference = end-start\n",
    "print(tagged_seq_debug)"
   ]
  },
  {
   "cell_type": "markdown",
   "metadata": {},
   "source": [
    "###### Observations\n",
    "- Its been observed that unknown words belong to the first tag in the list of tags from training bag.\n",
    "- For unknown words the emission probablity is 0 hence the state probability will become 0 as (state probability = transition probability * emission probablity).\n",
    "- Since all the state probability is 0 the pmax will be 0 and hence the index of list T will be 0 and the first one in the list will be selected as the TAG. "
   ]
  },
  {
   "cell_type": "markdown",
   "metadata": {},
   "source": [
    "### Viterbi Modification-Technique-1"
   ]
  },
  {
   "cell_type": "markdown",
   "metadata": {},
   "source": [
    "- Modify the Viterbi algorithm so that it considers only one of the transition or emission probabilities for unknown words."
   ]
  },
  {
   "cell_type": "markdown",
   "metadata": {},
   "source": [
    "#### Solution - For unknown words, set state probability as most frequent tag in corpus\n",
    "Change the code as given below\n",
    "- if maximum state probablity is 0.0 then use the max transition probability to get most frequent tag in corpus."
   ]
  },
  {
   "cell_type": "markdown",
   "metadata": {},
   "source": [
    "Modified Algorithm as per the above solution"
   ]
  },
  {
   "cell_type": "code",
   "execution_count": 46,
   "metadata": {},
   "outputs": [],
   "source": [
    "# Viterbi Heuristic with unknown word handling version 1 \n",
    "def Viterbi_v1(words, train_bag = train_tagged_words):\n",
    "    state = []\n",
    "    T = list(set([pair[1] for pair in train_bag]))\n",
    "    \n",
    "    for key, word in enumerate(words):\n",
    "        #initialise list of probability column for a given observation\n",
    "        p = []\n",
    "        trans_prob = []\n",
    "        for tag in T:\n",
    "            if key == 0:\n",
    "                transition_p = tags_df.loc['.', tag]\n",
    "            else:\n",
    "                transition_p = tags_df.loc[state[-1], tag]\n",
    "                \n",
    "            # compute emission and state probabilities\n",
    "            emission_p = word_given_tag(words[key], tag)[0]/word_given_tag(words[key], tag)[1]\n",
    "            state_probability = emission_p * transition_p  \n",
    "            \n",
    "            # add the state probablitiy to lit of probablities\n",
    "            # we will take the maximum probablity from this collection\n",
    "            p.append(state_probability)\n",
    "            \n",
    "            # Add the transition probablity to a list \n",
    "            # In the case of unknown words this will be\n",
    "            # used to set max transition probability as state probability.\n",
    "            trans_prob.append(transition_p)\n",
    "            \n",
    "        pmax = max(p)\n",
    "        \n",
    "        # getting state for which probability is maximum\n",
    "        if pmax == 0.0: # Handle unknown words\n",
    "            state_max = T[trans_prob.index(max(trans_prob))]\n",
    "        else:\n",
    "            state_max = T[p.index(pmax)]\n",
    "        \n",
    "        state.append(state_max)\n",
    "    return list(zip(words, state))"
   ]
  },
  {
   "cell_type": "markdown",
   "metadata": {},
   "source": [
    "Run a simple test case first"
   ]
  },
  {
   "cell_type": "code",
   "execution_count": 47,
   "metadata": {},
   "outputs": [
    {
     "name": "stdout",
     "output_type": "stream",
     "text": [
      "Google and Twitter made a deal in 2015.\n",
      "[('Google', 'NOUN'), ('and', 'CONJ'), ('Twitter', 'NOUN'), ('made', 'VERB'), ('a', 'DET'), ('deal', 'NOUN'), ('in', 'ADP'), ('2015', 'DET'), ('.', '.')]\n"
     ]
    }
   ],
   "source": [
    "sentence_test = 'Google and Twitter made a deal in 2015.'\n",
    "print(sentence_test)\n",
    "\n",
    "words = word_tokenize(sentence_test)\n",
    "tagged_seq_v1 = Viterbi_v1(words)\n",
    "\n",
    "print(tagged_seq_v1)"
   ]
  },
  {
   "cell_type": "markdown",
   "metadata": {},
   "source": [
    " The above change, solved random tagging of unknown words by using transition probability.\n",
    " - But as you have observed it assigned the most frequent tag from the training corpus which is NOUN.\n",
    " - In order to improve the accuracy we have to assign tag's based on the relationship between words, let's proceed to technique 2 for the same."
   ]
  },
  {
   "cell_type": "markdown",
   "metadata": {},
   "source": [
    "### Viterbi Modification - Technique-2"
   ]
  },
  {
   "cell_type": "markdown",
   "metadata": {},
   "source": [
    "Now lets imporve the unknown word tagging of vetribi algorithm by,\n",
    "- Creating a Rule-Based (Regular Expression) Tagger."
   ]
  },
  {
   "cell_type": "markdown",
   "metadata": {},
   "source": [
    "**Note:**-*using lexicon (unigram) taggers will not add any value as same corpus has to be used for training*"
   ]
  },
  {
   "cell_type": "markdown",
   "metadata": {},
   "source": [
    "#### Rule-Based (Regular Expression) Tagger"
   ]
  },
  {
   "cell_type": "markdown",
   "metadata": {},
   "source": [
    "Identify rules (e.g. based on morphological cues) that can be used to tag unknown words."
   ]
  },
  {
   "cell_type": "code",
   "execution_count": 48,
   "metadata": {},
   "outputs": [],
   "source": [
    "# specify patterns for tagging\n",
    "patterns = [\n",
    "    (r'(\\bone|\\btwo|\\bthree|\\bfour|\\bfive|\\bsix|\\bseven|\\beight|\\bnine|\\bten)', 'NUM'),  # number like\n",
    "    (r'(\\beleven|\\btwelve|\\bthirteen|\\bfourteen|\\bfifteen|\\bsixteen|\\bseventeen|\\beighteen|\\bnineteen)', 'NUM'), # number like\n",
    "    (r'(\\bten|\\btwenty|\\bthirty|\\bforty|\\bfifty|\\bsixty|\\bseventy|\\beighty|\\bninety|\\bhundred)', 'NUM'),  # number like\n",
    "    (r'(\\bthousand|\\bmillion|\\bbillion|\\btrillion|\\bquadrillion|\\bquintillion|\\bsextillion)', 'NUM'),  # number like\n",
    "    (r'(\\bseptillion|\\boctillion|\\bnonillion|\\bdecillion|\\bundecillion|\\bduodecillion)', 'NUM'),  # number like\n",
    "    (r'(\\btredecillion|\\bquattuordecillion|\\bsexdecillion|\\bseptendecillion|\\boctodecillion)', 'NUM'),  # number like\n",
    "    (r'(\\bnovemdecillion|\\bvigintillion)', 'NUM'),  # number like\n",
    "    (r'.*ing$', 'VERB'),                                                # gerund\n",
    "    (r'.*ed$', 'VERB'),                                                 # past tense\n",
    "    (r'.*es$', 'VERB'),                                                 # 3rd singular present\n",
    "    (r'.*ould$', 'VERB'),                                               # modals\n",
    "    (r'.*(ate\\b|fy\\b|ize\\b)', 'VERB'),                                  # verb like\n",
    "    (r'(\\ben|\\bem).*', 'VERB'),                                         # verb like\n",
    "    (r'.*ness$', 'NOUN'),                                               # nouns formed from adjectives\n",
    "    (r'.*(ion\\b|ty\\b|ics\\b|ment\\b|ence\\b|ance\\b|ist\\b|ism\\b)', 'NOUN'), # noun Like\n",
    "    (r'.*\\'s$', 'NOUN'),                                                # possessive nouns\n",
    "    (r'.*s$', 'NOUN'),                                                  # plural nouns\n",
    "    (r'^-?[0-9]+(.[0-9]+)?$', 'NUM'),                                   # cardinal numbers\n",
    "    (r'^-?[0-9]+(.[0-9]+)?.*', 'NUM'),                                  # cardinal numbers\n",
    "    (r'.*able$', 'ADJ'),                                                # adjectives\n",
    "    (r'(\\bun|\\bin|\\bnon).*', 'ADJ'),                                    # adjective like\n",
    "    (r'.*(ble\\b|ry\\b|ish\\b|ious\\b|ical\\b)', 'ADJ'),                     # adjective like\n",
    "    (r'.*ly$', 'ADV'),                                                  # adverbs\n",
    "    (r'.*', 'UNK')                                                      # unknown words (default)\n",
    "]"
   ]
  },
  {
   "cell_type": "markdown",
   "metadata": {},
   "source": [
    "#### UDF for tagging unknown words"
   ]
  },
  {
   "cell_type": "code",
   "execution_count": 49,
   "metadata": {},
   "outputs": [],
   "source": [
    "# The function will use a regexp tagger to tag unknown words \n",
    "# in the case of regexp tagger returns 'UNK' to denote unknown words\n",
    "# the default tag passed will be used.\n",
    "def tag_unknown_word(word, default_tag='UNK', pat=patterns):\n",
    "        main_tagger = nltk.RegexpTagger(pat)\n",
    "        tag = main_tagger.tag([word.lower()])[0][1]\n",
    "        if tag == 'UNK':\n",
    "            tag = default_tag\n",
    "        return tag "
   ]
  },
  {
   "cell_type": "markdown",
   "metadata": {},
   "source": [
    "Testing udf tag_unknown_word"
   ]
  },
  {
   "cell_type": "code",
   "execution_count": 50,
   "metadata": {},
   "outputs": [
    {
     "name": "stdout",
     "output_type": "stream",
     "text": [
      "2015 NUM\n",
      "GOOGLE NOUN\n",
      "SHOULD VERB\n",
      "giddiness NOUN\n",
      "station NOUN\n",
      "congrajulate VERB\n",
      "entropy VERB\n",
      "21st NUM\n",
      "11th NUM\n",
      "hundred NUM\n",
      "octodecillion NUM\n",
      "seven-million-ton NUM\n"
     ]
    }
   ],
   "source": [
    "print('2015', tag_unknown_word('2015'))\n",
    "print('GOOGLE', tag_unknown_word('GOOGLE', 'NOUN'))\n",
    "print('SHOULD', tag_unknown_word('SHOULD'))\n",
    "print('giddiness', tag_unknown_word('giddiness'))\n",
    "print('station', tag_unknown_word('station'))\n",
    "print('congrajulate', tag_unknown_word('congrajulate'))\n",
    "print('entropy', tag_unknown_word('entropy'))\n",
    "print('21st', tag_unknown_word('21st'))\n",
    "print('11th', tag_unknown_word('11th'))\n",
    "print('hundred', tag_unknown_word('hundred'))\n",
    "print('octodecillion', tag_unknown_word('octodecillion'))\n",
    "print('seven-million-ton', tag_unknown_word('seven-million-ton'))"
   ]
  },
  {
   "cell_type": "markdown",
   "metadata": {},
   "source": [
    "#### Modify Viterbi Algorithm, to use the combined solution of technique 1 and 2 for unknown words"
   ]
  },
  {
   "cell_type": "code",
   "execution_count": 51,
   "metadata": {},
   "outputs": [],
   "source": [
    "# Viterbi Heuristic with unknown word handling version 2 \n",
    "# this function will tag the unknown words with regexp tagger\n",
    "# and if still unknown then will use the most common tag as the tag for unknown words\n",
    "def Viterbi_v2(words, train_bag = train_tagged_words):\n",
    "    state = []\n",
    "    T = list(set([pair[1] for pair in train_bag]))\n",
    "    \n",
    "    for key, word in enumerate(words):\n",
    "        #initialise list of probability column for a given observation\n",
    "        p = []\n",
    "        trans_prob = []\n",
    "        for tag in T:\n",
    "            if key == 0:\n",
    "                transition_p = tags_df.loc['.', tag]\n",
    "            else:\n",
    "                transition_p = tags_df.loc[state[-1], tag]\n",
    "                \n",
    "            # compute emission and state probabilities\n",
    "            emission_p = word_given_tag(words[key], tag)[0]/word_given_tag(words[key], tag)[1]\n",
    "            state_probability = emission_p * transition_p  \n",
    "            \n",
    "            # add the state probablitiy to lit of probablities\n",
    "            # we will take the maximum probablity from this collection\n",
    "            p.append(state_probability)\n",
    "            \n",
    "            # Add the transition probablity to a list \n",
    "            # In the case of unknown words this will be\n",
    "            # used to set max transition probability as state probability.\n",
    "            trans_prob.append(transition_p)\n",
    "            \n",
    "        pmax = max(p)\n",
    "        \n",
    "        # getting state for which probability is maximum\n",
    "        if pmax == 0.0: # Handle unknown words\n",
    "            \n",
    "            # first set the most common tag as default tag\n",
    "            default_tag = T[trans_prob.index(max(trans_prob))]\n",
    "            \n",
    "            # now try tagging the word with regexp tagger\n",
    "            # if not succesfull use the most common tag\n",
    "            state_max = tag_unknown_word(words[key], default_tag)\n",
    "            \n",
    "            #print(default_tag, words[key], state_max)\n",
    "        else:\n",
    "            state_max = T[p.index(pmax)]\n",
    "        \n",
    "        state.append(state_max)\n",
    "    return list(zip(words, state))"
   ]
  },
  {
   "cell_type": "markdown",
   "metadata": {},
   "source": [
    "Run a simple test case first"
   ]
  },
  {
   "cell_type": "code",
   "execution_count": 52,
   "metadata": {},
   "outputs": [
    {
     "name": "stdout",
     "output_type": "stream",
     "text": [
      "Google and Twitter made a deal in 2015.\n",
      "[('Google', 'NOUN'), ('and', 'CONJ'), ('Twitter', 'NOUN'), ('made', 'VERB'), ('a', 'DET'), ('deal', 'NOUN'), ('in', 'ADP'), ('2015', 'NUM'), ('.', '.')]\n"
     ]
    }
   ],
   "source": [
    "sentence_test = 'Google and Twitter made a deal in 2015.'\n",
    "print(sentence_test)\n",
    "\n",
    "words = word_tokenize(sentence_test)\n",
    "tagged_seq_v1 = Viterbi_v2(words)\n",
    "\n",
    "print(tagged_seq_v1)"
   ]
  },
  {
   "cell_type": "markdown",
   "metadata": {},
   "source": [
    "### Evaluating tagging accuracy"
   ]
  },
  {
   "cell_type": "markdown",
   "metadata": {},
   "source": [
    "###### Evaluating - Technique-1\n",
    "- Tagging the test sentences using Viterbi Modification - Technique-1\n",
    "- Calculating accuracy of Technique 1"
   ]
  },
  {
   "cell_type": "code",
   "execution_count": 53,
   "metadata": {},
   "outputs": [
    {
     "name": "stdout",
     "output_type": "stream",
     "text": [
      "Time taken in seconds:  55.417829751968384\n",
      "[('Shearson', 'NOUN'), ('``', '.'), ('really', 'ADV'), ('only', 'ADV'), ('has', 'VERB'), ('$', '.'), ('300', 'NUM'), ('million', 'NUM'), ('*U*', 'X'), ('of', 'ADP'), ('capital', 'NOUN'), (',', '.'), (\"''\", '.'), ('says', 'VERB'), ('*T*-1', 'X'), ('Mr.', 'NOUN'), ('Bowman', 'NOUN'), ('of', 'ADP'), ('S&P', 'NOUN'), ('.', '.'), ('ShareData', 'NOUN'), ('develops', 'NOUN'), ('and', 'CONJ'), ('markets', 'NOUN'), ('low-cost', 'NOUN'), ('software', 'NOUN'), (',', '.'), ('peripheral', 'ADJ'), ('equipment', 'NOUN'), ('and', 'CONJ'), ('accessories', 'NOUN'), ('for', 'ADP'), ('computers', 'NOUN'), ('.', '.'), ('Moscow', 'NOUN'), ('has', 'VERB'), ('settled', 'VERB'), ('pre-1917', 'X'), ('debts', 'NOUN'), ('with', 'ADP'), ('other', 'ADJ'), ('countries', 'NOUN'), ('in', 'ADP'), ('recent', 'ADJ'), ('years', 'NOUN'), ('at', 'ADP'), ('less', 'ADJ'), ('than', 'ADP'), ('face', 'NOUN'), ('value', 'NOUN'), ('.', '.'), ('When', 'ADV'), ('test', 'VERB'), ('booklets', 'NOUN'), ('were', 'VERB'), ('passed', 'VERB'), ('*-1', 'X'), ('out', 'PRT'), ('48', 'NUM'), ('hours', 'NOUN'), ('ahead', 'ADV'), ('of', 'ADP'), ('time', 'NOUN'), ('*T*-2', 'X'), (',', '.'), ('she', 'PRON'), ('says', 'VERB'), ('0', 'X'), ('she', 'PRON'), ('copied', 'VERB'), ('questions', 'NOUN'), ('in', 'ADP'), ('the', 'DET'), ('social', 'ADJ'), ('studies', 'NOUN'), ('section', 'NOUN'), ('and', 'CONJ'), ('gave', 'VERB'), ('the', 'DET'), ('answers', 'NOUN'), ('to', 'PRT'), ('students', 'NOUN'), ('.', '.'), ('The', 'DET'), ('Life', 'NOUN'), ('Insurance', 'NOUN'), ('Co.', 'NOUN'), ('of', 'ADP'), ('Georgia', 'NOUN'), ('has', 'VERB'), ('officially', 'ADV'), ('opened', 'VERB'), ('an', 'DET'), ('office', 'NOUN'), ('in', 'ADP'), ('Taipei', 'NOUN'), ('.', '.'), ('Big', 'NOUN'), ('Board', 'NOUN'), ('volume', 'NOUN'), ('totaled', 'VERB'), ('154.2', 'X'), ('million', 'NUM'), ('shares', 'NOUN'), ('.', '.'), ('All', 'DET'), ('of', 'ADP'), ('this', 'DET'), ('must', 'VERB'), ('have', 'VERB'), ('been', 'VERB'), ('enormously', 'X'), ('frustrating', 'VERB'), ('to', 'PRT'), ('Mr.', 'NOUN'), ('Katzenstein', 'NOUN'), (',', '.'), ('who', 'PRON'), ('*T*-59', 'X'), ('went', 'VERB'), ('to', 'PRT'), ('Sony', 'NOUN'), ('with', 'ADP'), ('degrees', 'NOUN'), ('in', 'ADP'), ('business', 'NOUN'), ('and', 'CONJ'), ('computer', 'NOUN'), ('science', 'NOUN'), ('and', 'CONJ'), ('was', 'VERB'), ('raring', 'X'), ('*-1', 'X'), ('to', 'PRT'), ('invent', 'VERB'), ('another', 'DET'), ('Walkman', 'NOUN'), ('.', '.'), ('USX', 'NOUN'), ('announced', 'VERB'), ('in', 'ADP'), ('October', 'NOUN'), ('that', 'ADP'), ('it', 'PRON'), ('was', 'VERB'), ('soliciting', 'X'), ('bids', 'NOUN'), ('*', 'X'), ('to', 'PRT'), ('sell', 'VERB'), ('TXO', 'X'), (\"'s\", 'PRT'), ('oil', 'NOUN'), ('and', 'CONJ'), ('gas', 'NOUN'), ('reserves', 'NOUN'), ('.', '.'), ('That', 'DET'), ('followed', 'VERB'), ('four', 'NUM'), ('straight', 'ADJ'), ('months', 'NOUN'), ('in', 'ADP'), ('which', 'DET'), ('the', 'DET'), ('number', 'NOUN'), ('of', 'ADP'), ('increases', 'NOUN'), ('trailed', 'VERB'), ('the', 'DET'), ('year-earlier', 'ADJ'), ('pace', 'NOUN'), ('*T*-1', 'X'), ('.', '.'), ('Imports', 'NOUN'), ('of', 'ADP'), ('manmade-fiber', 'DET'), ('sweaters', 'NOUN'), ('in', 'ADP'), ('1988', 'NUM'), ('totaled', 'VERB'), ('about', 'ADP'), ('$', '.'), ('405', 'NOUN'), ('million', 'NUM'), ('*U*', 'X'), ('from', 'ADP'), ('Taiwan', 'NOUN'), (',', '.'), ('$', '.'), ('400', 'NUM'), ('million', 'NUM'), ('*U*', 'X'), ('from', 'ADP'), ('South', 'NOUN'), ('Korea', 'NOUN'), ('and', 'CONJ'), ('$', '.'), ('125', 'NUM'), ('million', 'NUM'), ('*U*', 'X'), ('from', 'ADP'), ('Hong', 'NOUN'), ('Kong', 'NOUN'), (',', '.'), ('according', 'VERB'), ('to', 'PRT'), ('the', 'DET'), ('ITC', 'NOUN'), ('.', '.')]\n"
     ]
    }
   ],
   "source": [
    "# Tagging the test sentences using Technique-1\n",
    "start = time.time()\n",
    "tagged_seq_v1 = Viterbi_v1(test_tagged_words)\n",
    "end = time.time()\n",
    "difference = end-start\n",
    "print(\"Time taken in seconds: \", difference)\n",
    "\n",
    "print(tagged_seq_v1)\n",
    "\n",
    "# accuracy\n",
    "check_v1 = [i for i, j in zip(tagged_seq_v1, test_run_base) if i == j] \n",
    "accuracy_v1 = len(check_v1)/len(tagged_seq_v1)"
   ]
  },
  {
   "cell_type": "code",
   "execution_count": 54,
   "metadata": {},
   "outputs": [
    {
     "name": "stdout",
     "output_type": "stream",
     "text": [
      "Accuracy of Viterbi Modification-Technique-1 is ~94%\n"
     ]
    }
   ],
   "source": [
    "print(f'Accuracy of Viterbi Modification-Technique-1 is ~{round(accuracy_v1*100)}%')"
   ]
  },
  {
   "cell_type": "markdown",
   "metadata": {},
   "source": [
    "Get incorrectly tagged words"
   ]
  },
  {
   "cell_type": "code",
   "execution_count": 55,
   "metadata": {
    "scrolled": true
   },
   "outputs": [
    {
     "name": "stdout",
     "output_type": "stream",
     "text": [
      "Incorrectly tagged cases by Viterbi Modification-Technique-1: \n",
      "[[('ShareData', 'NOUN'), (('develops', 'NOUN'), ('develops', 'VERB'))], [('and', 'CONJ'), (('markets', 'NOUN'), ('markets', 'VERB'))], [('markets', 'VERB'), (('low-cost', 'NOUN'), ('low-cost', 'ADJ'))], [('settled', 'VERB'), (('pre-1917', 'X'), ('pre-1917', 'ADJ'))], [('When', 'ADV'), (('test', 'VERB'), ('test', 'NOUN'))], [('*-1', 'X'), (('out', 'PRT'), ('out', 'ADV'))], [('totaled', 'VERB'), (('154.2', 'X'), ('154.2', 'NUM'))], [('been', 'VERB'), (('enormously', 'X'), ('enormously', 'ADV'))], [('was', 'VERB'), (('raring', 'X'), ('raring', 'ADJ'))], [('was', 'VERB'), (('soliciting', 'X'), ('soliciting', 'VERB'))], [('sell', 'VERB'), (('TXO', 'X'), ('TXO', 'NOUN'))], [('of', 'ADP'), (('manmade-fiber', 'DET'), ('manmade-fiber', 'ADJ'))], [('$', '.'), (('405', 'NOUN'), ('405', 'NUM'))]]\n"
     ]
    }
   ],
   "source": [
    "incorrect_tagged_cases_v1 = [[test_run_base[i-1],j] for i, j in enumerate(zip(tagged_seq_v1, test_run_base)) if j[0]!=j[1]]\n",
    "print(f'Incorrectly tagged cases by Viterbi Modification-Technique-1: \\n{incorrect_tagged_cases_v1}')"
   ]
  },
  {
   "cell_type": "markdown",
   "metadata": {},
   "source": [
    "###### Evaluating - Technique-2\n",
    "- Tagging the test sentences using Viterbi Modification - Technique-2\n",
    "- Calculating accuracy of Technique 2"
   ]
  },
  {
   "cell_type": "code",
   "execution_count": 56,
   "metadata": {},
   "outputs": [
    {
     "name": "stdout",
     "output_type": "stream",
     "text": [
      "Time taken in seconds:  56.41321802139282\n",
      "[('Shearson', 'NOUN'), ('``', '.'), ('really', 'ADV'), ('only', 'ADV'), ('has', 'VERB'), ('$', '.'), ('300', 'NUM'), ('million', 'NUM'), ('*U*', 'X'), ('of', 'ADP'), ('capital', 'NOUN'), (',', '.'), (\"''\", '.'), ('says', 'VERB'), ('*T*-1', 'X'), ('Mr.', 'NOUN'), ('Bowman', 'NOUN'), ('of', 'ADP'), ('S&P', 'NOUN'), ('.', '.'), ('ShareData', 'NOUN'), ('develops', 'NOUN'), ('and', 'CONJ'), ('markets', 'NOUN'), ('low-cost', 'NOUN'), ('software', 'NOUN'), (',', '.'), ('peripheral', 'ADJ'), ('equipment', 'NOUN'), ('and', 'CONJ'), ('accessories', 'NOUN'), ('for', 'ADP'), ('computers', 'NOUN'), ('.', '.'), ('Moscow', 'NOUN'), ('has', 'VERB'), ('settled', 'VERB'), ('pre-1917', 'X'), ('debts', 'NOUN'), ('with', 'ADP'), ('other', 'ADJ'), ('countries', 'NOUN'), ('in', 'ADP'), ('recent', 'ADJ'), ('years', 'NOUN'), ('at', 'ADP'), ('less', 'ADJ'), ('than', 'ADP'), ('face', 'NOUN'), ('value', 'NOUN'), ('.', '.'), ('When', 'ADV'), ('test', 'VERB'), ('booklets', 'NOUN'), ('were', 'VERB'), ('passed', 'VERB'), ('*-1', 'X'), ('out', 'PRT'), ('48', 'NUM'), ('hours', 'NOUN'), ('ahead', 'ADV'), ('of', 'ADP'), ('time', 'NOUN'), ('*T*-2', 'X'), (',', '.'), ('she', 'PRON'), ('says', 'VERB'), ('0', 'X'), ('she', 'PRON'), ('copied', 'VERB'), ('questions', 'NOUN'), ('in', 'ADP'), ('the', 'DET'), ('social', 'ADJ'), ('studies', 'NOUN'), ('section', 'NOUN'), ('and', 'CONJ'), ('gave', 'VERB'), ('the', 'DET'), ('answers', 'NOUN'), ('to', 'PRT'), ('students', 'NOUN'), ('.', '.'), ('The', 'DET'), ('Life', 'NOUN'), ('Insurance', 'NOUN'), ('Co.', 'NOUN'), ('of', 'ADP'), ('Georgia', 'NOUN'), ('has', 'VERB'), ('officially', 'ADV'), ('opened', 'VERB'), ('an', 'DET'), ('office', 'NOUN'), ('in', 'ADP'), ('Taipei', 'NOUN'), ('.', '.'), ('Big', 'NOUN'), ('Board', 'NOUN'), ('volume', 'NOUN'), ('totaled', 'VERB'), ('154.2', 'NUM'), ('million', 'NUM'), ('shares', 'NOUN'), ('.', '.'), ('All', 'DET'), ('of', 'ADP'), ('this', 'DET'), ('must', 'VERB'), ('have', 'VERB'), ('been', 'VERB'), ('enormously', 'VERB'), ('frustrating', 'VERB'), ('to', 'PRT'), ('Mr.', 'NOUN'), ('Katzenstein', 'NOUN'), (',', '.'), ('who', 'PRON'), ('*T*-59', 'X'), ('went', 'VERB'), ('to', 'PRT'), ('Sony', 'NOUN'), ('with', 'ADP'), ('degrees', 'NOUN'), ('in', 'ADP'), ('business', 'NOUN'), ('and', 'CONJ'), ('computer', 'NOUN'), ('science', 'NOUN'), ('and', 'CONJ'), ('was', 'VERB'), ('raring', 'VERB'), ('*-1', 'X'), ('to', 'PRT'), ('invent', 'ADJ'), ('another', 'DET'), ('Walkman', 'NOUN'), ('.', '.'), ('USX', 'NOUN'), ('announced', 'VERB'), ('in', 'ADP'), ('October', 'NOUN'), ('that', 'ADP'), ('it', 'PRON'), ('was', 'VERB'), ('soliciting', 'VERB'), ('bids', 'NOUN'), ('*', 'X'), ('to', 'PRT'), ('sell', 'VERB'), ('TXO', 'X'), (\"'s\", 'PRT'), ('oil', 'NOUN'), ('and', 'CONJ'), ('gas', 'NOUN'), ('reserves', 'NOUN'), ('.', '.'), ('That', 'DET'), ('followed', 'VERB'), ('four', 'NUM'), ('straight', 'ADJ'), ('months', 'NOUN'), ('in', 'ADP'), ('which', 'DET'), ('the', 'DET'), ('number', 'NOUN'), ('of', 'ADP'), ('increases', 'NOUN'), ('trailed', 'VERB'), ('the', 'DET'), ('year-earlier', 'ADJ'), ('pace', 'NOUN'), ('*T*-1', 'X'), ('.', '.'), ('Imports', 'NOUN'), ('of', 'ADP'), ('manmade-fiber', 'DET'), ('sweaters', 'NOUN'), ('in', 'ADP'), ('1988', 'NUM'), ('totaled', 'VERB'), ('about', 'ADP'), ('$', '.'), ('405', 'NUM'), ('million', 'NUM'), ('*U*', 'X'), ('from', 'ADP'), ('Taiwan', 'NOUN'), (',', '.'), ('$', '.'), ('400', 'NUM'), ('million', 'NUM'), ('*U*', 'X'), ('from', 'ADP'), ('South', 'NOUN'), ('Korea', 'NOUN'), ('and', 'CONJ'), ('$', '.'), ('125', 'NUM'), ('million', 'NUM'), ('*U*', 'X'), ('from', 'ADP'), ('Hong', 'NOUN'), ('Kong', 'NOUN'), (',', '.'), ('according', 'VERB'), ('to', 'PRT'), ('the', 'DET'), ('ITC', 'NOUN'), ('.', '.')]\n"
     ]
    }
   ],
   "source": [
    "# Tagging the test sentences using Technique-1\n",
    "start = time.time()\n",
    "tagged_seq_v2 = Viterbi_v2(test_tagged_words)\n",
    "end = time.time()\n",
    "difference = end-start\n",
    "print(\"Time taken in seconds: \", difference)\n",
    "\n",
    "print(tagged_seq_v2)\n",
    "\n",
    "# accuracy\n",
    "check_v2 = [i for i, j in zip(tagged_seq_v2, test_run_base) if i == j] \n",
    "accuracy_v2 = len(check_v2)/len(tagged_seq_v2)"
   ]
  },
  {
   "cell_type": "code",
   "execution_count": 57,
   "metadata": {
    "scrolled": true
   },
   "outputs": [
    {
     "name": "stdout",
     "output_type": "stream",
     "text": [
      "Accuracy of Viterbi Modification-Technique-2 is ~95%\n"
     ]
    }
   ],
   "source": [
    "print(f'Accuracy of Viterbi Modification-Technique-2 is ~{round(accuracy_v2*100)}%')"
   ]
  },
  {
   "cell_type": "markdown",
   "metadata": {},
   "source": [
    "Get incorrectly tagged words"
   ]
  },
  {
   "cell_type": "code",
   "execution_count": 58,
   "metadata": {
    "scrolled": true
   },
   "outputs": [
    {
     "name": "stdout",
     "output_type": "stream",
     "text": [
      "Incorrectly tagged cases by Viterbi Modification-Technique-2: \n",
      "[[('ShareData', 'NOUN'), (('develops', 'NOUN'), ('develops', 'VERB'))], [('and', 'CONJ'), (('markets', 'NOUN'), ('markets', 'VERB'))], [('markets', 'VERB'), (('low-cost', 'NOUN'), ('low-cost', 'ADJ'))], [('settled', 'VERB'), (('pre-1917', 'X'), ('pre-1917', 'ADJ'))], [('When', 'ADV'), (('test', 'VERB'), ('test', 'NOUN'))], [('*-1', 'X'), (('out', 'PRT'), ('out', 'ADV'))], [('been', 'VERB'), (('enormously', 'VERB'), ('enormously', 'ADV'))], [('was', 'VERB'), (('raring', 'VERB'), ('raring', 'ADJ'))], [('to', 'PRT'), (('invent', 'ADJ'), ('invent', 'VERB'))], [('sell', 'VERB'), (('TXO', 'X'), ('TXO', 'NOUN'))], [('of', 'ADP'), (('manmade-fiber', 'DET'), ('manmade-fiber', 'ADJ'))]]\n"
     ]
    }
   ],
   "source": [
    "incorrect_tagged_cases_v2 = [[test_run_base[i-1],j] for i, j in enumerate(zip(tagged_seq_v2, test_run_base)) if j[0]!=j[1]]\n",
    "print(f'Incorrectly tagged cases by Viterbi Modification-Technique-2: \\n{incorrect_tagged_cases_v2}')"
   ]
  },
  {
   "cell_type": "markdown",
   "metadata": {},
   "source": [
    "## Compare the tagging accuracies of the modifications with the vanilla Viterbi algorithm"
   ]
  },
  {
   "cell_type": "markdown",
   "metadata": {},
   "source": [
    "#### Between 'Vanilla Viterbi algorithm' and 'Technique-1'"
   ]
  },
  {
   "cell_type": "code",
   "execution_count": 59,
   "metadata": {},
   "outputs": [
    {
     "name": "stdout",
     "output_type": "stream",
     "text": [
      "Improvement of Technique-1 compared to Vanilla algorithm: 2.86%\n"
     ]
    }
   ],
   "source": [
    "# Percentage improvement between Vanilla Viterbi algorithm and Technique 1\n",
    "print(f'Improvement of Technique-1 compared to Vanilla algorithm: {round((accuracy_v1 - accuracy) * 100, 2)}%')"
   ]
  },
  {
   "cell_type": "markdown",
   "metadata": {},
   "source": [
    "#### Between 'Vanilla Viterbi algorithm' and 'Technique-2'"
   ]
  },
  {
   "cell_type": "code",
   "execution_count": 60,
   "metadata": {},
   "outputs": [
    {
     "name": "stdout",
     "output_type": "stream",
     "text": [
      "Improvement of Technique-2 compared to Vanilla algorithm: 3.81%\n"
     ]
    }
   ],
   "source": [
    "# Percentage improvement between Vanilla Viterbi algorithm and Technique 2\n",
    "print(f'Improvement of Technique-2 compared to Vanilla algorithm: {round((accuracy_v2 - accuracy) * 100, 2)}%')"
   ]
  },
  {
   "cell_type": "markdown",
   "metadata": {},
   "source": [
    "#### Between 'Technique-1' and 'Technique-2'"
   ]
  },
  {
   "cell_type": "code",
   "execution_count": 61,
   "metadata": {},
   "outputs": [
    {
     "name": "stdout",
     "output_type": "stream",
     "text": [
      "Improvement of Technique-1 compared to Technique-2: 0.95%\n"
     ]
    }
   ],
   "source": [
    "# Percentage improvement between Technique-1 and Technique 2\n",
    "print(f'Improvement of Technique-1 compared to Technique-2: {round((accuracy_v2 - accuracy_v1) * 100, 2)}%')"
   ]
  },
  {
   "cell_type": "markdown",
   "metadata": {},
   "source": [
    "## List down cases which were incorrectly tagged by original POS tagger and got corrected by your modifications"
   ]
  },
  {
   "cell_type": "markdown",
   "metadata": {},
   "source": [
    "#### Following are the cases from validaiton that was incorrectly tagged by original POS tagger and got corrected by the modifications "
   ]
  },
  {
   "cell_type": "markdown",
   "metadata": {},
   "source": [
    "Cases got corrected by Viterbi Modification-Technique 1"
   ]
  },
  {
   "cell_type": "code",
   "execution_count": 62,
   "metadata": {},
   "outputs": [
    {
     "name": "stdout",
     "output_type": "stream",
     "text": [
      "(('develops', 'PRT'), ('develops', 'VERB'))\n",
      "(('low-cost', 'PRT'), ('low-cost', 'ADJ'))\n",
      "(('pre-1917', 'PRT'), ('pre-1917', 'ADJ'))\n",
      "('she', 'PRON')\n",
      "(('copied', 'PRT'), ('copied', 'VERB'))\n",
      "(('154.2', 'PRT'), ('154.2', 'NUM'))\n",
      "(('enormously', 'PRT'), ('enormously', 'ADV'))\n",
      "('enormously', 'ADV')\n",
      "(('frustrating', 'PRT'), ('frustrating', 'VERB'))\n",
      "('computer', 'NOUN')\n",
      "(('science', 'PRT'), ('science', 'NOUN'))\n",
      "(('raring', 'PRT'), ('raring', 'ADJ'))\n",
      "('to', 'PRT')\n",
      "(('invent', 'PRT'), ('invent', 'VERB'))\n",
      "('another', 'DET')\n",
      "(('Walkman', 'PRT'), ('Walkman', 'NOUN'))\n",
      "(('soliciting', 'PRT'), ('soliciting', 'VERB'))\n",
      "(('TXO', 'PRT'), ('TXO', 'NOUN'))\n",
      "('TXO', 'NOUN')\n",
      "((\"'s\", 'VERB'), (\"'s\", 'PRT'))\n",
      "(('manmade-fiber', 'PRT'), ('manmade-fiber', 'ADJ'))\n",
      "(('405', 'PRT'), ('405', 'NUM'))\n"
     ]
    }
   ],
   "source": [
    "for cases in incorrect_tagged_cases:\n",
    "    for case in cases:\n",
    "        found = False\n",
    "        for v1_cases in incorrect_tagged_cases_v1:\n",
    "            if case in v1_cases:\n",
    "                found = True\n",
    "                break\n",
    "        if found == False:\n",
    "            print(case)"
   ]
  },
  {
   "cell_type": "markdown",
   "metadata": {},
   "source": [
    "Cases got corrected by Viterbi Modification-Technique 2"
   ]
  },
  {
   "cell_type": "code",
   "execution_count": 63,
   "metadata": {},
   "outputs": [
    {
     "name": "stdout",
     "output_type": "stream",
     "text": [
      "(('develops', 'PRT'), ('develops', 'VERB'))\n",
      "(('low-cost', 'PRT'), ('low-cost', 'ADJ'))\n",
      "(('pre-1917', 'PRT'), ('pre-1917', 'ADJ'))\n",
      "('she', 'PRON')\n",
      "(('copied', 'PRT'), ('copied', 'VERB'))\n",
      "('totaled', 'VERB')\n",
      "(('154.2', 'PRT'), ('154.2', 'NUM'))\n",
      "(('enormously', 'PRT'), ('enormously', 'ADV'))\n",
      "('enormously', 'ADV')\n",
      "(('frustrating', 'PRT'), ('frustrating', 'VERB'))\n",
      "('computer', 'NOUN')\n",
      "(('science', 'PRT'), ('science', 'NOUN'))\n",
      "(('raring', 'PRT'), ('raring', 'ADJ'))\n",
      "(('invent', 'PRT'), ('invent', 'VERB'))\n",
      "('another', 'DET')\n",
      "(('Walkman', 'PRT'), ('Walkman', 'NOUN'))\n",
      "(('soliciting', 'PRT'), ('soliciting', 'VERB'))\n",
      "(('TXO', 'PRT'), ('TXO', 'NOUN'))\n",
      "('TXO', 'NOUN')\n",
      "((\"'s\", 'VERB'), (\"'s\", 'PRT'))\n",
      "(('manmade-fiber', 'PRT'), ('manmade-fiber', 'ADJ'))\n",
      "('$', '.')\n",
      "(('405', 'PRT'), ('405', 'NUM'))\n"
     ]
    }
   ],
   "source": [
    "for cases in incorrect_tagged_cases:\n",
    "    for case in cases:\n",
    "        found = False\n",
    "        for v1_cases in incorrect_tagged_cases_v2:\n",
    "            if case in v1_cases:\n",
    "                found = True\n",
    "                break\n",
    "        if found == False:\n",
    "            print(case)"
   ]
  },
  {
   "cell_type": "markdown",
   "metadata": {},
   "source": [
    "#### Finally test the loaded sentences with the modified algorithm (Viterbi Modification-Technique 2)"
   ]
  },
  {
   "cell_type": "code",
   "execution_count": 64,
   "metadata": {
    "scrolled": false
   },
   "outputs": [
    {
     "name": "stdout",
     "output_type": "stream",
     "text": [
      "Android is a mobile operating system developed by Google.\n",
      "[('Android', 'NOUN'), ('is', 'VERB'), ('a', 'DET'), ('mobile', 'ADJ'), ('operating', 'NOUN'), ('system', 'NOUN'), ('developed', 'VERB'), ('by', 'ADP'), ('Google', 'DET'), ('.', '.')]\n",
      "Time Taken in seconds =  2.615384817123413 \n",
      "\n",
      "Android has been the best-selling OS worldwide on smartphones since 2011 and on tablets since 2013.\n",
      "[('Android', 'NOUN'), ('has', 'VERB'), ('been', 'VERB'), ('the', 'DET'), ('best-selling', 'ADJ'), ('OS', 'NOUN'), ('worldwide', 'NOUN'), ('on', 'ADP'), ('smartphones', 'VERB'), ('since', 'ADP'), ('2011', 'NUM'), ('and', 'CONJ'), ('on', 'ADP'), ('tablets', 'NOUN'), ('since', 'ADP'), ('2013', 'NUM'), ('.', '.')]\n",
      "Time Taken in seconds =  5.016906261444092 \n",
      "\n",
      "Google and Twitter made a deal in 2015 that gave Google access to Twitter's firehose.\n",
      "[('Google', 'NOUN'), ('and', 'CONJ'), ('Twitter', 'NOUN'), ('made', 'VERB'), ('a', 'DET'), ('deal', 'NOUN'), ('in', 'ADP'), ('2015', 'NUM'), ('that', 'ADP'), ('gave', 'VERB'), ('Google', 'X'), ('access', 'NOUN'), ('to', 'PRT'), ('Twitter', 'VERB'), (\"'s\", 'PRT'), ('firehose', 'VERB'), ('.', '.')]\n",
      "Time Taken in seconds =  5.471625804901123 \n",
      "\n",
      "Twitter is an online news and social networking service on which users post and interact with messages known as tweets.\n",
      "[('Twitter', 'NOUN'), ('is', 'VERB'), ('an', 'DET'), ('online', 'NOUN'), ('news', 'NOUN'), ('and', 'CONJ'), ('social', 'ADJ'), ('networking', 'NOUN'), ('service', 'NOUN'), ('on', 'ADP'), ('which', 'DET'), ('users', 'NOUN'), ('post', 'NOUN'), ('and', 'CONJ'), ('interact', 'ADJ'), ('with', 'ADP'), ('messages', 'VERB'), ('known', 'VERB'), ('as', 'ADP'), ('tweets', 'NOUN'), ('.', '.')]\n",
      "Time Taken in seconds =  5.27574896812439 \n",
      "\n",
      "Before entering politics, Donald Trump was a domineering businessman and a television personality.\n",
      "[('Before', 'ADP'), ('entering', 'VERB'), ('politics', 'NOUN'), (',', '.'), ('Donald', 'NOUN'), ('Trump', 'NOUN'), ('was', 'VERB'), ('a', 'DET'), ('domineering', 'VERB'), ('businessman', 'NOUN'), ('and', 'CONJ'), ('a', 'DET'), ('television', 'NOUN'), ('personality', 'NOUN'), ('.', '.')]\n",
      "Time Taken in seconds =  3.560803174972534 \n",
      "\n",
      "The 2018 FIFA World Cup is the 21st FIFA World Cup, an international football tournament contested once every four years.\n",
      "[('The', 'DET'), ('2018', 'NUM'), ('FIFA', 'NOUN'), ('World', 'NOUN'), ('Cup', 'NOUN'), ('is', 'VERB'), ('the', 'DET'), ('21st', 'NUM'), ('FIFA', 'NOUN'), ('World', 'NOUN'), ('Cup', 'NOUN'), (',', '.'), ('an', 'DET'), ('international', 'ADJ'), ('football', 'NOUN'), ('tournament', 'NOUN'), ('contested', 'VERB'), ('once', 'ADV'), ('every', 'DET'), ('four', 'NUM'), ('years', 'NOUN'), ('.', '.')]\n",
      "Time Taken in seconds =  5.6974873542785645 \n",
      "\n",
      "This is the first World Cup to be held in Eastern Europe and the 11th time that it has been held in Europe.\n",
      "[('This', 'DET'), ('is', 'VERB'), ('the', 'DET'), ('first', 'ADJ'), ('World', 'NOUN'), ('Cup', 'NOUN'), ('to', 'PRT'), ('be', 'VERB'), ('held', 'VERB'), ('in', 'ADP'), ('Eastern', 'NOUN'), ('Europe', 'NOUN'), ('and', 'CONJ'), ('the', 'DET'), ('11th', 'ADJ'), ('time', 'NOUN'), ('that', 'ADP'), ('it', 'PRON'), ('has', 'VERB'), ('been', 'VERB'), ('held', 'VERB'), ('in', 'ADP'), ('Europe', 'NOUN'), ('.', '.')]\n",
      "Time Taken in seconds =  5.98331093788147 \n",
      "\n",
      "Show me the cheapest round trips from Dallas to Atlanta\n",
      "[('Show', 'NOUN'), ('me', 'PRON'), ('the', 'DET'), ('cheapest', 'ADJ'), ('round', 'NOUN'), ('trips', 'NOUN'), ('from', 'ADP'), ('Dallas', 'NOUN'), ('to', 'PRT'), ('Atlanta', 'NOUN')]\n",
      "Time Taken in seconds =  2.469477415084839 \n",
      "\n",
      "I would like to see flights from Denver to Philadelphia.\n",
      "[('I', 'PRON'), ('would', 'VERB'), ('like', 'ADP'), ('to', 'PRT'), ('see', 'VERB'), ('flights', 'NOUN'), ('from', 'ADP'), ('Denver', 'NOUN'), ('to', 'PRT'), ('Philadelphia', 'NOUN'), ('.', '.')]\n",
      "Time Taken in seconds =  2.8832225799560547 \n",
      "\n",
      "Show me the price of the flights leaving Atlanta at about 3 in the afternoon and arriving in San Francisco.\n",
      "[('Show', 'NOUN'), ('me', 'PRON'), ('the', 'DET'), ('price', 'NOUN'), ('of', 'ADP'), ('the', 'DET'), ('flights', 'NOUN'), ('leaving', 'VERB'), ('Atlanta', 'NOUN'), ('at', 'ADP'), ('about', 'ADP'), ('3', 'NUM'), ('in', 'ADP'), ('the', 'DET'), ('afternoon', 'NOUN'), ('and', 'CONJ'), ('arriving', 'VERB'), ('in', 'ADP'), ('San', 'NOUN'), ('Francisco', 'NOUN'), ('.', '.')]\n",
      "Time Taken in seconds =  5.926344633102417 \n",
      "\n",
      "NASA invited social media users to experience the launch of ICESAT-2 Satellite.\n",
      "[('NASA', 'NOUN'), ('invited', 'VERB'), ('social', 'ADJ'), ('media', 'NOUN'), ('users', 'NOUN'), ('to', 'PRT'), ('experience', 'NOUN'), ('the', 'DET'), ('launch', 'NOUN'), ('of', 'ADP'), ('ICESAT-2', 'DET'), ('Satellite', 'NOUN'), ('.', '.')]\n",
      "Time Taken in seconds =  3.454867362976074 \n",
      "\n"
     ]
    }
   ],
   "source": [
    "## Testing\n",
    "for sentence_test in test_sentences[0]:\n",
    "    print(sentence_test)\n",
    "    words = word_tokenize(sentence_test)\n",
    "    start = time.time()\n",
    "    tagged_seq_tests = Viterbi_v2(words)\n",
    "    end = time.time()\n",
    "    difference = end-start\n",
    "    print(tagged_seq_tests)\n",
    "    print('Time Taken in seconds = ', difference, '\\n')"
   ]
  },
  {
   "cell_type": "markdown",
   "metadata": {},
   "source": [
    "#### Inferences"
   ]
  },
  {
   "cell_type": "markdown",
   "metadata": {},
   "source": [
    "Compared to the vanilla algorithm the accuracy of the Technique 2 version has significanlty improved."
   ]
  },
  {
   "cell_type": "markdown",
   "metadata": {},
   "source": [
    "### Following are the cases from loaded test sentences that was incorrectly tagged by original POS tagger and got corrected by the modifications.\n",
    "- '2011', '2013', '2015', '2018', '21st', '11th' \n",
    "- 'Google', 'OS', 'worldwide', 'Android', 'Twitter', 'online', 'smartphones'\n",
    "- 'interact', 'domineering', 'personality'\n",
    "- 'World', 'Cup', 'tournament', 'Eastern', 'Europe', 'FIFA', 'World', 'Cup'\n",
    "- 'contested', 'arriving', 'invited',  \n",
    "- 'San', 'Francisco', arriving', 'messages'\n",
    "- 'NASA', 'ICESAT-2', 'Satellite'"
   ]
  },
  {
   "cell_type": "code",
   "execution_count": null,
   "metadata": {},
   "outputs": [],
   "source": []
  }
 ],
 "metadata": {
  "kernelspec": {
   "display_name": "Python 3",
   "language": "python",
   "name": "python3"
  },
  "language_info": {
   "codemirror_mode": {
    "name": "ipython",
    "version": 3
   },
   "file_extension": ".py",
   "mimetype": "text/x-python",
   "name": "python",
   "nbconvert_exporter": "python",
   "pygments_lexer": "ipython3",
   "version": "3.6.5"
  }
 },
 "nbformat": 4,
 "nbformat_minor": 2
}
